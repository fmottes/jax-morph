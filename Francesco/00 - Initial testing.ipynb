{
 "cells": [
  {
   "cell_type": "code",
   "execution_count": 1,
   "id": "50938558-217f-46f3-b0c3-53ec9705a54b",
   "metadata": {},
   "outputs": [],
   "source": [
    "import jax_morph\n",
    "\n",
    "from jax_morph.datastructures import CellState, SpaceFunc\n",
    "from jax_morph.simulation import simulation, sim_trajectory\n",
    "from jax_morph.cell_division import S_cell_division\n",
    "from jax_morph.cell_growth import S_grow_cells\n",
    "\n",
    "from chem_twotypes.mechanical import S_mechmin_twotypes\n",
    "from chem_twotypes.secdiff import S_ss_chemfield\n",
    "from chem_twotypes.divrates import S_set_divrate\n",
    "\n",
    "from chem_twotypes.initial_states import init_state_grow"
   ]
  },
  {
   "cell_type": "code",
   "execution_count": 2,
   "id": "90bf3afd-5edd-4633-bc7b-2c6efb2c835e",
   "metadata": {},
   "outputs": [],
   "source": [
    "from jax_md import space"
   ]
  },
  {
   "cell_type": "code",
   "execution_count": 3,
   "id": "11d36820-5608-448e-ae17-082e00d85ee3",
   "metadata": {},
   "outputs": [],
   "source": [
    "import jax.numpy as np\n",
    "\n",
    "from jax.random import split, PRNGKey\n",
    "\n",
    "from jax.config import config\n",
    "config.update('jax_debug_nans', True)\n",
    "\n",
    "### NOTE: f32 gives > 3x speedup wrt f64\n",
    "#config.update('jax_enable_x64', True)"
   ]
  },
  {
   "cell_type": "code",
   "execution_count": 4,
   "id": "d018b093-2353-4f8e-a23a-d68fd73909c9",
   "metadata": {},
   "outputs": [],
   "source": [
    "# LIMIT GPU MEMORY TAKEN UP BY THE NOTEBOOK\n",
    "\n",
    "import os\n",
    "os.environ['XLA_PYTHON_CLIENT_MEM_FRACTION'] = '.9'\n",
    "#os.environ['XLA_PYTHON_CLIENT_PREALLOCATE'] = 'false'"
   ]
  },
  {
   "cell_type": "code",
   "execution_count": null,
   "id": "2becd38c-5dfc-4e12-951c-a80076435790",
   "metadata": {},
   "outputs": [],
   "source": []
  },
  {
   "cell_type": "markdown",
   "id": "020e0493-73d3-416b-bfdf-b29791de0ea7",
   "metadata": {},
   "source": [
    "# Model Parameters"
   ]
  },
  {
   "cell_type": "code",
   "execution_count": 5,
   "id": "7a0f4fce-33ea-4c25-82ef-9e4a91a3b684",
   "metadata": {},
   "outputs": [],
   "source": [
    "# Define parameters --blue particles are type 1, orange are type 2\n",
    "# keep type casting to place vars in gpu memory\n",
    "\n",
    "# Number of chemical signals\n",
    "n_chem = 2\n",
    "\n",
    "\n",
    "### CELL DIMENSIONS\n",
    "\n",
    "#change constants in divrate calculation if cellRad != .5 \n",
    "# always use python scalars\n",
    "cellRad = .5\n",
    "cellRadBirth = float(cellRad / np.sqrt(2))\n",
    "\n",
    "\n",
    "### DIFFUSION\n",
    "\n",
    "#possibly different diffusion and degradation for each chemical\n",
    "diffCoeff = np.ones(n_chem) #np.array([1.,1.])\n",
    "degRate = np.ones(n_chem) #np.array([1.,1.])\n",
    "\n",
    "#diffusion cutoff\n",
    "r_cutoffDiff = 5.*cellRad\n",
    "r_onsetDiff = r_cutoffDiff - .5\n",
    "\n",
    "\n",
    "### SECRETION\n",
    "\n",
    "# sec rate that gives concentration 1 at source at SS\n",
    "sec_max_unitary = 2*np.sqrt(diffCoeff*degRate)\n",
    "\n",
    "sec_max = sec_max_unitary*np.ones((n_chem,), dtype=np.float32)\n",
    "#sec_max = sec_max.at[0].set(10)\n",
    "\n",
    "sec_gamma = 1.* np.ones((n_chem,n_chem), dtype=np.float32) #was 0.01\n",
    "sec_k = np.zeros((n_chem,n_chem), dtype=np.float32) \n",
    "\n",
    "\n",
    "# GROWTH\n",
    "\n",
    "div_gamma = 1.*np.ones(n_chem, dtype=np.float32)\n",
    "div_k = 0.*np.ones(n_chem, dtype=np.float32)\n",
    "#div_k = div_k.at[0].set(5.)\n",
    "\n",
    "\n",
    "# MORSE POTENTIAL\n",
    "# always use python scalars\n",
    "alpha = 3.\n",
    "eps_TwoTwo = 2. #orange\n",
    "eps_OneOne = 2. #blue\n",
    "eps_OneTwo = 2. \n",
    "\n",
    "#morse cutoff\n",
    "r_cutoff = 4.*cellRad\n",
    "r_onset = r_cutoff - .2\n",
    "\n",
    "\n",
    "# number of gradient descent steps for Morse potential minimization\n",
    "mech_relaxation_steps = 100\n",
    "\n",
    "\n",
    "# Initialization and number of added cells. \n",
    "ncells_init = 10 #number of cells in the initial cluster\n",
    "n_ones_init = 5 #number of type-1 cell in the initail cluster\n",
    "ncells_add = 100\n",
    "#ncells_tot =  np.int16(ncells_init+ncells_add)# final number of cells\n",
    "\n",
    "assert ncells_init > n_ones_init"
   ]
  },
  {
   "cell_type": "code",
   "execution_count": 6,
   "id": "9946b1cb-a988-4e40-9ccc-7f57a4e7fef7",
   "metadata": {},
   "outputs": [],
   "source": [
    "def _maybe_array(name, value, train_params):\n",
    "    if train_params[name]:\n",
    "        return np.array(value)\n",
    "    else:\n",
    "        return value"
   ]
  },
  {
   "cell_type": "code",
   "execution_count": 7,
   "id": "d09a012f-0536-4e7d-b54d-33d48e58869a",
   "metadata": {},
   "outputs": [],
   "source": [
    "train_params = {\n",
    "    'n_chem': False,\n",
    "    \n",
    "    'sec_max': False,\n",
    "    'sec_gamma': False,\n",
    "    'sec_k' : False,\n",
    "    \n",
    "    'div_gamma' : False,\n",
    "    'div_k' : True,\n",
    "    \n",
    "    'cellRad' : False,\n",
    "    'cellRadBirth' : False,\n",
    "    \n",
    "    'diffCoeff' : False,\n",
    "    'degRate' : False,\n",
    "    'r_onsetDiff' : False,\n",
    "    'r_cutoffDiff' : False,\n",
    "    \n",
    "    'alpha': False, \n",
    "    'eps_TwoTwo': False, \n",
    "    'eps_OneOne' : False,\n",
    "    'eps_OneTwo' : False,\n",
    "    'r_onset' : False,\n",
    "    'r_cutoff' : False,\n",
    "    'mech_relaxation_steps' : False,\n",
    "    \n",
    "    'ncells_init' : False,\n",
    "    'n_ones_init': False, \n",
    "    #'ncells_tot': ncells_tot,\n",
    "    'ncells_add': False,\n",
    "}"
   ]
  },
  {
   "cell_type": "code",
   "execution_count": 8,
   "id": "664504b6-b601-4578-96fc-29fa52ee9ea3",
   "metadata": {},
   "outputs": [],
   "source": [
    "params = {\n",
    "    'n_chem': n_chem,\n",
    "    \n",
    "    'sec_max': sec_max,\n",
    "    'sec_gamma': sec_gamma,\n",
    "    'sec_k' : sec_k,\n",
    "    \n",
    "    'div_gamma' : div_gamma,\n",
    "    'div_k' : div_k,\n",
    "    \n",
    "    'cellRad' : cellRad,\n",
    "    'cellRadBirth' : cellRadBirth,\n",
    "    \n",
    "    'diffCoeff' : diffCoeff,\n",
    "    'degRate' : degRate,\n",
    "    'r_onsetDiff' : r_onsetDiff,\n",
    "    'r_cutoffDiff' : r_cutoffDiff,\n",
    "    \n",
    "    'alpha': _maybe_array('alpha', alpha, train_params), \n",
    "    'eps_TwoTwo': _maybe_array('eps_TwoTwo', eps_TwoTwo, train_params), \n",
    "    'eps_OneOne' : _maybe_array('eps_OneOne', eps_OneOne, train_params),\n",
    "    'eps_OneTwo' : _maybe_array('eps_OneTwo', eps_OneTwo, train_params),\n",
    "    'r_onset' : r_onset,\n",
    "    'r_cutoff' : r_cutoff,\n",
    "    'mech_relaxation_steps' : mech_relaxation_steps,\n",
    "    \n",
    "    'ncells_init' : ncells_init,\n",
    "    'n_ones_init': n_ones_init, \n",
    "    #'ncells_tot': ncells_tot,\n",
    "    'ncells_add': ncells_add,\n",
    "}"
   ]
  },
  {
   "cell_type": "code",
   "execution_count": 9,
   "id": "202ab31a-83aa-4a21-a742-4ef17f7513a6",
   "metadata": {},
   "outputs": [],
   "source": [
    "key = PRNGKey(0)"
   ]
  },
  {
   "cell_type": "markdown",
   "id": "90e1c2b3-626e-430d-8001-d6d05c82d951",
   "metadata": {},
   "source": [
    "# Simulation"
   ]
  },
  {
   "cell_type": "code",
   "execution_count": 10,
   "id": "5694d6f1-b07c-40ed-8454-fa85789adc03",
   "metadata": {},
   "outputs": [
    {
     "name": "stderr",
     "output_type": "stream",
     "text": [
      "/home/fmottes/.conda/envs/jax/lib/python3.10/site-packages/jax/_src/numpy/reductions.py:68: UserWarning: Explicitly requested dtype <class 'jax.numpy.float64'> requested in sum is not available, and will be truncated to dtype float32. To enable more dtypes, set the jax_enable_x64 configuration option or the JAX_ENABLE_X64 shell environment variable. See https://github.com/google/jax#current-gotchas for more.\n",
      "  lax_internal._check_user_dtype_supported(dtype, name)\n"
     ]
    }
   ],
   "source": [
    "# build initial state and space handling functions\n",
    "\n",
    "fspace = SpaceFunc(*space.free())\n",
    "\n",
    "key, init_key = split(key)\n",
    "# generate initial state by growing from single cell\n",
    "istate = init_state_grow(init_key, params, fspace)"
   ]
  },
  {
   "cell_type": "code",
   "execution_count": 11,
   "id": "b7af8e0c-f4c7-4fe6-b342-762b56aafc51",
   "metadata": {},
   "outputs": [],
   "source": [
    "# functions in this list will be executed in the given order\n",
    "# at each simulation step\n",
    "fstep = [\n",
    "    S_cell_division,\n",
    "    S_grow_cells,\n",
    "    S_mechmin_twotypes,\n",
    "    S_ss_chemfield,\n",
    "    S_set_divrate\n",
    "]\n",
    "\n",
    "sim_init, sim_step = simulation(fstep, params, fspace)"
   ]
  },
  {
   "cell_type": "code",
   "execution_count": 12,
   "id": "8835758e-c3a0-41a0-b27d-11eaba2d5917",
   "metadata": {},
   "outputs": [],
   "source": [
    "#initialize simulation state and advance one step\n",
    "\n",
    "state = sim_init(istate)\n",
    "\n",
    "state, logp = sim_step(state)"
   ]
  },
  {
   "cell_type": "code",
   "execution_count": 13,
   "id": "83fc2093-44f2-49d3-ac53-62b3c8fc6939",
   "metadata": {},
   "outputs": [
    {
     "name": "stdout",
     "output_type": "stream",
     "text": [
      "CPU times: user 3.73 s, sys: 452 ms, total: 4.19 s\n",
      "Wall time: 1.69 s\n"
     ]
    }
   ],
   "source": [
    "%%time\n",
    "\n",
    "#OR run entire simulation\n",
    "fstate, logps = sim_trajectory(istate, sim_init, sim_step)"
   ]
  },
  {
   "cell_type": "code",
   "execution_count": 14,
   "id": "b430b1db-e55a-4681-96ca-aee56edb3ae2",
   "metadata": {},
   "outputs": [
    {
     "data": {
      "text/plain": [
       "(110,)"
      ]
     },
     "execution_count": 14,
     "metadata": {},
     "output_type": "execute_result"
    }
   ],
   "source": [
    "fstate.celltype.shape"
   ]
  },
  {
   "cell_type": "code",
   "execution_count": null,
   "id": "71ddab4e-1786-43af-93e4-67ce1c89c6c9",
   "metadata": {},
   "outputs": [],
   "source": []
  }
 ],
 "metadata": {
  "kernelspec": {
   "display_name": "Python3 (JAX)",
   "language": "python",
   "name": "jax"
  },
  "language_info": {
   "codemirror_mode": {
    "name": "ipython",
    "version": 3
   },
   "file_extension": ".py",
   "mimetype": "text/x-python",
   "name": "python",
   "nbconvert_exporter": "python",
   "pygments_lexer": "ipython3",
   "version": "3.10.4"
  }
 },
 "nbformat": 4,
 "nbformat_minor": 5
}
