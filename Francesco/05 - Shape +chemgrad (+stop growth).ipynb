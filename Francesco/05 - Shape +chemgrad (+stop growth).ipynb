{
 "cells": [
  {
   "cell_type": "markdown",
   "id": "31b88d7d-8282-492b-9153-a12909c9b866",
   "metadata": {},
   "source": [
    "# Imports"
   ]
  },
  {
   "cell_type": "code",
   "execution_count": 1,
   "id": "cd5f841b-7cfd-44b5-98e8-804c60c105ee",
   "metadata": {},
   "outputs": [],
   "source": [
    "#no warnings about floating precision\n",
    "import warnings\n",
    "warnings.filterwarnings('ignore')"
   ]
  },
  {
   "cell_type": "code",
   "execution_count": 2,
   "id": "1829ad52-c74a-43b2-b347-4603f30ac30a",
   "metadata": {},
   "outputs": [],
   "source": [
    "# LIMIT GPU MEMORY TAKEN UP BY THE NOTEBOOK\n",
    "# you can specify the fraction of the AVAILABLE GPU memory that will be\n",
    "# pre-allocated (jax default is .9)\n",
    "\n",
    "import os\n",
    "os.environ['XLA_PYTHON_CLIENT_MEM_FRACTION'] = '.95'\n",
    "#os.environ['XLA_PYTHON_CLIENT_PREALLOCATE'] = 'false'\n",
    "\n",
    "#use another GPU if the default one is occupied\n",
    "os.environ['CUDA_VISIBLE_DEVICES'] = '1'"
   ]
  },
  {
   "cell_type": "code",
   "execution_count": 3,
   "id": "8bf94e17-8903-4eb4-aaa4-a6575bcbba65",
   "metadata": {},
   "outputs": [],
   "source": [
    "import jax\n",
    "import jax.numpy as np\n",
    "\n",
    "from jax.random import split, PRNGKey\n",
    "from jax import lax\n",
    "\n",
    "jax.config.update('jax_debug_nans', True)\n",
    "\n",
    "### NOTE: f32 gives > 3x speedup wrt f64\n",
    "#config.update('jax_enable_x64', True)\n",
    "\n",
    "#use this line to set the device to be used for the computations\n",
    "#print(jax.devices())\n",
    "#DOES NOT RECOGNIZE THE OPTION NAME FTM\n",
    "#jax.config.update('jax_default_device', jax.devices()[1])\n",
    "\n",
    "import equinox as eqx\n",
    "\n",
    "import haiku as hk\n",
    "\n",
    "from functools import partial"
   ]
  },
  {
   "cell_type": "code",
   "execution_count": 4,
   "id": "6d3150ed-39ae-4396-94ff-4ecbcdcd1283",
   "metadata": {},
   "outputs": [],
   "source": [
    "from jax_md import space\n",
    "import jax_md.dataclasses as jdc"
   ]
  },
  {
   "cell_type": "code",
   "execution_count": 5,
   "id": "662e6080-2638-4bd2-97b0-59f5e4f822d5",
   "metadata": {},
   "outputs": [],
   "source": [
    "import jax_morph\n",
    "\n",
    "from jax_morph.visualization import draw_circles_ctype, draw_circles_chem, draw_circles_divrate\n",
    "\n",
    "from jax_morph.datastructures import SpaceFunc #, CellState\n",
    "from jax_morph.simulation import simulation, sim_trajectory\n",
    "\n",
    "from jax_morph.cell_division import S_cell_division\n",
    "from jax_morph.cell_growth import S_grow_cells\n",
    "\n",
    "from chem_twotypes.mechanical import S_mechmin_twotypes\n",
    "from chem_twotypes.secdiff import S_ss_chemfield, sec_nn\n",
    "from chem_twotypes.divrates import S_set_divrate, div_nn\n",
    "\n",
    "from chem_twotypes.initial_states import init_state_grow"
   ]
  },
  {
   "cell_type": "code",
   "execution_count": 6,
   "id": "1ed915b1-7eb9-43c1-9934-f17da6ac953d",
   "metadata": {},
   "outputs": [],
   "source": [
    "import matplotlib.pyplot as plt\n",
    "\n",
    "from tqdm import tqdm"
   ]
  },
  {
   "cell_type": "markdown",
   "id": "4c7c6697-76f3-4c82-9546-f259ad2dd47b",
   "metadata": {},
   "source": [
    "# Set Parameters"
   ]
  },
  {
   "cell_type": "code",
   "execution_count": 7,
   "id": "f1502736-fc6a-4206-ae3b-46174f15e913",
   "metadata": {},
   "outputs": [],
   "source": [
    "ParamsDict = dict"
   ]
  },
  {
   "cell_type": "code",
   "execution_count": 8,
   "id": "b8ffed3d-134c-41a1-88b7-c3cb4c6798c6",
   "metadata": {},
   "outputs": [],
   "source": [
    "# Define parameters -- blue particles are type 1, orange are type 2\n",
    "# keep jax type casting to place vars in gpu memory\n",
    "\n",
    "# Number of chemical signals\n",
    "n_chem = 3\n",
    "n_celltype = 1\n",
    "\n",
    "#-------------------------------------------------------------------------------\n",
    "### NEW CLEAN VERSION\n",
    "\n",
    "#rows are ctypes, cols are chemicals\n",
    "#1 if ct secretes chem, 0 otw\n",
    "#needs to be array for indexing\n",
    "\n",
    "#ctype_sec_chem = np.identity(n_chem, dtype=np.int16) #each ct secretes one chem\n",
    "ctype_sec_chem = np.ones((n_celltype,n_chem), dtype=np.int16) #every ct secretes everything\n",
    "#ctype_sec_chem = np.hstack([np.identity(2)])\n",
    "\n",
    "\n",
    "### CELL DIMENSIONS\n",
    "\n",
    "#change constants in divrate calculation if cellRad != .5 \n",
    "# always use python scalars\n",
    "cellRad = .5\n",
    "cellRadBirth = float(cellRad / np.sqrt(2))\n",
    "\n",
    "\n",
    "### DIFFUSION\n",
    "\n",
    "#possibly different diffusion and degradation for each chemical\n",
    "diffCoeff = np.ones(n_chem) #np.linspace(.5,n_chem/2+1,n_chem) # #np.array([1.,3.]) #np.ones(n_chem)\n",
    "degRate = np.ones(n_chem) #np.array([1.,1.])\n",
    "\n",
    "#diffusion cutoff\n",
    "r_cutoffDiff = 5.*cellRad\n",
    "r_onsetDiff = r_cutoffDiff - .5\n",
    "\n",
    "\n",
    "### SECRETION\n",
    "\n",
    "# sec rate that gives concentration 1 at source at SS\n",
    "sec_max_unitary = 2*np.sqrt(diffCoeff*degRate)\n",
    "\n",
    "sec_max = np.ones((n_chem,), dtype=np.float32)\n",
    "#sec_max = sec_max.at[0].set(20.)\n",
    "#sec_max = sec_max.at[1].set(2.)\n",
    "\n",
    "\n",
    "sec_gamma = .5* np.ones((n_chem,n_chem), dtype=np.float32) #was 0.01\n",
    "sec_k = 1.*np.ones((n_chem,n_chem), dtype=np.float32) \n",
    "\n",
    "\n",
    "# # DIVISION\n",
    "\n",
    "div_gamma = 2.*np.ones(n_chem, dtype=np.float32)\n",
    "div_k = 1.*np.ones(n_chem, dtype=np.float32)\n",
    "# div_k = div_k.at[0].set(3.)\n",
    "\n",
    "\n",
    "# MORSE POTENTIAL\n",
    "# always use python scalars\n",
    "alpha = 3.\n",
    "eps_TwoTwo = 3. #orange\n",
    "eps_OneOne = 3. #blue\n",
    "eps_OneTwo = 3. \n",
    "\n",
    "#morse cutoff\n",
    "r_cutoff = 4.*cellRad\n",
    "r_onset = r_cutoff - .2\n",
    "\n",
    "\n",
    "# number of gradient descent steps for potential minimization\n",
    "mech_relaxation_steps = 50\n",
    "\n",
    "\n",
    "# Initialization and number of added cells. \n",
    "ncells_init = 2 #number of cells in the initial cluster\n",
    "n_ones_init = ncells_init #number of type-1 cell in the initail cluster\n",
    "ncells_add = 18\n",
    "#ncells_tot =  np.int16(ncells_init+ncells_add)# final number of cells\n",
    "\n",
    "#assert ncells_init > n_ones_init"
   ]
  },
  {
   "cell_type": "code",
   "execution_count": 9,
   "id": "18d6a511-d789-40ce-8020-123dd616e63e",
   "metadata": {},
   "outputs": [],
   "source": [
    "#equinox automatically treats as static all non-array values\n",
    "#cast floats/ints into arrays if the parameter needs a gradient\n",
    "\n",
    "def _maybe_array(name, value, train_params):\n",
    "    if train_params[name]:\n",
    "        return np.array(value)\n",
    "    else:\n",
    "        return value"
   ]
  },
  {
   "cell_type": "code",
   "execution_count": 10,
   "id": "32fcef4f-1af7-4c9f-a4f3-11768fbb8175",
   "metadata": {},
   "outputs": [],
   "source": [
    "train_params = {\n",
    "    'n_chem': False,\n",
    "    #'secreted_by_ctypes': False,\n",
    "    'ctype_sec_chem': False,\n",
    "    \n",
    "    'sec_max': True,\n",
    "    \n",
    "    'sec_gamma': False,\n",
    "    'sec_k' : False,\n",
    "    \n",
    "    'div_gamma' : False,\n",
    "    'div_k' : False,\n",
    "    \n",
    "    'cellRad' : False,\n",
    "    'cellRadBirth' : False,\n",
    "    \n",
    "    'diffCoeff' : True,\n",
    "    'degRate' : False,\n",
    "    'r_onsetDiff' : False,\n",
    "    'r_cutoffDiff' : False,\n",
    "    \n",
    "    'alpha': False, \n",
    "    'eps_TwoTwo': False, \n",
    "    'eps_OneOne' : False,\n",
    "    'eps_OneTwo' : False,\n",
    "    'r_onset' : False,\n",
    "    'r_cutoff' : False,\n",
    "    'mech_relaxation_steps' : False,\n",
    "    \n",
    "    'ncells_init' : False,\n",
    "    'n_ones_init': False, \n",
    "    #'ncells_tot': ncells_tot,\n",
    "    'ncells_add': False,\n",
    "}"
   ]
  },
  {
   "cell_type": "code",
   "execution_count": 11,
   "id": "d207409b-a48d-48ef-96e2-4629a76f20a3",
   "metadata": {},
   "outputs": [],
   "source": [
    "params = {\n",
    "    'n_chem': n_chem,\n",
    "    #'secreted_by_ctypes': sec_by_ctypes,\n",
    "    'ctype_sec_chem': ctype_sec_chem,\n",
    "    \n",
    "    'sec_max': sec_max,\n",
    "    'sec_gamma': sec_gamma,\n",
    "    'sec_k' : sec_k,\n",
    "    \n",
    "    'div_gamma' : div_gamma,\n",
    "    'div_k' : div_k,\n",
    "    \n",
    "    'cellRad' : cellRad,\n",
    "    'cellRadBirth' : cellRadBirth,\n",
    "    \n",
    "    'diffCoeff' : diffCoeff,\n",
    "    'degRate' : degRate,\n",
    "    'r_onsetDiff' : r_onsetDiff,\n",
    "    'r_cutoffDiff' : r_cutoffDiff,\n",
    "    \n",
    "    'alpha': _maybe_array('alpha', alpha, train_params), \n",
    "    'eps_TwoTwo': _maybe_array('eps_TwoTwo', eps_TwoTwo, train_params), \n",
    "    'eps_OneOne' : _maybe_array('eps_OneOne', eps_OneOne, train_params),\n",
    "    'eps_OneTwo' : _maybe_array('eps_OneTwo', eps_OneTwo, train_params),\n",
    "    'r_onset' : r_onset,\n",
    "    'r_cutoff' : r_cutoff,\n",
    "    'mech_relaxation_steps' : mech_relaxation_steps,\n",
    "    \n",
    "    'ncells_init' : ncells_init,\n",
    "    'n_ones_init': n_ones_init, \n",
    "    #'ncells_tot': ncells_tot,\n",
    "    'ncells_add': ncells_add,\n",
    "}\n",
    "\n",
    "\n",
    "\n",
    "#ip, hp = eqx.partition(params, train_params)"
   ]
  },
  {
   "cell_type": "markdown",
   "id": "ee416bc3-d5b2-4c4c-94ed-dfc2b2f24383",
   "metadata": {},
   "source": [
    "# New cell div"
   ]
  },
  {
   "cell_type": "markdown",
   "id": "0837796f-77b6-465d-bacf-698cee5be121",
   "metadata": {},
   "source": [
    "## stop div"
   ]
  },
  {
   "cell_type": "code",
   "execution_count": 12,
   "id": "1cd7a636-36fe-4bfa-a1b2-2b60e0ea8d5f",
   "metadata": {},
   "outputs": [],
   "source": [
    "import jax\n",
    "import jax.numpy as np\n",
    "from jax import random\n",
    "\n",
    "import jax_md.dataclasses as jax_dataclasses\n",
    "\n",
    "from jax_morph.datastructures import CellState\n",
    "from jax_morph.utils import logistic\n",
    "\n",
    "\n",
    "\n",
    "\n",
    "def tS_cell_division(state, params, fspace=None):\n",
    "    '''\n",
    "    Performs one cell division with probability proportional to the current state divrates.\n",
    "    '''\n",
    "    \n",
    "    def divide(state, params, key, idx_dividing_cell):\n",
    "        \n",
    "        cellRadBirth = params['cellRadBirth'] #easier to reuse\n",
    "\n",
    "        idx_new_cell = np.count_nonzero(state.celltype)\n",
    "\n",
    "        ### POSITION OF NEW CELLS\n",
    "        new_key, subkey_place = random.split(key,2)\n",
    "        \n",
    "        #note that cell positions will be symmetric so max is pi\n",
    "        angle = random.uniform(subkey_place, minval=0., maxval=np.pi, dtype=np.float32)\n",
    "\n",
    "        first_cell = np.array([np.cos(angle),np.sin(angle)])\n",
    "        second_cell = np.array([-np.cos(angle),-np.sin(angle)])\n",
    "\n",
    "        pos1 = state.position[idx_dividing_cell] + cellRadBirth*first_cell\n",
    "        pos2 = state.position[idx_dividing_cell] + cellRadBirth*second_cell\n",
    "\n",
    "        new_position = state.position.at[idx_dividing_cell].set(pos1)\n",
    "        new_position = new_position.at[idx_new_cell].set(pos2)\n",
    "\n",
    "        ### NEW RADII\n",
    "        new_radius = state.radius.at[idx_dividing_cell].set(cellRadBirth)\n",
    "        new_radius = new_radius.at[idx_new_cell].set(cellRadBirth)\n",
    "\n",
    "        ### INHERIT CELLTYPE\n",
    "        new_celltype = state.celltype.at[idx_new_cell].set(state.celltype[idx_dividing_cell])\n",
    "\n",
    "        # INHERIT CHEMICAL AND DIVRATES\n",
    "        # useless, recalculated right after, but just in case\n",
    "        new_chemical = state.chemical.at[idx_new_cell].set(state.chemical[idx_dividing_cell])  \n",
    "        new_divrate = state.divrate.at[idx_new_cell].set(state.divrate[idx_dividing_cell]) \n",
    "\n",
    "        #build new state of the system\n",
    "        new_state = jax_dataclasses.replace(state, \n",
    "                                            position=new_position,\n",
    "                                            radius=new_radius,\n",
    "                                            celltype=new_celltype,\n",
    "                                            chemical=new_chemical,\n",
    "                                            divrate=new_divrate,\n",
    "                                            key=new_key\n",
    "                                           )\n",
    "\n",
    "        return new_state, np.log(state.divrate[idx_dividing_cell])\n",
    "    \n",
    "    \n",
    "    def skip_division(state, params, key, idx_dividing_cell):\n",
    "        \n",
    "        return jax_dataclasses.replace(state, key=key), np.log(1-state.divrate[idx_dividing_cell])\n",
    "    \n",
    "    \n",
    "    \n",
    "    #split key\n",
    "    key, subkey_div1, subkey_div2, subkey_place = random.split(state.key,4)\n",
    "\n",
    "    p = state.divrate/state.divrate.sum()\n",
    "\n",
    "    #select cells that divides\n",
    "    idx_dividing_cell = random.choice(subkey_div1, a=len(p), p=p)\n",
    "\n",
    "    #save logp for optimization purposes\n",
    "    logp1 = np.log(p[idx_dividing_cell])\n",
    "    \n",
    "    div_decision = random.bernoulli(subkey_div2, state.divrate[idx_dividing_cell])\n",
    "    \n",
    "    new_state, logp2 = jax.lax.cond(div_decision, divide, skip_division, state, params, subkey_place, idx_dividing_cell)\n",
    "    \n",
    "    return new_state, logp1+logp2"
   ]
  },
  {
   "cell_type": "markdown",
   "id": "9a9e1452-f233-4e08-9ff3-3fcdef029add",
   "metadata": {},
   "source": [
    "## directional div"
   ]
  },
  {
   "cell_type": "raw",
   "id": "d84b5ca1-6db4-4fea-8fa3-303078f50a59",
   "metadata": {},
   "source": [
    "##### TODO:\n",
    "# implements choice of angle as gaussian div prob with reparametrization trick for gradients\n",
    "\n",
    "\n",
    "\n",
    "\n",
    "def dS_cell_division(state, params, fspace=None):\n",
    "    '''\n",
    "    Performs one cell division with probability proportional to the current state divrates.\n",
    "    '''\n",
    "    \n",
    "    def divide(state, params, key, idx_dividing_cell):\n",
    "        \n",
    "        cellRadBirth = params['cellRadBirth'] #easier to reuse\n",
    "\n",
    "        idx_new_cell = np.count_nonzero(state.celltype)\n",
    "\n",
    "        ### POSITION OF NEW CELLS\n",
    "        new_key, subkey_place = random.split(key,2)\n",
    "        \n",
    "        #note that cell positions will be symmetric so max is pi\n",
    "        angle = random.uniform(subkey_place, minval=0., maxval=np.pi, dtype=np.float32)\n",
    "\n",
    "        first_cell = np.array([np.cos(angle),np.sin(angle)])\n",
    "        second_cell = np.array([-np.cos(angle),-np.sin(angle)])\n",
    "\n",
    "        pos1 = state.position[idx_dividing_cell] + cellRadBirth*first_cell\n",
    "        pos2 = state.position[idx_dividing_cell] + cellRadBirth*second_cell\n",
    "\n",
    "        new_position = state.position.at[idx_dividing_cell].set(pos1)\n",
    "        new_position = new_position.at[idx_new_cell].set(pos2)\n",
    "\n",
    "        ### NEW RADII\n",
    "        new_radius = state.radius.at[idx_dividing_cell].set(cellRadBirth)\n",
    "        new_radius = new_radius.at[idx_new_cell].set(cellRadBirth)\n",
    "\n",
    "        ### INHERIT CELLTYPE\n",
    "        new_celltype = state.celltype.at[idx_new_cell].set(state.celltype[idx_dividing_cell])\n",
    "\n",
    "        # INHERIT CHEMICAL AND DIVRATES\n",
    "        # useless, recalculated right after, but just in case\n",
    "        new_chemical = state.chemical.at[idx_new_cell].set(state.chemical[idx_dividing_cell])  \n",
    "        new_divrate = state.divrate.at[idx_new_cell].set(state.divrate[idx_dividing_cell]) \n",
    "\n",
    "        #build new state of the system\n",
    "        new_state = jax_dataclasses.replace(state, \n",
    "                                            position=new_position,\n",
    "                                            radius=new_radius,\n",
    "                                            celltype=new_celltype,\n",
    "                                            chemical=new_chemical,\n",
    "                                            divrate=new_divrate,\n",
    "                                            key=new_key\n",
    "                                           )\n",
    "\n",
    "        return new_state, np.log(state.divrate[idx_dividing_cell])\n",
    "    \n",
    "    \n",
    "    def skip_division(state, params, key, idx_dividing_cell):\n",
    "        \n",
    "        return jax_dataclasses.replace(state, key=key), np.log(1-state.divrate[idx_dividing_cell])\n",
    "    \n",
    "    \n",
    "    \n",
    "    #split key\n",
    "    key, subkey_div1, subkey_div2, subkey_place = random.split(state.key,4)\n",
    "\n",
    "    p = state.divrate/state.divrate.sum()\n",
    "\n",
    "    #select cells that divides\n",
    "    idx_dividing_cell = random.choice(subkey_div1, a=len(p), p=p)\n",
    "\n",
    "    #save logp for optimization purposes\n",
    "    logp1 = np.log(p[idx_dividing_cell])\n",
    "    \n",
    "    div_decision = random.bernoulli(subkey_div2, state.divrate[idx_dividing_cell])\n",
    "    \n",
    "    new_state, logp2 = jax.lax.cond(div_decision, divide, skip_division, state, params, subkey_place, idx_dividing_cell)\n",
    "    \n",
    "    return new_state, logp1+logp2"
   ]
  },
  {
   "cell_type": "markdown",
   "id": "51236174-8ee4-4bb0-862b-66e8294daa04",
   "metadata": {},
   "source": [
    "# State dataclass"
   ]
  },
  {
   "cell_type": "code",
   "execution_count": 13,
   "id": "89037f13-a10b-4575-818c-f5928486a9a2",
   "metadata": {},
   "outputs": [],
   "source": [
    "import jax_md.dataclasses as jax_dataclasses\n",
    "from jax_md import util, space\n",
    "Array = util.Array\n",
    "\n",
    "\n",
    "\n",
    "@jax_dataclasses.dataclass\n",
    "class CellState:\n",
    "    '''\n",
    "    Dataclass containing the system state.\n",
    "\n",
    "    Attributes:\n",
    "    \n",
    "    position: The current position of the particles. An ndarray of floats with\n",
    "              shape [n, spatial_dimension].\n",
    "    celltype: The cell type of each particle. An ndarray of integers in [0,1] with \n",
    "              shape [n, 1]\n",
    "    radius:   Radius of each particle. Cells are born at cellRadBirth and grow up to cellRad\n",
    "    chemical: Chemical concentration at location of each particle. An ndarray of \n",
    "              np.float32 with shape [n, numSigs] integers in [0,1] with shape [n, 1]\n",
    "    field:    Imposed external field (like a chemical field)\n",
    "    key:      The current state of the random number generator.\n",
    "    '''\n",
    "    \n",
    "    position: Array\n",
    "    celltype: Array\n",
    "    radius: Array \n",
    "    chemical: Array\n",
    "    chemgrad: Array\n",
    "    field: Array\n",
    "    divrate: Array\n",
    "    #divangle: Array\n",
    "    stress: Array\n",
    "    key: Array"
   ]
  },
  {
   "cell_type": "markdown",
   "id": "4fe8b7f3-2b5f-45b4-9249-93d5c4af8669",
   "metadata": {},
   "source": [
    "# Chemical gradient"
   ]
  },
  {
   "cell_type": "code",
   "execution_count": 24,
   "id": "525ea1ad-ca02-4248-a61d-01306313cd89",
   "metadata": {},
   "outputs": [],
   "source": [
    "from jax import vmap\n",
    "\n",
    "import jax_md.dataclasses as jax_dataclasses\n",
    "\n",
    "\n",
    "def chem_grad(state, fspace, R=None):\n",
    "    '''\n",
    "    Calculates grads of every chem conc. for every (alive) cell.\n",
    "    Cells lying at a distance < R from one another are considered neigbors.\n",
    "    If R=None calculates \"touching\" distance based on current cell radii.\n",
    "    '''\n",
    "    \n",
    "    # mask only cells that exist\n",
    "    c_alive = state.celltype>0.\n",
    "\n",
    "    # displacements between cell pairs (ncells x ncells x ndim_space)\n",
    "    disp = vmap(vmap(fspace.displacement, in_axes=[0,None]), in_axes=[None,0])(state.position, state.position)\n",
    "\n",
    "    # distances btw cell pairs\n",
    "    # dist w/ non-existing cells are zeroed out\n",
    "    dist = np.sqrt((disp**2).sum(2))*np.outer(c_alive, c_alive)\n",
    "\n",
    "    # consider as neigbors:\n",
    "    # - cells less than one radius away (+ small tolerance)\n",
    "    # - cells differents from themselves\n",
    "    # - cells that exist\n",
    "    if None == R:\n",
    "        # \"touching\" distance betw. cells\n",
    "        R = (state.radius+state.radius[:,None])*np.outer(c_alive, c_alive)\n",
    "    \n",
    "    neig = np.nonzero((dist<R)*(dist>.0))\n",
    "\n",
    "    # normalize all displacements\n",
    "    norm_disp = disp[neig]/dist[neig][:,None]\n",
    "\n",
    "    # calculates x and y components of grad for single chemical\n",
    "    # GOD KNOWS HOW I CAME UP WITH THIS, BUT IT WORKS\n",
    "    def _grad_chem(chem):\n",
    "        # bincount supports only sums of scalar weights\n",
    "        # vmap over components of chem gradients\n",
    "        return vmap(np.bincount, in_axes=[None,1], out_axes=1)(neig[0], chem[neig[1],None]*norm_disp)\n",
    "\n",
    "    #vectorize over chemicals\n",
    "    #OUTPUT SHAPE: ncells x ndim x nchem\n",
    "    _grad_chem = vmap(_grad_chem, in_axes=1, out_axes=2)\n",
    "\n",
    "    #calc grads (no non-existing cells or lone cells w/ no neighbors)\n",
    "    grads_alive = _grad_chem(state.chemical)\n",
    "\n",
    "    # create data structure w/ zeros\n",
    "    grads = np.zeros((state.celltype.shape[0],state.position.shape[1],state.chemical.shape[1]))\n",
    "    \n",
    "    # set calculated gradients where appropriate\n",
    "    idx = np.unique(neig[0]) #needed in case bincount spits out some zeros too\n",
    "    grads = grads.at[idx].set(grads_alive[idx])\n",
    "    \n",
    "    # transform into ncells x (grad_x + grad_y)\n",
    "    #reshape like ncells x ndim x nchem to revert\n",
    "    grads = grads.reshape(len(state.celltype), -1)\n",
    "    \n",
    "    return grads\n",
    "\n",
    "\n",
    "def S_chemical_gradients(state, params, fspace, R=None):\n",
    "    '''\n",
    "    Calculate chemical gradients based on current chemical concentrations.\n",
    "    Gradients are given as an ncells x (grad_x + grad_y) matrix.\n",
    "    '''\n",
    "    \n",
    "    chemgrad = chem_grad(state, fspace, R)\n",
    "    \n",
    "    state = jax_dataclasses.replace(state, chemgrad=chemgrad)\n",
    "\n",
    "    return state"
   ]
  },
  {
   "cell_type": "code",
   "execution_count": 24,
   "id": "622ae04f-865f-477e-ae5e-a4324fb975e1",
   "metadata": {},
   "outputs": [],
   "source": [
    "from jax import vmap\n",
    "\n",
    "import jax_md.dataclasses as jax_dataclasses\n",
    "\n",
    "\n",
    "def chem_grad(state, fspace, R=None):\n",
    "    '''\n",
    "    Calculates grads of every chem conc. for every (alive) cell.\n",
    "    Cells lying at a distance < R from one another are considered neigbors.\n",
    "    If R=None calculates \"touching\" distance based on current cell radii.\n",
    "    '''\n",
    "    \n",
    "    # mask only cells that exist\n",
    "    c_alive = state.celltype>0.\n",
    "\n",
    "    # displacements between cell pairs (ncells x ncells x ndim_space)\n",
    "    disp = vmap(vmap(fspace.displacement, in_axes=[0,None]), in_axes=[None,0])(state.position, state.position)\n",
    "\n",
    "    # distances btw cell pairs\n",
    "    # dist w/ non-existing cells are zeroed out\n",
    "    dist = np.sqrt((disp**2).sum(2))*np.outer(c_alive, c_alive)\n",
    "\n",
    "    # consider as neigbors:\n",
    "    # - cells less than one radius away (+ small tolerance)\n",
    "    # - cells differents from themselves\n",
    "    # - cells that exist\n",
    "    if None == R:\n",
    "        # \"touching\" distance betw. cells\n",
    "        R = (state.radius+state.radius[:,None])*np.outer(c_alive, c_alive)\n",
    "    \n",
    "    neig = np.nonzero((dist<R)*(dist>.0), size=6*len(state.celltype))\n",
    "\n",
    "    # normalize all displacements\n",
    "    norm_disp = disp[neig]/dist[neig][:,None]\n",
    "\n",
    "    # calculates x and y components of grad for single chemical\n",
    "    # GOD KNOWS HOW I CAME UP WITH THIS, BUT IT WORKS\n",
    "    def _grad_chem(chem):\n",
    "        # bincount supports only sums of scalar weights\n",
    "        # vmap over components of chem gradients\n",
    "        return vmap(np.bincount, in_axes=[None,1], out_axes=1)(neig[0], chem[neig[1],None]*norm_disp)\n",
    "\n",
    "    #vectorize over chemicals\n",
    "    #OUTPUT SHAPE: ncells x ndim x nchem\n",
    "    _grad_chem = vmap(_grad_chem, in_axes=1, out_axes=2)\n",
    "\n",
    "    #calc grads (no non-existing cells or lone cells w/ no neighbors)\n",
    "    grads_alive = _grad_chem(state.chemical)\n",
    "\n",
    "    # create data structure w/ zeros\n",
    "    grads = np.zeros((state.celltype.shape[0],state.position.shape[1],state.chemical.shape[1]))\n",
    "    \n",
    "    # set calculated gradients where appropriate\n",
    "    idx = np.unique(neig[0]) #needed in case bincount spits out some zeros too\n",
    "    grads = grads.at[idx].set(grads_alive[idx])\n",
    "    \n",
    "    # transform into ncells x (grad_x + grad_y)\n",
    "    #reshape like ncells x ndim x nchem to revert\n",
    "    grads = grads.reshape(len(state.celltype), -1)\n",
    "    \n",
    "    return grads"
   ]
  },
  {
   "cell_type": "raw",
   "id": "91e9a07d-d9eb-47c1-8d42-688d3df6be18",
   "metadata": {},
   "source": [
    "draw_circles_chem(fstate)\n",
    "\n",
    "for i in range(len(fstate.celltype)):\n",
    "    if fstate.celltype[i]>0:\n",
    "        x,y = fstate.position[i]\n",
    "        #print(g[i,:,0])\n",
    "        \n",
    "        plt.arrow(x, y, g[i,0,0], g[i,1,0], length_includes_head=True, head_width=.2)"
   ]
  },
  {
   "cell_type": "raw",
   "id": "3b21c976-1428-4639-b734-f737f1b64e62",
   "metadata": {},
   "source": [
    "draw_circles_chem(fstate,1)\n",
    "\n",
    "for i in range(len(fstate.celltype)):\n",
    "    if fstate.celltype[i]>0:\n",
    "        x,y = fstate.position[i]\n",
    "        #print(g[i,:,0])\n",
    "        \n",
    "        plt.arrow(x, y, g[i,0,1], g[i,1,1], length_includes_head=True, head_width=.2)"
   ]
  },
  {
   "cell_type": "code",
   "execution_count": null,
   "id": "9600d95c-d434-4baf-bede-1602564d2f37",
   "metadata": {},
   "outputs": [],
   "source": []
  },
  {
   "cell_type": "code",
   "execution_count": null,
   "id": "aa9f49f9-1a99-4364-b33d-de9db08450a0",
   "metadata": {},
   "outputs": [],
   "source": []
  },
  {
   "cell_type": "markdown",
   "id": "fe2f95f7-352d-43ec-95d0-8652fe78703a",
   "metadata": {},
   "source": [
    "# divangle nn"
   ]
  },
  {
   "cell_type": "raw",
   "id": "3dafabf9-115b-4152-8e30-d35f29a2e3d3",
   "metadata": {},
   "source": [
    "# GENERATE DIVISION FUNCTION WITH NEURAL NETWORK\n",
    "def div_angle_nn(params, \n",
    "           train_params=None, \n",
    "           n_hidden=3,\n",
    "           use_state_fields=CellState(*tuple([False]*3+[True]*2+[False]*3)),\n",
    "           train=True,\n",
    "          ):\n",
    "    \n",
    "    if type(n_hidden) == np.int_ or type(n_hidden) == int:\n",
    "        n_hidden = [int(n_hidden)]\n",
    "    \n",
    "\n",
    "    \n",
    "    def _div_nn(in_fields):\n",
    "        mlp = hk.nets.MLP(n_hidden+[3],\n",
    "                          activation=jax.nn.leaky_relu,\n",
    "                          activate_final=False\n",
    "                         )\n",
    "        out = jax.nn.softplus(mlp(in_fields))\n",
    "        #out = jax.nn.sigmoid(mlp(in_fields))\n",
    "        \n",
    "        #out[0] : div prob\n",
    "        #out[1] : mean angle\n",
    "        #out[2] : std angle\n",
    "        out = np.exp(-out)*np.array([1.,np.pi,1.])\n",
    "        return out\n",
    "\n",
    "    _div_nn = hk.without_apply_rng(hk.transform(_div_nn))\n",
    "\n",
    "\n",
    "    \n",
    "    def init(state, key):\n",
    "        \n",
    "        \n",
    "        in_fields = np.hstack([f if len(f.shape)>1 else f[:,np.newaxis] for f in jax.tree_leaves(eqx.filter(state, use_state_fields))])\n",
    "        \n",
    "        input_dim = in_fields.shape[1]\n",
    "            \n",
    "        p = _div_nn.init(key, np.zeros(input_dim))\n",
    "        \n",
    "        #add to param dict\n",
    "        params['div_fn'] = p\n",
    "        \n",
    "        # no need to update train_params when generating initial state\n",
    "        if type(train_params) is dict:\n",
    "            \n",
    "            #set trainability flag\n",
    "            train_p = jax.tree_map(lambda x: train, p)\n",
    "\n",
    "            train_params['div_fn'] = train_p\n",
    "        \n",
    "            return params, train_params\n",
    "            \n",
    "        else:\n",
    "            return params\n",
    "            \n",
    "        \n",
    "        \n",
    "    def fwd(state, params):\n",
    "        \n",
    "        in_fields = np.hstack([f if len(f.shape)>1 else f[:,np.newaxis] for f in jax.tree_leaves(eqx.filter(state, use_state_fields))])\n",
    "        \n",
    "        x = _div_nn.apply(params['div_fn'], in_fields).flatten()\n",
    "        \n",
    "        divrate = x*logistic(state.radius+.06, 50, params['cellRad'])\n",
    "        \n",
    "        divrate = np.where(state.celltype<1.,0,divrate)\n",
    "    \n",
    "        return divrate\n",
    "    \n",
    "    \n",
    "    return init, fwd\n"
   ]
  },
  {
   "cell_type": "raw",
   "id": "d85d0e06-f84a-472b-9826-d499f95ece7c",
   "metadata": {},
   "source": [
    "def S_set_divrate_divangle(state, params, fspace=None, divrate_fn=None):\n",
    "    \n",
    "    if None == divrate_fn:\n",
    "        raise(ValueError('Need to pass a valid function for the calculation of the division rates.'))\n",
    "\n",
    "    divrate = divrate_fn(state, params)\n",
    "    \n",
    "    new_state = jax_dataclasses.replace(state, divrate=divrate[:,0], divangle=divrate[:,1:])\n",
    "    \n",
    "    return new_state"
   ]
  },
  {
   "cell_type": "markdown",
   "id": "b8366899-ad21-405b-86ad-ab398c0f60e8",
   "metadata": {},
   "source": [
    "# New simulation"
   ]
  },
  {
   "cell_type": "code",
   "execution_count": 15,
   "id": "94b2c6ed-9bd2-4bc7-9371-fa4132eb249a",
   "metadata": {},
   "outputs": [],
   "source": [
    "def simulation(fstep, params, fspace):\n",
    "    \n",
    "    n_ops = len(fstep)\n",
    "    #fstep = iter(fstep)\n",
    "    \n",
    "    def sim_init(istate, ncells_add=100, key=None):\n",
    "        '''\n",
    "        If key is none use the key packed in initial state, else use the provided key.\n",
    "        '''\n",
    "\n",
    "        ### elongate data structures to account for cells to be added\n",
    "\n",
    "        #ncells_add = params['ncells_add']\n",
    "\n",
    "        new_position = np.concatenate([istate.position, np.zeros((ncells_add,istate.position.shape[1]))])\n",
    "        new_chemical = np.concatenate([istate.chemical, np.zeros((ncells_add,params['n_chem']))])\n",
    "        new_chemgrad = np.concatenate([istate.chemgrad, np.zeros((ncells_add,istate.position.shape[1]*params['n_chem']))])\n",
    "        new_celltype = np.concatenate([istate.celltype, np.zeros(ncells_add)])\n",
    "        new_radius = np.concatenate([istate.radius, np.zeros(ncells_add)])\n",
    "        new_field = np.concatenate([istate.field, np.zeros(ncells_add)])\n",
    "        new_divrate = np.concatenate([istate.divrate, np.zeros(ncells_add)])\n",
    "        new_stress = np.concatenate([istate.stress, np.zeros(ncells_add)])\n",
    "\n",
    "        if None != key:\n",
    "            new_key = key\n",
    "        else:\n",
    "            new_key = istate.key\n",
    "            \n",
    "        new_istate = CellState(new_position, new_celltype, new_radius, new_chemical, new_chemgrad, new_field, new_divrate, new_stress, new_key)\n",
    "        \n",
    "        return new_istate\n",
    "    \n",
    "    \n",
    "\n",
    "    def sim_step(state):\n",
    "                        \n",
    "        #first step must always be cell division\n",
    "        state, logp = fstep[0](state, params, fspace)\n",
    "        \n",
    "        for i in range(1,n_ops):\n",
    "            state = fstep[i](state, params, fspace)\n",
    "        \n",
    "        return state, logp\n",
    "    \n",
    "    \n",
    "    return sim_init, sim_step\n",
    "\n",
    "\n",
    "\n",
    "def sim_trajectory(istate, sim_init, sim_step, ncells_add=100, key=None, history=False):\n",
    "        \n",
    "    state = sim_init(istate, ncells_add, key)\n",
    "    \n",
    "    if history:\n",
    "        def scan_fn(state, i):\n",
    "            state, logp = sim_step(state)\n",
    "            return state, (state, logp)\n",
    "        \n",
    "    else:\n",
    "        def scan_fn(state, i):\n",
    "            state, logp = sim_step(state)\n",
    "            return state, logp\n",
    "    \n",
    "    \n",
    "    iterations = len(state.celltype)-len(istate.celltype)\n",
    "    iterations = np.arange(iterations)\n",
    "    #fstate, aux = lax.scan(scan_fn, state, iterations)\n",
    "    \n",
    "    auxs = []\n",
    "    for i in tqdm(iterations):\n",
    "        state, aux = scan_fn(state, i)\n",
    "        auxs += [aux]\n",
    "    \n",
    "    return state, np.array(auxs)"
   ]
  },
  {
   "cell_type": "markdown",
   "id": "d158bbdb-fc4e-4f59-8147-c12726a5162e",
   "metadata": {},
   "source": [
    "# New secdiff"
   ]
  },
  {
   "cell_type": "code",
   "execution_count": 16,
   "id": "9bd967fe-1dec-4d7e-8bff-af863a56a251",
   "metadata": {},
   "outputs": [],
   "source": [
    "from jax_morph.diffusion import diffuse_allchem\n",
    "\n",
    "def S_ss_chemfield(state, params, fspace, sec_fn=None, n_iter=5):\n",
    "    '''\n",
    "    Heuristically, steady state is reached in less than 5 iterations.\n",
    "    '''\n",
    "    \n",
    "    if None == sec_fn:\n",
    "        raise(ValueError('Need to pass a valid function for the calculation of the secretion rates.'))\n",
    "    \n",
    "    def _sec_diff_step(buff_state, i):\n",
    "        \n",
    "        #calculate new secretions\n",
    "        sec = sec_fn(buff_state, params)\n",
    "        \n",
    "        #calculate new chemical concentrations\n",
    "        chemfield = diffuse_allchem(sec, buff_state, params, fspace)\n",
    "        \n",
    "        return jax_dataclasses.replace(buff_state, chemical=chemfield), 0.#, chemfield\n",
    "    \n",
    "    #buffer state for looping (not strictly necessary)\n",
    "    new_state = CellState(*jax_dataclasses.unpack(state))\n",
    "    \n",
    "    iterations = np.arange(n_iter)\n",
    "    \n",
    "    new_state, _ = lax.scan(_sec_diff_step, new_state, iterations)\n",
    "    #uncomment line below and comment line above for history\n",
    "    #new_state, chemfield = lax.scan(_sec_diff_step, new_state, iterations)\n",
    "\n",
    "    return new_state"
   ]
  },
  {
   "cell_type": "markdown",
   "id": "45b3977d-eb9d-4f4f-968a-c5fe4958e2ce",
   "metadata": {},
   "source": [
    "# Simulation"
   ]
  },
  {
   "cell_type": "code",
   "execution_count": 17,
   "id": "f7086209-b6ff-41b5-a36c-60cfd8e815be",
   "metadata": {},
   "outputs": [],
   "source": [
    "key = PRNGKey(0)"
   ]
  },
  {
   "cell_type": "markdown",
   "id": "08c6c4a4-3e79-49d0-9ad8-e71270ce62a4",
   "metadata": {},
   "source": [
    "## Generate initial state"
   ]
  },
  {
   "cell_type": "code",
   "execution_count": 18,
   "id": "e09847b0-fce4-4d8a-af28-0c4015cd3aa2",
   "metadata": {
    "tags": []
   },
   "outputs": [],
   "source": [
    "# build initial state and space handling functions\n",
    "\n",
    "fspace = SpaceFunc(*space.free())\n",
    "\n",
    "key, init_key = split(key)\n",
    "\n",
    "# generate initial state by growing from single cell\n",
    "istate = init_state_grow(init_key, params, fspace)"
   ]
  },
  {
   "cell_type": "raw",
   "id": "7dfecdda-ae52-4247-ac5a-db59743fc36f",
   "metadata": {},
   "source": [
    "istate = jdc.replace(istate, celltype=np.ones(istate.celltype.size))"
   ]
  },
  {
   "cell_type": "code",
   "execution_count": 19,
   "id": "f970f8c5-4e5a-42c4-814a-e8f6859f6031",
   "metadata": {},
   "outputs": [],
   "source": [
    "#add chemgrad field\n",
    "\n",
    "new_fields = list(jax_dataclasses.unpack(istate))[:4]+[np.zeros((len(istate.celltype),2*istate.chemical.shape[1]))]+list(jax_dataclasses.unpack(istate))[4:]\n",
    "\n",
    "istate = CellState(*new_fields)"
   ]
  },
  {
   "cell_type": "code",
   "execution_count": null,
   "id": "7b26ef5d-79fe-42cd-89f0-c68e2b6bcacd",
   "metadata": {},
   "outputs": [],
   "source": []
  },
  {
   "cell_type": "markdown",
   "id": "361f9147-3ebe-4fa8-8e0b-cdffa8555681",
   "metadata": {},
   "source": [
    "## Initialize ANNs"
   ]
  },
  {
   "cell_type": "code",
   "execution_count": 20,
   "id": "641bd215-f1d5-4560-a143-70a4155f6d1e",
   "metadata": {},
   "outputs": [],
   "source": [
    "use_state_fields = CellState(position=False, \n",
    "                             celltype=False, \n",
    "                             radius=False, \n",
    "                             chemical=True,\n",
    "                             chemgrad=True,\n",
    "                             field=True, \n",
    "                             divrate=False, \n",
    "                             stress=True, \n",
    "                             key=False)\n",
    "\n",
    "# init division nn\n",
    "DIV_HIDDEN = [5]*2\n",
    "\n",
    "div_init, div_nn_apply = div_nn(params,train_params,DIV_HIDDEN,use_state_fields,train=True)\n",
    "\n",
    "\n",
    "key, init_key = split(key)\n",
    "params, train_params = div_init(istate, init_key)"
   ]
  },
  {
   "cell_type": "code",
   "execution_count": 21,
   "id": "4b5ab93c-39e4-4573-98e1-d92086faf13c",
   "metadata": {},
   "outputs": [],
   "source": [
    "use_state_fields = CellState(position=False, \n",
    "                             celltype=False, \n",
    "                             radius=False, \n",
    "                             chemical=True,\n",
    "                             chemgrad=True,\n",
    "                             field=False, \n",
    "                             divrate=False, \n",
    "                             stress=False, \n",
    "                             key=False)\n",
    "\n",
    "#init secretion nn\n",
    "SEC_HIDDEN = [5]*2\n",
    "\n",
    "sec_init, sec_nn_apply = sec_nn(params,train_params,SEC_HIDDEN,use_state_fields,train=True)\n",
    "\n",
    "key, init_key = split(key)\n",
    "params, train_params = sec_init(istate, init_key)"
   ]
  },
  {
   "cell_type": "markdown",
   "id": "45d7f9c5-bec7-4577-aeea-a296f0073ed4",
   "metadata": {},
   "source": [
    "## Generate init-apply functions"
   ]
  },
  {
   "cell_type": "code",
   "execution_count": 22,
   "id": "afff99f5-7ef6-434a-8e6e-3495d4436eca",
   "metadata": {},
   "outputs": [],
   "source": [
    "# functions in this list will be executed in the given order\n",
    "# at each simulation step\n",
    "\n",
    "fstep = [\n",
    "    S_cell_division,\n",
    "    partial(S_grow_cells, grate=.05),\n",
    "    S_mechmin_twotypes,\n",
    "    partial(S_ss_chemfield, sec_fn=sec_nn_apply, n_iter=5),\n",
    "    S_chemical_gradients,\n",
    "    partial(S_set_divrate, divrate_fn=eqx.filter_jit(div_nn_apply))\n",
    "]\n",
    "\n",
    "\n",
    "sim_init, sim_step = simulation(fstep, params, fspace)"
   ]
  },
  {
   "cell_type": "markdown",
   "id": "46269d88-92f2-4dc1-ad1d-1435db123911",
   "metadata": {},
   "source": [
    "# Optimization"
   ]
  },
  {
   "cell_type": "code",
   "execution_count": 130,
   "id": "53f5c7ce-19f5-4456-b1e9-e5ddf00275bd",
   "metadata": {},
   "outputs": [],
   "source": [
    "from jax import vmap, value_and_grad\n",
    "\n",
    "import optax\n",
    "from optax import adam, sgd\n",
    "\n",
    "from jax_morph.losses import reinforce_loss, avg_loss, simple_loss\n",
    "from jax_morph.state_metrics import diff_n_ctypes"
   ]
  },
  {
   "cell_type": "markdown",
   "id": "e4228e12-f72e-49e0-be3e-9e09d2296f0d",
   "metadata": {
    "tags": []
   },
   "source": [
    "## Shape metrics"
   ]
  },
  {
   "cell_type": "code",
   "execution_count": 107,
   "id": "26944ec9-3bfa-4bb2-8edb-2ea83c2f175c",
   "metadata": {},
   "outputs": [],
   "source": [
    "def tunnel_metric(state):\n",
    "    '''\n",
    "    Costrain cell growth in a vertical \"tunnel\".\n",
    "    '''\n",
    "    \n",
    "    # eigv = np.linalg.eigvalsh(np.cov(state.position, rowvar=False))\n",
    "    \n",
    "    #DIFFERENCE\n",
    "    # eigv_diff = np.sqrt((eigv[0]-eigv[1])**2)\n",
    "    # m=eigv_diff\n",
    "    \n",
    "    #ENTROPY\n",
    "    # eigv_h = eigv/eigv.sum()\n",
    "    # eigv_h = -np.sum(eigv_h*np.log(eigv_h))\n",
    "    # m=eigv_h\n",
    "    \n",
    "    ### SUM OF X\n",
    "    #m = np.sqrt(np.mean(np.power(state.position[:,0],2)))#-np.sqrt(np.mean(np.power(state.position[:,1],2)))\n",
    "    \n",
    "    p = np.sum(np.where(np.abs(state.position[:,0])<2.,-1.,2)*np.where(state.celltype>0,1,0))\n",
    "    \n",
    "    #r = np.sum(np.where((np.abs(state.position[:,0])<2.) * (np.abs(state.position[:,1])>3.),-4,0)*np.where(state.celltype>0,1,0))\n",
    "    \n",
    "    r=0.\n",
    "    \n",
    "    m = (p+r)/np.where(state.celltype>0,1,0).sum()\n",
    "\n",
    "    # m = state.chemical[:,0]*np.where(state.celltype>0,1,0)\n",
    "    # m = m.mean()\n",
    "    \n",
    "    return m"
   ]
  },
  {
   "cell_type": "code",
   "execution_count": 108,
   "id": "83d4ec38-7470-4551-8007-d08f5166305b",
   "metadata": {},
   "outputs": [],
   "source": [
    "def v_metric(state):\n",
    "    '''\n",
    "    Costrain cell growth in a V shape.\n",
    "    '''\n",
    "    \n",
    "    \n",
    "    p = np.sum(np.where(state.position[:,1] > np.abs(state.position[:,0]),-1.,2)*np.where(state.celltype>0,1,0))\n",
    "    #p += np.sum(np.where(state.position[:,1]/np.abs(state.position[:,0])>3.,3.,0.)*np.where(state.celltype>0,1,0))\n",
    "    \n",
    "    #r = np.sum(np.where((np.abs(state.position[:,0])<2.) * (np.abs(state.position[:,1])>3.),-4,0)*np.where(state.celltype>0,1,0))\n",
    "    \n",
    "    r=0.\n",
    "    \n",
    "    m = (p+r)/np.where(state.celltype>0,1,0).sum()\n",
    "\n",
    "    # m = state.chemical[:,0]*np.where(state.celltype>0,1,0)\n",
    "    # m = m.mean()\n",
    "    \n",
    "    return m"
   ]
  },
  {
   "cell_type": "code",
   "execution_count": 109,
   "id": "c794d3d8-14c2-4be7-b5b5-5cf2b69530d4",
   "metadata": {},
   "outputs": [],
   "source": [
    "def x_metric(state):\n",
    "    '''\n",
    "    Costrain cell growth in a X-shaped \"tunnel\".\n",
    "    '''\n",
    "    \n",
    "    mask = (state.position[:,1] > (state.position[:,0]-1)) * (state.position[:,1] < (state.position[:,0]+1))\n",
    "    mask = mask + (state.position[:,1] > (-state.position[:,0]-1)) * (state.position[:,1] < (-state.position[:,0]+1))\n",
    "    \n",
    "    p = np.sum(np.where(mask,-1.,2)*np.where(state.celltype>0,1,0))\n",
    "    \n",
    "    #r = np.sum(np.where((np.abs(state.position[:,0])<2.) * (np.abs(state.position[:,1])>3.),-4,0)*np.where(state.celltype>0,1,0))\n",
    "    \n",
    "    r=0.\n",
    "    \n",
    "    m = (p+r)/np.where(state.celltype>0,1,0).sum()\n",
    "\n",
    "    # m = state.chemical[:,0]*np.where(state.celltype>0,1,0)\n",
    "    # m = m.mean()\n",
    "    \n",
    "    return m"
   ]
  },
  {
   "cell_type": "code",
   "execution_count": 110,
   "id": "699fa8b0-26b3-436b-8db5-d5f82a3e5303",
   "metadata": {},
   "outputs": [],
   "source": [
    "def elongation_metric(state):\n",
    "    '''\n",
    "    Evaluate asymmetry of cell growth.\n",
    "    '''\n",
    "    \n",
    "    eig, A = np.linalg.eigh(np.cov(state.position.T))\n",
    "\n",
    "    pos_aligned = state.position @ A\n",
    "    \n",
    "    p = np.sum(np.where(np.abs(pos_aligned[:,0])<2.,-1.,2)*np.where(state.celltype>0,1,0))\n",
    "    \n",
    "    #r = np.sum(np.where((np.abs(state.position[:,0])<2.) * (np.abs(state.position[:,1])>3.),-4,0)*np.where(state.celltype>0,1,0))\n",
    "    \n",
    "    r=0.\n",
    "    \n",
    "    m = (p+r)/np.where(state.celltype>0,1,0).sum()\n",
    "\n",
    "    # m = state.chemical[:,0]*np.where(state.celltype>0,1,0)\n",
    "    # m = m.mean()\n",
    "    \n",
    "    return m"
   ]
  },
  {
   "cell_type": "code",
   "execution_count": 111,
   "id": "343a3a69-05de-4d47-908c-f523a75b5ccd",
   "metadata": {},
   "outputs": [],
   "source": [
    "def circle_metric(state, R=2.):\n",
    "    return np.sum(np.where((state.position**2).sum(1)<R**2, -1, 2)*np.where(state.celltype>0,1,0))"
   ]
  },
  {
   "cell_type": "code",
   "execution_count": null,
   "id": "b7f32510-6cb7-4472-8b7c-a3fb8e493dac",
   "metadata": {},
   "outputs": [],
   "source": []
  },
  {
   "cell_type": "markdown",
   "id": "ad360f06-e5aa-450b-8bd8-9ba0c3430e7e",
   "metadata": {},
   "source": [
    "## Reinforce loss"
   ]
  },
  {
   "cell_type": "raw",
   "id": "6309ed50-9a0d-420d-bd70-09ebef3dcbdf",
   "metadata": {},
   "source": [
    "@eqx.filter_jit\n",
    "@eqx.filter_vmap(default=None, kwargs=dict(sim_key=0))\n",
    "def shape_loss_fr(params, \n",
    "            hyper_params,\n",
    "            fstep,\n",
    "            fspace,\n",
    "            istate,\n",
    "            sim_key=None,\n",
    "            metric_fn=None,\n",
    "            target_metric=0.,\n",
    "            REINFORCE=True,\n",
    "            GAMMA=.95,\n",
    "            TEST=False,\n",
    "           ):\n",
    "    '''\n",
    "    REINFORCE loss with discounting.  \n",
    "    '''\n",
    "    \n",
    "    def _sim_trajectory(istate, sim_init, sim_step, ncells_add, key=None):\n",
    "\n",
    "        state = sim_init(istate, ncells_add, key)\n",
    "\n",
    "        def scan_fn(state, i):\n",
    "            state, logp = sim_step(state)\n",
    "            loss = np.sum((metric_fn(state) - target_metric)**2)\n",
    "            loss = np.sqrt(loss)\n",
    "            return state, (logp, loss)\n",
    "\n",
    "\n",
    "        iterations = len(state.celltype)-len(istate.celltype)\n",
    "        iterations = np.arange(iterations)\n",
    "        fstate, aux = lax.scan(scan_fn, state, iterations)\n",
    "\n",
    "        return fstate, aux\n",
    "\n",
    "    # merge params dicts\n",
    "    all_params = eqx.combine(params, hyper_params)\n",
    "    \n",
    "    #simulation length\n",
    "    ncells_add = all_params['ncells_add']\n",
    "\n",
    "\n",
    "    #forward pass - simulation\n",
    "    sim_init, sim_step = simulation(fstep, all_params, fspace)\n",
    "    fstate, (logp, losses) = _sim_trajectory(istate, sim_init, sim_step, ncells_add, sim_key)\n",
    "\n",
    "\n",
    "    \n",
    "    if REINFORCE:\n",
    "        \n",
    "        def _returns_rec(losses):\n",
    "            Gs=[]\n",
    "            G=0\n",
    "            i=0\n",
    "            for l in losses[::-1]:\n",
    "                G = l+G*GAMMA\n",
    "                Gs.append(G)\n",
    "                i += 1\n",
    "\n",
    "            return np.array(Gs)[::-1]\n",
    "        \n",
    "        iloss = np.sqrt(np.sum((metric_fn(istate) - target_metric)**2))\n",
    "        rewards = -np.diff(np.append(np.array([iloss]),losses))\n",
    "        \n",
    "        #discount rewards\n",
    "        returns = _returns_rec(rewards)\n",
    "        \n",
    "        loss = -np.sum(logp*lax.stop_gradient(returns))#+rewards.sum()\n",
    "        \n",
    "        return loss\n",
    "    \n",
    "    if TEST:\n",
    "        return losses, rewards, logp\n",
    "\n",
    "    else:\n",
    "        return losses[-1]"
   ]
  },
  {
   "cell_type": "code",
   "execution_count": 112,
   "id": "32e5fc2a-64ae-4203-924f-7a262f6b4d19",
   "metadata": {},
   "outputs": [],
   "source": [
    "@eqx.filter_jit\n",
    "@eqx.filter_vmap(default=None, kwargs=dict(sim_key=0))\n",
    "def shape_loss_fr(params, \n",
    "            hyper_params,\n",
    "            fstep,\n",
    "            fspace,\n",
    "            istate,\n",
    "            sim_key=None,\n",
    "            metric_fn=None,\n",
    "            target_metric=0.,\n",
    "            REINFORCE=True,\n",
    "            GAMMA=.95,\n",
    "            TEST=False,\n",
    "           ):\n",
    "    '''\n",
    "    REINFORCE loss with discounting.  \n",
    "    '''\n",
    "    \n",
    "    def _sim_trajectory(istate, sim_init, sim_step, ncells_add, key=None):\n",
    "\n",
    "        state = sim_init(istate, ncells_add, key)\n",
    "\n",
    "        def scan_fn(state, i):\n",
    "            state, logp = sim_step(state)\n",
    "            loss = np.sum((metric_fn(state) - target_metric)**2)\n",
    "            loss = np.sqrt(loss)\n",
    "            return state, (logp, loss)\n",
    "\n",
    "\n",
    "        iterations = len(state.celltype)-len(istate.celltype)\n",
    "        iterations = np.arange(iterations)\n",
    "            \n",
    "        auxs = []\n",
    "        for i in iterations:\n",
    "            state, aux = scan_fn(state, i)\n",
    "            auxs += [aux]\n",
    "\n",
    "        return state, np.array(auxs)\n",
    "\n",
    "    # merge params dicts\n",
    "    all_params = eqx.combine(params, hyper_params)\n",
    "    \n",
    "    #simulation length\n",
    "    ncells_add = all_params['ncells_add']\n",
    "\n",
    "\n",
    "    #forward pass - simulation\n",
    "    sim_init, sim_step = simulation(fstep, all_params, fspace)\n",
    "    fstate, (logp, losses) = _sim_trajectory(istate, sim_init, sim_step, ncells_add, sim_key)\n",
    "\n",
    "\n",
    "    \n",
    "    if REINFORCE:\n",
    "        \n",
    "        def _returns_rec(losses):\n",
    "            Gs=[]\n",
    "            G=0\n",
    "            i=0\n",
    "            for l in losses[::-1]:\n",
    "                G = l+G*GAMMA\n",
    "                Gs.append(G)\n",
    "                i += 1\n",
    "\n",
    "            return np.array(Gs)[::-1]\n",
    "        \n",
    "        iloss = np.sqrt(np.sum((metric_fn(istate) - target_metric)**2))\n",
    "        rewards = -np.diff(np.append(np.array([iloss]),losses))\n",
    "        \n",
    "        #discount rewards\n",
    "        returns = _returns_rec(rewards)\n",
    "        \n",
    "        loss = -np.sum(logp*lax.stop_gradient(returns))#+rewards.sum()\n",
    "        \n",
    "        return loss\n",
    "    \n",
    "    if TEST:\n",
    "        return losses, rewards, logp\n",
    "\n",
    "    else:\n",
    "        return losses[-1]"
   ]
  },
  {
   "cell_type": "raw",
   "id": "6783dc07-89c7-486d-a037-63855d6939b5",
   "metadata": {},
   "source": [
    "p, hp = eqx.partition(params, train_params)\n",
    "\n",
    "ll, dl, lp = shape_loss_fr(p, \n",
    "            hp,\n",
    "            fstep,\n",
    "            fspace,\n",
    "            istate,\n",
    "            sim_key=None,\n",
    "            metric_fn=oval_metric,\n",
    "            target_metric=-2.,\n",
    "            REINFORCE=True,\n",
    "            GAMMA=.9,\n",
    "            TEST=True\n",
    "             )"
   ]
  },
  {
   "cell_type": "code",
   "execution_count": null,
   "id": "57d685c9-be4a-4a59-882f-024fbdd1f017",
   "metadata": {},
   "outputs": [],
   "source": []
  },
  {
   "cell_type": "markdown",
   "id": "5705bd9d-24b9-4d6c-bfc1-3b2618c533bd",
   "metadata": {
    "tags": []
   },
   "source": [
    "## Optimization loop"
   ]
  },
  {
   "cell_type": "code",
   "execution_count": 113,
   "id": "38b2fb1c-157f-48ae-8305-118a08686c3d",
   "metadata": {
    "tags": []
   },
   "outputs": [
    {
     "ename": "ConcretizationTypeError",
     "evalue": "Abstract tracer value encountered where concrete value is expected: Traced<ShapedArray(int32[])>with<BatchTrace(level=4/1)> with\n  val = Traced<ShapedArray(int32[32])>with<DynamicJaxprTrace(level=3/1)>\n  batch_dim = 0\nThe size argument of jnp.nonzero must be statically specified to use jnp.nonzero within JAX transformations.\nThis Tracer was created on line /tmp/ipykernel_1240080/3695481021.py:19 (chem_grad)\n\nSee https://jax.readthedocs.io/en/latest/errors.html#jax.errors.ConcretizationTypeError",
     "output_type": "error",
     "traceback": [
      "\u001b[0;31m---------------------------------------------------------------------------\u001b[0m",
      "\u001b[0;31mConcretizationTypeError\u001b[0m                   Traceback (most recent call last)",
      "Input \u001b[0;32mIn [113]\u001b[0m, in \u001b[0;36m<cell line: 28>\u001b[0;34m()\u001b[0m\n\u001b[1;32m     25\u001b[0m key, \u001b[38;5;241m*\u001b[39mbatch_subkeys \u001b[38;5;241m=\u001b[39m split(key, EPISODES_PER_UPDATE\u001b[38;5;241m+\u001b[39m\u001b[38;5;241m1\u001b[39m)\n\u001b[1;32m     26\u001b[0m batch_subkeys \u001b[38;5;241m=\u001b[39m np\u001b[38;5;241m.\u001b[39marray(batch_subkeys)\n\u001b[0;32m---> 28\u001b[0m ll, grads \u001b[38;5;241m=\u001b[39m \u001b[43mvalue_and_grad\u001b[49m\u001b[43m(\u001b[49m\u001b[43mavg_loss\u001b[49m\u001b[43m)\u001b[49m\u001b[43m(\u001b[49m\u001b[43mp\u001b[49m\u001b[43m,\u001b[49m\u001b[43m \u001b[49m\u001b[43mhp\u001b[49m\u001b[43m,\u001b[49m\u001b[43m \u001b[49m\u001b[43mrloss\u001b[49m\u001b[43m,\u001b[49m\u001b[43m \u001b[49m\u001b[43mbatch_subkeys\u001b[49m\u001b[43m,\u001b[49m\u001b[43m \u001b[49m\u001b[43mfstep\u001b[49m\u001b[38;5;241;43m=\u001b[39;49m\u001b[43mfstep\u001b[49m\u001b[43m,\u001b[49m\u001b[43m \u001b[49m\u001b[43mfspace\u001b[49m\u001b[38;5;241;43m=\u001b[39;49m\u001b[43mfspace\u001b[49m\u001b[43m,\u001b[49m\u001b[43m \u001b[49m\u001b[43mistate\u001b[49m\u001b[38;5;241;43m=\u001b[39;49m\u001b[43mistate\u001b[49m\u001b[43m)\u001b[49m\n\u001b[1;32m     31\u001b[0m key, \u001b[38;5;241m*\u001b[39meval_subkeys \u001b[38;5;241m=\u001b[39m split(key, EPISODES_PER_EVAL\u001b[38;5;241m+\u001b[39m\u001b[38;5;241m1\u001b[39m)\n\u001b[1;32m     32\u001b[0m eval_subkeys \u001b[38;5;241m=\u001b[39m np\u001b[38;5;241m.\u001b[39marray(eval_subkeys)\n",
      "    \u001b[0;31m[... skipping hidden 8 frame]\u001b[0m\n",
      "File \u001b[0;32m~/.conda/envs/jax/lib/python3.10/site-packages/jax_morph-0.1-py3.10.egg/jax_morph/losses.py:141\u001b[0m, in \u001b[0;36mavg_loss\u001b[0;34m(params, hyper_params, vloss_fn, sim_keys, **kwargs)\u001b[0m\n\u001b[1;32m    139\u001b[0m \u001b[38;5;28;01mdef\u001b[39;00m \u001b[38;5;21mavg_loss\u001b[39m(params, hyper_params, vloss_fn, sim_keys, \u001b[38;5;241m*\u001b[39m\u001b[38;5;241m*\u001b[39mkwargs):\n\u001b[0;32m--> 141\u001b[0m     lss \u001b[38;5;241m=\u001b[39m \u001b[43mvloss_fn\u001b[49m\u001b[43m(\u001b[49m\u001b[43mparams\u001b[49m\u001b[43m,\u001b[49m\u001b[43m \u001b[49m\u001b[43mhyper_params\u001b[49m\u001b[43m,\u001b[49m\u001b[43m \u001b[49m\u001b[43msim_key\u001b[49m\u001b[38;5;241;43m=\u001b[39;49m\u001b[43msim_keys\u001b[49m\u001b[43m,\u001b[49m\u001b[43m \u001b[49m\u001b[38;5;241;43m*\u001b[39;49m\u001b[38;5;241;43m*\u001b[39;49m\u001b[43mkwargs\u001b[49m\u001b[43m)\u001b[49m\n\u001b[1;32m    143\u001b[0m     \u001b[38;5;28;01mreturn\u001b[39;00m np\u001b[38;5;241m.\u001b[39mmean(lss)\n",
      "File \u001b[0;32m~/.conda/envs/jax/lib/python3.10/site-packages/equinox/jit.py:95\u001b[0m, in \u001b[0;36m_JitWrapper.__call__\u001b[0;34m(_JitWrapper__self, *args, **kwargs)\u001b[0m\n\u001b[1;32m     94\u001b[0m \u001b[38;5;28;01mdef\u001b[39;00m \u001b[38;5;21m__call__\u001b[39m(__self, \u001b[38;5;241m*\u001b[39margs, \u001b[38;5;241m*\u001b[39m\u001b[38;5;241m*\u001b[39mkwargs):\n\u001b[0;32m---> 95\u001b[0m     \u001b[38;5;28;01mreturn\u001b[39;00m \u001b[43m__self\u001b[49m\u001b[38;5;241;43m.\u001b[39;49m\u001b[43m_fun_wrapper\u001b[49m\u001b[43m(\u001b[49m\u001b[38;5;28;43;01mFalse\u001b[39;49;00m\u001b[43m,\u001b[49m\u001b[43m \u001b[49m\u001b[43margs\u001b[49m\u001b[43m,\u001b[49m\u001b[43m \u001b[49m\u001b[43mkwargs\u001b[49m\u001b[43m)\u001b[49m\n",
      "File \u001b[0;32m~/.conda/envs/jax/lib/python3.10/site-packages/equinox/jit.py:91\u001b[0m, in \u001b[0;36m_JitWrapper._fun_wrapper\u001b[0;34m(self, is_lower, args, kwargs)\u001b[0m\n\u001b[1;32m     89\u001b[0m     \u001b[38;5;28;01mreturn\u001b[39;00m \u001b[38;5;28mself\u001b[39m\u001b[38;5;241m.\u001b[39m_cached\u001b[38;5;241m.\u001b[39mlower(dynamic, static)\n\u001b[1;32m     90\u001b[0m \u001b[38;5;28;01melse\u001b[39;00m:\n\u001b[0;32m---> 91\u001b[0m     dynamic_out, static_out \u001b[38;5;241m=\u001b[39m \u001b[38;5;28;43mself\u001b[39;49m\u001b[38;5;241;43m.\u001b[39;49m\u001b[43m_cached\u001b[49m\u001b[43m(\u001b[49m\u001b[43mdynamic\u001b[49m\u001b[43m,\u001b[49m\u001b[43m \u001b[49m\u001b[43mstatic\u001b[49m\u001b[43m)\u001b[49m\n\u001b[1;32m     92\u001b[0m     \u001b[38;5;28;01mreturn\u001b[39;00m combine(dynamic_out, static_out\u001b[38;5;241m.\u001b[39mvalue)\n",
      "    \u001b[0;31m[... skipping hidden 20 frame]\u001b[0m\n",
      "File \u001b[0;32m~/.conda/envs/jax/lib/python3.10/site-packages/equinox/jit.py:38\u001b[0m, in \u001b[0;36m_filter_jit_cache.<locals>.fun_wrapped\u001b[0;34m(dynamic, static)\u001b[0m\n\u001b[1;32m     34\u001b[0m fun \u001b[38;5;241m=\u001b[39m hashable_combine(dynamic_fun, static_fun_leaves, static_fun_treedef)\n\u001b[1;32m     35\u001b[0m args, kwargs \u001b[38;5;241m=\u001b[39m hashable_combine(\n\u001b[1;32m     36\u001b[0m     dynamic_spec, static_spec_leaves, static_spec_treedef\n\u001b[1;32m     37\u001b[0m )\n\u001b[0;32m---> 38\u001b[0m out \u001b[38;5;241m=\u001b[39m \u001b[43mfun\u001b[49m\u001b[43m(\u001b[49m\u001b[38;5;241;43m*\u001b[39;49m\u001b[43margs\u001b[49m\u001b[43m,\u001b[49m\u001b[43m \u001b[49m\u001b[38;5;241;43m*\u001b[39;49m\u001b[38;5;241;43m*\u001b[39;49m\u001b[43mkwargs\u001b[49m\u001b[43m)\u001b[49m\n\u001b[1;32m     39\u001b[0m dynamic_out, static_out \u001b[38;5;241m=\u001b[39m partition(out, filter_out)\n\u001b[1;32m     40\u001b[0m \u001b[38;5;28;01mreturn\u001b[39;00m dynamic_out, Static(static_out)\n",
      "File \u001b[0;32m~/.conda/envs/jax/lib/python3.10/site-packages/equinox/vmap_pmap.py:195\u001b[0m, in \u001b[0;36m_VmapWrapper.__call__\u001b[0;34m(***failed resolving arguments***)\u001b[0m\n\u001b[1;32m    192\u001b[0m \u001b[38;5;28;01mdel\u001b[39;00m _args, _kwargs\n\u001b[1;32m    193\u001b[0m in_axes \u001b[38;5;241m=\u001b[39m _map_axes(in_axes)\n\u001b[0;32m--> 195\u001b[0m max_out_size \u001b[38;5;241m=\u001b[39m \u001b[43m_get_max_out_size\u001b[49m\u001b[43m(\u001b[49m\n\u001b[1;32m    196\u001b[0m \u001b[43m    \u001b[49m\u001b[43m__self\u001b[49m\u001b[38;5;241;43m.\u001b[39;49m\u001b[43m_fun\u001b[49m\u001b[43m,\u001b[49m\n\u001b[1;32m    197\u001b[0m \u001b[43m    \u001b[49m\u001b[43mbound\u001b[49m\u001b[38;5;241;43m.\u001b[39;49m\u001b[43margs\u001b[49m\u001b[43m,\u001b[49m\n\u001b[1;32m    198\u001b[0m \u001b[43m    \u001b[49m\u001b[43mbound\u001b[49m\u001b[38;5;241;43m.\u001b[39;49m\u001b[43mkwargs\u001b[49m\u001b[43m,\u001b[49m\n\u001b[1;32m    199\u001b[0m \u001b[43m    \u001b[49m\u001b[43min_axes\u001b[49m\u001b[43m,\u001b[49m\n\u001b[1;32m    200\u001b[0m \u001b[43m    \u001b[49m\u001b[43m__self\u001b[49m\u001b[38;5;241;43m.\u001b[39;49m\u001b[43m_vmapkwargs\u001b[49m\u001b[43m,\u001b[49m\n\u001b[1;32m    201\u001b[0m \u001b[43m    \u001b[49m\u001b[43mcache\u001b[49m\u001b[38;5;241;43m=\u001b[39;49m\u001b[38;5;28;43;01mFalse\u001b[39;49;00m\u001b[43m,\u001b[49m\n\u001b[1;32m    202\u001b[0m \u001b[43m\u001b[49m\u001b[43m)\u001b[49m\n\u001b[1;32m    203\u001b[0m out_axes \u001b[38;5;241m=\u001b[39m (\u001b[38;5;28mlist\u001b[39m(\u001b[38;5;28mrange\u001b[39m(\u001b[38;5;241m-\u001b[39mmax_out_size, max_out_size)), \u001b[38;5;28;01mNone\u001b[39;00m)\n\u001b[1;32m    204\u001b[0m vmapd, nonvmapd \u001b[38;5;241m=\u001b[39m jax\u001b[38;5;241m.\u001b[39mvmap(\n\u001b[1;32m    205\u001b[0m     _fun_wrapper, in_axes\u001b[38;5;241m=\u001b[39min_axes, out_axes\u001b[38;5;241m=\u001b[39mout_axes, \u001b[38;5;241m*\u001b[39m\u001b[38;5;241m*\u001b[39m__self\u001b[38;5;241m.\u001b[39m_vmapkwargs\n\u001b[1;32m    206\u001b[0m )(__self\u001b[38;5;241m.\u001b[39m_fun, bound\u001b[38;5;241m.\u001b[39margs, bound\u001b[38;5;241m.\u001b[39mkwargs)\n",
      "File \u001b[0;32m~/.conda/envs/jax/lib/python3.10/site-packages/equinox/vmap_pmap.py:151\u001b[0m, in \u001b[0;36m_get_max_out_size\u001b[0;34m(fun, args, kwargs, in_axes, mapkwargs, cache)\u001b[0m\n\u001b[1;32m    149\u001b[0m leaves, treedef \u001b[38;5;241m=\u001b[39m jtu\u001b[38;5;241m.\u001b[39mtree_flatten((static, struct, in_axes))\n\u001b[1;32m    150\u001b[0m leaves \u001b[38;5;241m=\u001b[39m \u001b[38;5;28mtuple\u001b[39m(leaves)\n\u001b[0;32m--> 151\u001b[0m \u001b[38;5;28;01mreturn\u001b[39;00m \u001b[43m_eval_shape_fn\u001b[49m\u001b[43m(\u001b[49m\u001b[43mleaves\u001b[49m\u001b[43m,\u001b[49m\u001b[43m \u001b[49m\u001b[43mtreedef\u001b[49m\u001b[43m,\u001b[49m\u001b[43m \u001b[49m\u001b[43maxis_name\u001b[49m\u001b[43m,\u001b[49m\u001b[43m \u001b[49m\u001b[43maxis_size\u001b[49m\u001b[43m)\u001b[49m\n",
      "File \u001b[0;32m~/.conda/envs/jax/lib/python3.10/site-packages/equinox/vmap_pmap.py:116\u001b[0m, in \u001b[0;36m_eval_shape\u001b[0;34m(leaves, treedef, axis_name, axis_size)\u001b[0m\n\u001b[1;32m    114\u001b[0m     mapkwargs[\u001b[38;5;124m\"\u001b[39m\u001b[38;5;124maxis_size\u001b[39m\u001b[38;5;124m\"\u001b[39m] \u001b[38;5;241m=\u001b[39m axis_size\n\u001b[1;32m    115\u001b[0m fn \u001b[38;5;241m=\u001b[39m jax\u001b[38;5;241m.\u001b[39mvmap(fn, in_axes\u001b[38;5;241m=\u001b[39m(in_axes,), \u001b[38;5;241m*\u001b[39m\u001b[38;5;241m*\u001b[39mmapkwargs)\n\u001b[0;32m--> 116\u001b[0m struct_out \u001b[38;5;241m=\u001b[39m \u001b[43mjax\u001b[49m\u001b[38;5;241;43m.\u001b[39;49m\u001b[43meval_shape\u001b[49m\u001b[43m(\u001b[49m\u001b[43mfn\u001b[49m\u001b[43m,\u001b[49m\u001b[43m \u001b[49m\u001b[43mstruct\u001b[49m\u001b[43m)\u001b[49m\n\u001b[1;32m    117\u001b[0m \u001b[38;5;28;01mreturn\u001b[39;00m jtu\u001b[38;5;241m.\u001b[39mtree_reduce(\u001b[38;5;28;01mlambda\u001b[39;00m x, y: \u001b[38;5;28mmax\u001b[39m(x, y\u001b[38;5;241m.\u001b[39mndim), struct_out, \u001b[38;5;241m0\u001b[39m)\n",
      "    \u001b[0;31m[... skipping hidden 10 frame]\u001b[0m\n",
      "File \u001b[0;32m~/.conda/envs/jax/lib/python3.10/site-packages/equinox/vmap_pmap.py:101\u001b[0m, in \u001b[0;36m_eval_and_return_arraylike\u001b[0;34m(static, dynamic)\u001b[0m\n\u001b[1;32m     99\u001b[0m \u001b[38;5;28;01mdef\u001b[39;00m \u001b[38;5;21m_eval_and_return_arraylike\u001b[39m(static, dynamic):\n\u001b[1;32m    100\u001b[0m     fun, args, kwargs \u001b[38;5;241m=\u001b[39m combine(static, dynamic)\n\u001b[0;32m--> 101\u001b[0m     out \u001b[38;5;241m=\u001b[39m \u001b[43mfun\u001b[49m\u001b[43m(\u001b[49m\u001b[38;5;241;43m*\u001b[39;49m\u001b[43margs\u001b[49m\u001b[43m,\u001b[49m\u001b[43m \u001b[49m\u001b[38;5;241;43m*\u001b[39;49m\u001b[38;5;241;43m*\u001b[39;49m\u001b[43mkwargs\u001b[49m\u001b[43m)\u001b[49m\n\u001b[1;32m    102\u001b[0m     \u001b[38;5;28;01mreturn\u001b[39;00m \u001b[38;5;28mfilter\u001b[39m(out, is_array_like)\n",
      "Input \u001b[0;32mIn [112]\u001b[0m, in \u001b[0;36mshape_loss_fr\u001b[0;34m(params, hyper_params, fstep, fspace, istate, sim_key, metric_fn, target_metric, REINFORCE, GAMMA, TEST)\u001b[0m\n\u001b[1;32m     47\u001b[0m \u001b[38;5;66;03m#forward pass - simulation\u001b[39;00m\n\u001b[1;32m     48\u001b[0m sim_init, sim_step \u001b[38;5;241m=\u001b[39m simulation(fstep, all_params, fspace)\n\u001b[0;32m---> 49\u001b[0m fstate, (logp, losses) \u001b[38;5;241m=\u001b[39m \u001b[43m_sim_trajectory\u001b[49m\u001b[43m(\u001b[49m\u001b[43mistate\u001b[49m\u001b[43m,\u001b[49m\u001b[43m \u001b[49m\u001b[43msim_init\u001b[49m\u001b[43m,\u001b[49m\u001b[43m \u001b[49m\u001b[43msim_step\u001b[49m\u001b[43m,\u001b[49m\u001b[43m \u001b[49m\u001b[43mncells_add\u001b[49m\u001b[43m,\u001b[49m\u001b[43m \u001b[49m\u001b[43msim_key\u001b[49m\u001b[43m)\u001b[49m\n\u001b[1;32m     53\u001b[0m \u001b[38;5;28;01mif\u001b[39;00m REINFORCE:\n\u001b[1;32m     55\u001b[0m     \u001b[38;5;28;01mdef\u001b[39;00m \u001b[38;5;21m_returns_rec\u001b[39m(losses):\n",
      "Input \u001b[0;32mIn [112]\u001b[0m, in \u001b[0;36mshape_loss_fr.<locals>._sim_trajectory\u001b[0;34m(istate, sim_init, sim_step, ncells_add, key)\u001b[0m\n\u001b[1;32m     33\u001b[0m auxs \u001b[38;5;241m=\u001b[39m []\n\u001b[1;32m     34\u001b[0m \u001b[38;5;28;01mfor\u001b[39;00m i \u001b[38;5;129;01min\u001b[39;00m iterations:\n\u001b[0;32m---> 35\u001b[0m     state, aux \u001b[38;5;241m=\u001b[39m \u001b[43mscan_fn\u001b[49m\u001b[43m(\u001b[49m\u001b[43mstate\u001b[49m\u001b[43m,\u001b[49m\u001b[43m \u001b[49m\u001b[43mi\u001b[49m\u001b[43m)\u001b[49m\n\u001b[1;32m     36\u001b[0m     auxs \u001b[38;5;241m+\u001b[39m\u001b[38;5;241m=\u001b[39m [aux]\n\u001b[1;32m     38\u001b[0m \u001b[38;5;28;01mreturn\u001b[39;00m state, np\u001b[38;5;241m.\u001b[39marray(auxs)\n",
      "Input \u001b[0;32mIn [112]\u001b[0m, in \u001b[0;36mshape_loss_fr.<locals>._sim_trajectory.<locals>.scan_fn\u001b[0;34m(state, i)\u001b[0m\n\u001b[1;32m     23\u001b[0m \u001b[38;5;28;01mdef\u001b[39;00m \u001b[38;5;21mscan_fn\u001b[39m(state, i):\n\u001b[0;32m---> 24\u001b[0m     state, logp \u001b[38;5;241m=\u001b[39m \u001b[43msim_step\u001b[49m\u001b[43m(\u001b[49m\u001b[43mstate\u001b[49m\u001b[43m)\u001b[49m\n\u001b[1;32m     25\u001b[0m     loss \u001b[38;5;241m=\u001b[39m np\u001b[38;5;241m.\u001b[39msum((metric_fn(state) \u001b[38;5;241m-\u001b[39m target_metric)\u001b[38;5;241m*\u001b[39m\u001b[38;5;241m*\u001b[39m\u001b[38;5;241m2\u001b[39m)\n\u001b[1;32m     26\u001b[0m     loss \u001b[38;5;241m=\u001b[39m np\u001b[38;5;241m.\u001b[39msqrt(loss)\n",
      "Input \u001b[0;32mIn [98]\u001b[0m, in \u001b[0;36msimulation.<locals>.sim_step\u001b[0;34m(state)\u001b[0m\n\u001b[1;32m     38\u001b[0m state, logp \u001b[38;5;241m=\u001b[39m fstep[\u001b[38;5;241m0\u001b[39m](state, params, fspace)\n\u001b[1;32m     40\u001b[0m \u001b[38;5;28;01mfor\u001b[39;00m i \u001b[38;5;129;01min\u001b[39;00m \u001b[38;5;28mrange\u001b[39m(\u001b[38;5;241m1\u001b[39m,n_ops):\n\u001b[0;32m---> 41\u001b[0m     state \u001b[38;5;241m=\u001b[39m \u001b[43mfstep\u001b[49m\u001b[43m[\u001b[49m\u001b[43mi\u001b[49m\u001b[43m]\u001b[49m\u001b[43m(\u001b[49m\u001b[43mstate\u001b[49m\u001b[43m,\u001b[49m\u001b[43m \u001b[49m\u001b[43mparams\u001b[49m\u001b[43m,\u001b[49m\u001b[43m \u001b[49m\u001b[43mfspace\u001b[49m\u001b[43m)\u001b[49m\n\u001b[1;32m     43\u001b[0m \u001b[38;5;28;01mreturn\u001b[39;00m state, logp\n",
      "Input \u001b[0;32mIn [94]\u001b[0m, in \u001b[0;36mS_chemical_gradients\u001b[0;34m(state, params, fspace, R)\u001b[0m\n\u001b[1;32m     62\u001b[0m \u001b[38;5;28;01mdef\u001b[39;00m \u001b[38;5;21mS_chemical_gradients\u001b[39m(state, params, fspace, R\u001b[38;5;241m=\u001b[39m\u001b[38;5;28;01mNone\u001b[39;00m):\n\u001b[1;32m     63\u001b[0m     \u001b[38;5;124;03m'''\u001b[39;00m\n\u001b[1;32m     64\u001b[0m \u001b[38;5;124;03m    Calculate chemical gradients based on current chemical concentrations.\u001b[39;00m\n\u001b[1;32m     65\u001b[0m \u001b[38;5;124;03m    Gradients are given as an ncells x (grad_x + grad_y) matrix.\u001b[39;00m\n\u001b[1;32m     66\u001b[0m \u001b[38;5;124;03m    '''\u001b[39;00m\n\u001b[0;32m---> 68\u001b[0m     chemgrad \u001b[38;5;241m=\u001b[39m \u001b[43mchem_grad\u001b[49m\u001b[43m(\u001b[49m\u001b[43mstate\u001b[49m\u001b[43m,\u001b[49m\u001b[43m \u001b[49m\u001b[43mfspace\u001b[49m\u001b[43m,\u001b[49m\u001b[43m \u001b[49m\u001b[43mR\u001b[49m\u001b[43m)\u001b[49m\n\u001b[1;32m     70\u001b[0m     state \u001b[38;5;241m=\u001b[39m jax_dataclasses\u001b[38;5;241m.\u001b[39mreplace(state, chemgrad\u001b[38;5;241m=\u001b[39mchemgrad)\n\u001b[1;32m     72\u001b[0m     \u001b[38;5;28;01mreturn\u001b[39;00m state\n",
      "Input \u001b[0;32mIn [94]\u001b[0m, in \u001b[0;36mchem_grad\u001b[0;34m(state, fspace, R)\u001b[0m\n\u001b[1;32m     25\u001b[0m \u001b[38;5;28;01mif\u001b[39;00m \u001b[38;5;28;01mNone\u001b[39;00m \u001b[38;5;241m==\u001b[39m R:\n\u001b[1;32m     26\u001b[0m     \u001b[38;5;66;03m# \"touching\" distance betw. cells\u001b[39;00m\n\u001b[1;32m     27\u001b[0m     R \u001b[38;5;241m=\u001b[39m (state\u001b[38;5;241m.\u001b[39mradius\u001b[38;5;241m+\u001b[39mstate\u001b[38;5;241m.\u001b[39mradius[:,\u001b[38;5;28;01mNone\u001b[39;00m])\u001b[38;5;241m*\u001b[39mnp\u001b[38;5;241m.\u001b[39mouter(c_alive, c_alive)\n\u001b[0;32m---> 29\u001b[0m neig \u001b[38;5;241m=\u001b[39m \u001b[43mnp\u001b[49m\u001b[38;5;241;43m.\u001b[39;49m\u001b[43mnonzero\u001b[49m\u001b[43m(\u001b[49m\u001b[43m(\u001b[49m\u001b[43mdist\u001b[49m\u001b[38;5;241;43m<\u001b[39;49m\u001b[43mR\u001b[49m\u001b[43m)\u001b[49m\u001b[38;5;241;43m*\u001b[39;49m\u001b[43m(\u001b[49m\u001b[43mdist\u001b[49m\u001b[38;5;241;43m>\u001b[39;49m\u001b[38;5;241;43m.0\u001b[39;49m\u001b[43m)\u001b[49m\u001b[43m)\u001b[49m\n\u001b[1;32m     31\u001b[0m \u001b[38;5;66;03m# normalize all displacements\u001b[39;00m\n\u001b[1;32m     32\u001b[0m norm_disp \u001b[38;5;241m=\u001b[39m disp[neig]\u001b[38;5;241m/\u001b[39mdist[neig][:,\u001b[38;5;28;01mNone\u001b[39;00m]\n",
      "File \u001b[0;32m~/.conda/envs/jax/lib/python3.10/site-packages/jax/_src/numpy/lax_numpy.py:1219\u001b[0m, in \u001b[0;36mnonzero\u001b[0;34m(a, size, fill_value)\u001b[0m\n\u001b[1;32m   1217\u001b[0m \u001b[38;5;28;01mif\u001b[39;00m size \u001b[38;5;129;01mis\u001b[39;00m \u001b[38;5;28;01mNone\u001b[39;00m:\n\u001b[1;32m   1218\u001b[0m   size \u001b[38;5;241m=\u001b[39m mask\u001b[38;5;241m.\u001b[39msum()\n\u001b[0;32m-> 1219\u001b[0m size \u001b[38;5;241m=\u001b[39m \u001b[43mcore\u001b[49m\u001b[38;5;241;43m.\u001b[39;49m\u001b[43mconcrete_or_error\u001b[49m\u001b[43m(\u001b[49m\u001b[43moperator\u001b[49m\u001b[38;5;241;43m.\u001b[39;49m\u001b[43mindex\u001b[49m\u001b[43m,\u001b[49m\u001b[43m \u001b[49m\u001b[43msize\u001b[49m\u001b[43m,\u001b[49m\n\u001b[1;32m   1220\u001b[0m \u001b[43m  \u001b[49m\u001b[38;5;124;43m\"\u001b[39;49m\u001b[38;5;124;43mThe size argument of jnp.nonzero must be statically specified \u001b[39;49m\u001b[38;5;124;43m\"\u001b[39;49m\n\u001b[1;32m   1221\u001b[0m \u001b[43m  \u001b[49m\u001b[38;5;124;43m\"\u001b[39;49m\u001b[38;5;124;43mto use jnp.nonzero within JAX transformations.\u001b[39;49m\u001b[38;5;124;43m\"\u001b[39;49m\u001b[43m)\u001b[49m\n\u001b[1;32m   1222\u001b[0m \u001b[38;5;28;01mif\u001b[39;00m a\u001b[38;5;241m.\u001b[39msize \u001b[38;5;241m==\u001b[39m \u001b[38;5;241m0\u001b[39m \u001b[38;5;129;01mor\u001b[39;00m size \u001b[38;5;241m==\u001b[39m \u001b[38;5;241m0\u001b[39m:\n\u001b[1;32m   1223\u001b[0m   \u001b[38;5;28;01mreturn\u001b[39;00m \u001b[38;5;28mtuple\u001b[39m(zeros(size, \u001b[38;5;28mint\u001b[39m) \u001b[38;5;28;01mfor\u001b[39;00m dim \u001b[38;5;129;01min\u001b[39;00m a\u001b[38;5;241m.\u001b[39mshape)\n",
      "File \u001b[0;32m~/.conda/envs/jax/lib/python3.10/site-packages/jax/core.py:1155\u001b[0m, in \u001b[0;36mconcrete_or_error\u001b[0;34m(force, val, context)\u001b[0m\n\u001b[1;32m   1153\u001b[0m     \u001b[38;5;28;01mreturn\u001b[39;00m force(val\u001b[38;5;241m.\u001b[39maval\u001b[38;5;241m.\u001b[39mval)\n\u001b[1;32m   1154\u001b[0m   \u001b[38;5;28;01melse\u001b[39;00m:\n\u001b[0;32m-> 1155\u001b[0m     \u001b[38;5;28;01mraise\u001b[39;00m ConcretizationTypeError(val, context)\n\u001b[1;32m   1156\u001b[0m \u001b[38;5;28;01melse\u001b[39;00m:\n\u001b[1;32m   1157\u001b[0m   \u001b[38;5;28;01mreturn\u001b[39;00m force(val)\n",
      "\u001b[0;31mConcretizationTypeError\u001b[0m: Abstract tracer value encountered where concrete value is expected: Traced<ShapedArray(int32[])>with<BatchTrace(level=4/1)> with\n  val = Traced<ShapedArray(int32[32])>with<DynamicJaxprTrace(level=3/1)>\n  batch_dim = 0\nThe size argument of jnp.nonzero must be statically specified to use jnp.nonzero within JAX transformations.\nThis Tracer was created on line /tmp/ipykernel_1240080/3695481021.py:19 (chem_grad)\n\nSee https://jax.readthedocs.io/en/latest/errors.html#jax.errors.ConcretizationTypeError"
     ]
    }
   ],
   "source": [
    "EPOCHS = 10\n",
    "EPISODES_PER_UPDATE = 32 #128\n",
    "EPISODES_PER_EVAL = 100 #128\n",
    "\n",
    "LEARNING_RATE = 5e-2\n",
    "\n",
    "METRIC_FN = tunnel_metric\n",
    "TARGET_METRIC = -1.\n",
    "\n",
    "\n",
    "rloss = partial(shape_loss_fr, metric_fn=METRIC_FN, target_metric=TARGET_METRIC, REINFORCE=True)\n",
    "sloss = partial(shape_loss_fr, metric_fn=METRIC_FN, target_metric=TARGET_METRIC, REINFORCE=False)\n",
    "\n",
    "\n",
    "p, hp = eqx.partition(params, train_params)\n",
    "\n",
    "# init optimizer\n",
    "optimizer = optax.adam(LEARNING_RATE)\n",
    "opt_state = optimizer.init(p)\n",
    "\n",
    "\n",
    "#--------------------------------------------\n",
    "#store loss at initial params and calc grad \n",
    "\n",
    "key, *batch_subkeys = split(key, EPISODES_PER_UPDATE+1)\n",
    "batch_subkeys = np.array(batch_subkeys)\n",
    "\n",
    "ll, grads = value_and_grad(avg_loss)(p, hp, rloss, batch_subkeys, fstep=fstep, fspace=fspace, istate=istate)\n",
    "\n",
    "\n",
    "key, *eval_subkeys = split(key, EPISODES_PER_EVAL+1)\n",
    "eval_subkeys = np.array(eval_subkeys)\n",
    "\n",
    "l = avg_loss(p, hp, sloss, eval_subkeys, fstep=fstep, fspace=fspace, istate=istate)\n",
    "\n",
    "#store initial params and loss\n",
    "loss_t = [float(l)]\n",
    "params_t = [p]\n",
    "#rloss_t = [float(ll)]\n",
    "\n",
    "#print(grads['div_fn']['mlp/~/linear_0']['b'])\n",
    "\n",
    "#grads_t = [grads]\n",
    "\n",
    "#--------------------------------------------\n",
    "\n",
    "\n",
    "for t in tqdm(range(EPOCHS), total=EPOCHS):\n",
    "    \n",
    "    #generate batch of random keys\n",
    "    key, *batch_subkeys = split(key, EPISODES_PER_UPDATE+1)\n",
    "    batch_subkeys = np.array(batch_subkeys)\n",
    "        \n",
    "    #normalize grads\n",
    "    #grads = jax.tree_map(lambda x: x/np.sqrt(np.sum(x**2)), grads)\n",
    "    #grads = jax.tree_map(lambda x: -x, grads)\n",
    "    \n",
    "    # sgd step\n",
    "    updates, opt_state = optimizer.update(grads, opt_state, p)\n",
    "\n",
    "    p = eqx.apply_updates(p, updates)\n",
    "    \n",
    "    if None != p['diffCoeff']:\n",
    "        p['diffCoeff'] = np.where(p['diffCoeff']>.2,p['diffCoeff'],.2)\n",
    "    \n",
    "    #estimate actual avg loss\n",
    "    key, *eval_subkeys = split(key, EPISODES_PER_EVAL+1)\n",
    "    eval_subkeys = np.array(eval_subkeys)\n",
    "\n",
    "    l = avg_loss(p, hp, sloss, eval_subkeys, fstep=fstep, fspace=fspace, istate=istate)\n",
    "    #print('Loss:\\t', float(l))\n",
    "    \n",
    "    # surrogate loss and grads\n",
    "    ll, grads = value_and_grad(avg_loss)(p, hp, rloss, batch_subkeys, fstep=fstep, fspace=fspace, istate=istate)\n",
    "\n",
    "    #print(grads['div_fn']['mlp/~/linear_0']['b'])\n",
    "\n",
    "    #store\n",
    "    loss_t += [float(l)]\n",
    "    #rloss_t.append(float(ll))\n",
    "    params_t += [p]\n",
    "    #grads_t += [grads]\n",
    "    \n",
    "    if 0 == t%5:\n",
    "        print(float(l))\n",
    "    "
   ]
  },
  {
   "cell_type": "code",
   "execution_count": 564,
   "id": "f2d51a7a-d118-4b34-9b29-eb6ba0b92826",
   "metadata": {},
   "outputs": [
    {
     "data": {
      "image/png": "[encoded data removed]",
      "text/plain": [
       "<Figure size 432x288 with 1 Axes>"
      ]
     },
     "metadata": {
      "needs_background": "light"
     },
     "output_type": "display_data"
    }
   ],
   "source": [
    "plt.plot(np.array(loss_t), 'r')\n",
    "#plt.yscale('log')\n",
    "\n",
    "plt.grid(alpha=.2)\n",
    "\n",
    "\n",
    "plt.xlabel('Epochs')\n",
    "plt.ylabel('Loss');"
   ]
  },
  {
   "cell_type": "code",
   "execution_count": null,
   "id": "2f0eca58-18ed-419a-8002-af193c001f0c",
   "metadata": {},
   "outputs": [],
   "source": []
  },
  {
   "cell_type": "code",
   "execution_count": 382,
   "id": "81932be3-d053-498d-829f-60dcacc64ca4",
   "metadata": {},
   "outputs": [],
   "source": [
    "p = params_t[int(np.argmin(np.asarray(loss_t)))]\n",
    "#p = params_t[-1]"
   ]
  },
  {
   "cell_type": "markdown",
   "id": "40b989df-7f49-4cbf-ab2d-7c452f57b8ed",
   "metadata": {
    "tags": []
   },
   "source": [
    "#### Cmp. loss distributions"
   ]
  },
  {
   "cell_type": "raw",
   "id": "9452a24f-5bef-432a-ba6f-8b99d3c5afbf",
   "metadata": {
    "tags": []
   },
   "source": [
    "N_COMPARE = 300\n",
    "\n",
    "\n",
    "ip, hp = eqx.partition(params, train_params)\n",
    "\n",
    "key, *batch_subkeys = split(key, N_COMPARE+1)\n",
    "batch_subkeys = np.array(batch_subkeys)\n",
    "\n",
    "ill = shape_loss_fr(ip, \n",
    "            hp,\n",
    "            fstep,\n",
    "            fspace,\n",
    "            istate,\n",
    "            sim_key=batch_subkeys,\n",
    "            metric_fn=METRIC_FN,\n",
    "            target_metric=-1.,\n",
    "            REINFORCE=False,\n",
    "            GAMMA=.95,\n",
    "            TEST=False\n",
    "             )\n",
    "\n",
    "\n",
    "key, *batch_subkeys = split(key, N_COMPARE+1)\n",
    "batch_subkeys = np.array(batch_subkeys)\n",
    "\n",
    "fll = shape_loss_fr(p, \n",
    "            hp,\n",
    "            fstep,\n",
    "            fspace,\n",
    "            istate,\n",
    "            sim_key=batch_subkeys,\n",
    "            metric_fn=METRIC_FN,\n",
    "            target_metric=-1.,\n",
    "            REINFORCE=False,\n",
    "            GAMMA=.95,\n",
    "            TEST=False\n",
    "             )\n",
    "\n",
    "\n",
    "\n",
    "plt.hist(ill.tolist(), density=True, alpha=.5, label='Init')\n",
    "plt.hist(fll.tolist(), density=True, alpha=.5, label='Trained')\n",
    "\n",
    "plt.xlabel('Loss')\n",
    "\n",
    "plt.legend();"
   ]
  },
  {
   "cell_type": "code",
   "execution_count": null,
   "id": "0ec24391-0ec7-459d-8c20-e82e2949e9b1",
   "metadata": {},
   "outputs": [],
   "source": []
  },
  {
   "cell_type": "markdown",
   "id": "09e57133-c7ce-44ce-afd1-469cc8d99a94",
   "metadata": {},
   "source": [
    "#### Div nn viz"
   ]
  },
  {
   "cell_type": "code",
   "execution_count": 565,
   "id": "5cf79699-5704-4f92-88fa-44b576f77d28",
   "metadata": {},
   "outputs": [],
   "source": [
    "#### div\n",
    "def _div_nn(in_fields):\n",
    "    mlp = hk.nets.MLP(DIV_HIDDEN+[1],\n",
    "                      activation=jax.nn.leaky_relu,\n",
    "                      activate_final=False\n",
    "                     )\n",
    "    out = jax.nn.sigmoid(mlp(in_fields))\n",
    "    return out\n",
    "\n",
    "_div_nn = hk.without_apply_rng(hk.transform(_div_nn))\n",
    "\n",
    "\n",
    "\n",
    "#### sec\n",
    "def _sec_nn(in_fields):\n",
    "    mlp = hk.nets.MLP(SEC_HIDDEN+[params['n_chem']],\n",
    "                      activation=jax.nn.leaky_relu,\n",
    "                      activate_final=False\n",
    "                     )\n",
    "    out = jax.nn.sigmoid(mlp(in_fields))\n",
    "    return out\n",
    "\n",
    "_sec_nn = hk.without_apply_rng(hk.transform(_sec_nn))"
   ]
  },
  {
   "cell_type": "code",
   "execution_count": 566,
   "id": "7342c8dd-c198-416d-9e37-7e309bb0ea9e",
   "metadata": {},
   "outputs": [],
   "source": [
    "xxx, yyy = np.meshgrid(np.linspace(0,10,30), np.linspace(0,10,30))\n",
    "#xxx, yyy = np.meshgrid(np.linspace(-20,20,30), np.linspace(-20,20,30))"
   ]
  },
  {
   "cell_type": "code",
   "execution_count": 567,
   "id": "bd483bd3-1c97-4b4f-812e-1361f370080b",
   "metadata": {
    "tags": []
   },
   "outputs": [
    {
     "data": {
      "image/png": "[encoded data removed]",
      "text/plain": [
       "<Figure size 432x288 with 1 Axes>"
      ]
     },
     "metadata": {
      "needs_background": "light"
     },
     "output_type": "display_data"
    }
   ],
   "source": [
    "cc = np.vstack((xxx.flatten(),yyy.flatten()))\n",
    "\n",
    "dd = _div_nn.apply(params['div_fn'], cc.T).flatten()\n",
    "\n",
    "fig, ax = plt.subplots(subplot_kw=dict(projection='3d'))\n",
    "surf = ax.plot_trisurf(cc[0], cc[1], dd, linewidth=.1, antialiased=True, shade=False, cmap=plt.cm.coolwarm)\n",
    "\n",
    "ax.view_init(15, -30)\n",
    "\n",
    "ax.set_xlabel('x')\n",
    "ax.set_ylabel('y')\n",
    "ax.set_zlabel('divrate')\n",
    "\n",
    "ax.set_title('Random');"
   ]
  },
  {
   "cell_type": "code",
   "execution_count": 568,
   "id": "c6eb1d09-16bc-4cc8-9dad-83ac7884e09d",
   "metadata": {
    "tags": []
   },
   "outputs": [
    {
     "data": {
      "image/png": "[encoded data removed]",
      "text/plain": [
       "<Figure size 432x288 with 1 Axes>"
      ]
     },
     "metadata": {
      "needs_background": "light"
     },
     "output_type": "display_data"
    }
   ],
   "source": [
    "cc = np.vstack((xxx.flatten(),yyy.flatten()))\n",
    "\n",
    "dd = _div_nn.apply(p['div_fn'], cc.T).flatten()\n",
    "\n",
    "fig, ax = plt.subplots(subplot_kw=dict(projection='3d'))\n",
    "surf = ax.plot_trisurf(cc[0], cc[1], dd, linewidth=.1, antialiased=True, shade=False, cmap=plt.cm.coolwarm)\n",
    "\n",
    "ax.view_init(15, -30)\n",
    "\n",
    "ax.set_xlabel('x')\n",
    "ax.set_ylabel('y')\n",
    "ax.set_zlabel('divrate')\n",
    "\n",
    "ax.set_title('Trained');"
   ]
  },
  {
   "cell_type": "code",
   "execution_count": null,
   "id": "d7b2d4ca-77a5-4e2c-8e43-dffec335c438",
   "metadata": {},
   "outputs": [],
   "source": []
  },
  {
   "cell_type": "code",
   "execution_count": 46,
   "id": "b0497be8-9702-4810-bce3-56813e426821",
   "metadata": {},
   "outputs": [],
   "source": []
  },
  {
   "cell_type": "markdown",
   "id": "3722a508-44c6-4e9c-801a-d4e094d511ce",
   "metadata": {},
   "source": [
    "## Initial params"
   ]
  },
  {
   "cell_type": "code",
   "execution_count": 25,
   "id": "2de1cc9d-f3de-48ff-a208-1faf18f17283",
   "metadata": {
    "tags": []
   },
   "outputs": [
    {
     "name": "stderr",
     "output_type": "stream",
     "text": [
      "100%|████████████████████████████████████████████████| 40/40 [01:53<00:00,  2.83s/it]\n"
     ]
    }
   ],
   "source": [
    "pp = params.copy()\n",
    "\n",
    "key, subkey = split(key)\n",
    "\n",
    "#forward pass - simulation\n",
    "sim_init, sim_step = simulation(fstep, pp, fspace)\n",
    "fstate, _ = sim_trajectory(istate, sim_init, sim_step, ncells_add=40, key=subkey)\n",
    "\n",
    "#print(METRIC_FN(fstate))"
   ]
  },
  {
   "cell_type": "code",
   "execution_count": 26,
   "id": "a0dfcbf8-068e-47d5-9e37-b05a04b44304",
   "metadata": {},
   "outputs": [
    {
     "data": {
      "text/plain": [
       "DeviceArray(42., dtype=float32)"
      ]
     },
     "execution_count": 26,
     "metadata": {},
     "output_type": "execute_result"
    }
   ],
   "source": [
    "fstate.celltype.sum()"
   ]
  },
  {
   "cell_type": "code",
   "execution_count": 27,
   "id": "8ca3acf1-53e1-48e9-86b1-524fe88eae90",
   "metadata": {},
   "outputs": [
    {
     "data": {
      "image/png": "[encoded data removed]",
      "text/plain": [
       "<Figure size 432x288 with 1 Axes>"
      ]
     },
     "metadata": {
      "needs_background": "light"
     },
     "output_type": "display_data"
    }
   ],
   "source": [
    "plt.hist(fstate.divrate.tolist(),20,density=True);\n",
    "plt.xlabel('divrate');"
   ]
  },
  {
   "cell_type": "code",
   "execution_count": 28,
   "id": "3b39a448-b8ad-48a0-b86e-4f4c21f43541",
   "metadata": {},
   "outputs": [
    {
     "data": {
      "image/png": "[encoded data removed]",
      "text/plain": [
       "<Figure size 432x288 with 1 Axes>"
      ]
     },
     "metadata": {
      "needs_background": "light"
     },
     "output_type": "display_data"
    }
   ],
   "source": [
    "for chem in fstate.chemical.T.tolist():\n",
    "    plt.hist(chem, alpha=.5);\n",
    "\n",
    "plt.xlabel('Chem. Conc.');"
   ]
  },
  {
   "cell_type": "code",
   "execution_count": 29,
   "id": "9e125ae4-e58e-41aa-85a9-3a0808ea4fcc",
   "metadata": {},
   "outputs": [
    {
     "data": {
      "image/png": "[encoded data removed]",
      "text/plain": [
       "<Figure size 432x288 with 1 Axes>"
      ]
     },
     "metadata": {
      "needs_background": "light"
     },
     "output_type": "display_data"
    }
   ],
   "source": [
    "yy = fstate.divrate.tolist()\n",
    "\n",
    "for chem in fstate.chemical.T.tolist():\n",
    "    plt.plot(chem, yy, '.', alpha=.5)\n",
    "\n",
    "plt.ylabel('divrate')\n",
    "plt.xlabel('chemical conc.');\n",
    "\n",
    "#plt.legend();"
   ]
  },
  {
   "cell_type": "code",
   "execution_count": 30,
   "id": "c8a2ee0e-aa3e-4b04-821e-7fb67910d7f8",
   "metadata": {
    "tags": []
   },
   "outputs": [
    {
     "data": {
      "image/png": "[encoded data removed]",
      "text/plain": [
       "<Figure size 432x432 with 1 Axes>"
      ]
     },
     "metadata": {},
     "output_type": "display_data"
    }
   ],
   "source": [
    "draw_circles_ctype(fstate);\n",
    "\n",
    "plt.gca().plot([-5.,5.],[0.,0.],'r--');\n",
    "plt.gca().plot([0.,0.],[-5.,5.],'r--');"
   ]
  },
  {
   "cell_type": "code",
   "execution_count": 31,
   "id": "81c1efd5-a4b5-4e12-b867-381a8c369b1c",
   "metadata": {},
   "outputs": [
    {
     "data": {
      "image/png": "[encoded data removed]",
      "text/plain": [
       "<Figure size 432x432 with 1 Axes>"
      ]
     },
     "metadata": {},
     "output_type": "display_data"
    }
   ],
   "source": [
    "draw_circles_divrate(fstate);\n",
    "\n",
    "lim = 2.\n",
    "\n",
    "plt.gca().plot([lim,lim],[-5.,5.],'k--');\n",
    "plt.gca().plot([-lim,-lim],[-5.,5.],'k--');"
   ]
  },
  {
   "cell_type": "code",
   "execution_count": 32,
   "id": "8616c150-7586-484f-bc8a-fdc42dd6b8d6",
   "metadata": {},
   "outputs": [
    {
     "data": {
      "image/png": "[encoded data removed]",
      "text/plain": [
       "<Figure size 432x432 with 1 Axes>"
      ]
     },
     "metadata": {},
     "output_type": "display_data"
    }
   ],
   "source": [
    "draw_circles_chem(fstate);"
   ]
  },
  {
   "cell_type": "code",
   "execution_count": 33,
   "id": "249338a4-4ebc-4afb-9389-0d98840c68d3",
   "metadata": {},
   "outputs": [
    {
     "data": {
      "image/png": "[encoded data removed]",
      "text/plain": [
       "<Figure size 432x432 with 1 Axes>"
      ]
     },
     "metadata": {},
     "output_type": "display_data"
    }
   ],
   "source": [
    "draw_circles_chem(fstate,1);"
   ]
  },
  {
   "cell_type": "code",
   "execution_count": null,
   "id": "f3c23585-985d-4a70-8cd7-7e5d4af3fe42",
   "metadata": {},
   "outputs": [],
   "source": []
  },
  {
   "cell_type": "markdown",
   "id": "daa9ee53-7517-44cc-8579-755119ad9c77",
   "metadata": {},
   "source": [
    "## Trained params"
   ]
  },
  {
   "cell_type": "code",
   "execution_count": 628,
   "id": "66e00b0d-4452-4f04-9e2f-834de81f9b19",
   "metadata": {},
   "outputs": [
    {
     "name": "stdout",
     "output_type": "stream",
     "text": [
      "-4\n"
     ]
    }
   ],
   "source": [
    "# merge params dicts\n",
    "all_params = eqx.combine(p, hp)\n",
    "\n",
    "key, subkey = split(key)\n",
    "\n",
    "#forward pass - simulation\n",
    "sim_init, sim_step = simulation(fstep, all_params, fspace)\n",
    "fstate, _ = sim_trajectory(istate, sim_init, sim_step, ncells_add=18, key=subkey)\n",
    "\n",
    "\n",
    "\n",
    "print(METRIC_FN(fstate))"
   ]
  },
  {
   "cell_type": "code",
   "execution_count": 629,
   "id": "6b486bfa-98c4-4758-9a75-15a72305a9d4",
   "metadata": {},
   "outputs": [
    {
     "data": {
      "text/plain": [
       "DeviceArray(4., dtype=float32)"
      ]
     },
     "execution_count": 629,
     "metadata": {},
     "output_type": "execute_result"
    }
   ],
   "source": [
    "fstate.celltype.sum()"
   ]
  },
  {
   "cell_type": "code",
   "execution_count": 630,
   "id": "17d133ac-b40e-486f-8e7e-d4cc8cf93610",
   "metadata": {},
   "outputs": [
    {
     "data": {
      "image/png": "[encoded data removed]",
      "text/plain": [
       "<Figure size 432x288 with 1 Axes>"
      ]
     },
     "metadata": {
      "needs_background": "light"
     },
     "output_type": "display_data"
    }
   ],
   "source": [
    "plt.hist(fstate.divrate.tolist(),20,density=True);\n",
    "plt.xlabel('divrate');"
   ]
  },
  {
   "cell_type": "code",
   "execution_count": 631,
   "id": "1703d26a-7f39-4134-8cfa-11ae3f104905",
   "metadata": {},
   "outputs": [
    {
     "data": {
      "image/png": "[encoded data removed]",
      "text/plain": [
       "<Figure size 432x288 with 1 Axes>"
      ]
     },
     "metadata": {
      "needs_background": "light"
     },
     "output_type": "display_data"
    }
   ],
   "source": [
    "for chem in fstate.chemical.T.tolist():\n",
    "    plt.hist(chem, alpha=.5);\n",
    "\n",
    "plt.xlabel('Chem. Conc.');"
   ]
  },
  {
   "cell_type": "code",
   "execution_count": 632,
   "id": "1c7076c0-5279-428b-b838-a0f4683f0317",
   "metadata": {},
   "outputs": [
    {
     "data": {
      "image/png": "[encoded data removed]",
      "text/plain": [
       "<Figure size 432x288 with 1 Axes>"
      ]
     },
     "metadata": {
      "needs_background": "light"
     },
     "output_type": "display_data"
    }
   ],
   "source": [
    "yy = fstate.divrate.tolist()\n",
    "\n",
    "for chem in fstate.chemical.T.tolist():\n",
    "    plt.plot(chem, yy, '.', alpha=.5)\n",
    "\n",
    "plt.ylabel('divrate')\n",
    "plt.xlabel('chemical conc.');\n",
    "\n",
    "#plt.legend();"
   ]
  },
  {
   "cell_type": "code",
   "execution_count": 761,
   "id": "a393517d-ba4e-4988-a4b9-5c7e5ed201b2",
   "metadata": {},
   "outputs": [
    {
     "data": {
      "image/png": "[encoded data removed]",
      "text/plain": [
       "<Figure size 432x432 with 1 Axes>"
      ]
     },
     "metadata": {},
     "output_type": "display_data"
    }
   ],
   "source": [
    "draw_circles_ctype(fstate);\n",
    "plt.gca().plot([-5.,5.],[0.,0.],'r--');\n",
    "plt.gca().plot([0.,0.],[-5.,5.],'r--');"
   ]
  },
  {
   "cell_type": "code",
   "execution_count": 762,
   "id": "ca766ca2-93bd-45c0-b57f-ac85a3b9b776",
   "metadata": {
    "tags": []
   },
   "outputs": [
    {
     "data": {
      "image/png": "[encoded data removed]",
      "text/plain": [
       "<Figure size 432x432 with 1 Axes>"
      ]
     },
     "metadata": {},
     "output_type": "display_data"
    }
   ],
   "source": [
    "draw_circles_divrate(fstate);\n",
    "\n",
    "lim = 2.\n",
    "\n",
    "plt.gca().plot([-5.,5.],[0.,0.],'r--');\n",
    "plt.gca().plot([0.,0.],[-5.,5.],'r--');\n",
    "\n",
    "plt.gca().plot([lim,lim],[-15.,15.],'k--');\n",
    "plt.gca().plot([-lim,-lim],[-15.,15.],'k--');"
   ]
  },
  {
   "cell_type": "code",
   "execution_count": 763,
   "id": "5223a306-a24b-4acb-a2f3-f706150dfe20",
   "metadata": {
    "tags": []
   },
   "outputs": [
    {
     "data": {
      "image/png": "[encoded data removed]",
      "text/plain": [
       "<Figure size 432x432 with 1 Axes>"
      ]
     },
     "metadata": {},
     "output_type": "display_data"
    }
   ],
   "source": [
    "draw_circles_chem(fstate);"
   ]
  },
  {
   "cell_type": "code",
   "execution_count": 636,
   "id": "fa9368b6-480e-4b38-8f51-9d2cb136b79b",
   "metadata": {
    "tags": []
   },
   "outputs": [
    {
     "data": {
      "image/png": "[encoded data removed]",
      "text/plain": [
       "<Figure size 432x432 with 1 Axes>"
      ]
     },
     "metadata": {},
     "output_type": "display_data"
    }
   ],
   "source": [
    "draw_circles_chem(fstate,1);"
   ]
  },
  {
   "cell_type": "code",
   "execution_count": 637,
   "id": "d1e18fec-f869-40d1-913e-b29ef129586f",
   "metadata": {},
   "outputs": [
    {
     "data": {
      "text/plain": [
       "DeviceArray([3.626723 , 3.4615405], dtype=float32)"
      ]
     },
     "execution_count": 637,
     "metadata": {},
     "output_type": "execute_result"
    }
   ],
   "source": [
    "p['diffCoeff']"
   ]
  },
  {
   "cell_type": "code",
   "execution_count": 638,
   "id": "79d445b4-d89e-4da3-88b4-36b4ed5461fd",
   "metadata": {},
   "outputs": [
    {
     "data": {
      "text/plain": [
       "DeviceArray([0.26023528, 0.26074746, 0.1834566 , 0.18267985, 0.        ,\n",
       "             0.        , 0.        , 0.        , 0.        , 0.        ,\n",
       "             0.        , 0.        , 0.        , 0.        , 0.        ,\n",
       "             0.        , 0.        , 0.        , 0.        , 0.        ],            dtype=float32)"
      ]
     },
     "execution_count": 638,
     "metadata": {},
     "output_type": "execute_result"
    }
   ],
   "source": [
    "fstate.divrate"
   ]
  },
  {
   "cell_type": "code",
   "execution_count": null,
   "id": "cea4e339-a8cd-42be-a96a-72ec65fd8d29",
   "metadata": {},
   "outputs": [],
   "source": []
  },
  {
   "cell_type": "code",
   "execution_count": null,
   "id": "fd2e97e5-bd72-4406-9f84-6111b2936b95",
   "metadata": {},
   "outputs": [],
   "source": []
  },
  {
   "cell_type": "markdown",
   "id": "810299b2-a3fe-438a-ba1c-62243163d167",
   "metadata": {},
   "source": [
    "# Metric shape tests"
   ]
  },
  {
   "cell_type": "code",
   "execution_count": 370,
   "id": "09b99313-3f90-4dc2-8a1b-630a3c30e261",
   "metadata": {},
   "outputs": [],
   "source": [
    "def xmask(state):\n",
    "\n",
    "    mask = (state.position[:,1] > (state.position[:,0]-1)) * (state.position[:,1] < (state.position[:,0]+1))\n",
    "    mask = mask + (state.position[:,1] > (-state.position[:,0]-1)) * (state.position[:,1] < (-state.position[:,0]+1))\n",
    "    \n",
    "    return np.where(mask,-1.,2)*np.where(state.celltype>0,1,0)"
   ]
  },
  {
   "cell_type": "code",
   "execution_count": 74,
   "id": "da84f006-a28f-413f-a3e8-853bce0a8fe8",
   "metadata": {},
   "outputs": [],
   "source": [
    "def xmask(state):\n",
    "\n",
    "    mask = (state.position**2).sum(1)<3**2\n",
    "    \n",
    "    return np.where(mask,-1.,2)*np.where(state.celltype>0,1,0)"
   ]
  },
  {
   "cell_type": "code",
   "execution_count": 75,
   "id": "37f1ac4d-7da9-492b-aa5d-c33dfd421b97",
   "metadata": {},
   "outputs": [
    {
     "data": {
      "image/png": "[encoded data removed]",
      "text/plain": [
       "<Figure size 432x288 with 1 Axes>"
      ]
     },
     "metadata": {
      "needs_background": "light"
     },
     "output_type": "display_data"
    }
   ],
   "source": [
    "plt.plot(fstate.position[xmask(fstate)>0].T[0].tolist(), fstate.position[xmask(fstate)>0].T[1].tolist(),'ro')\n",
    "plt.plot(fstate.position[xmask(fstate)<0].T[0].tolist(), fstate.position[xmask(fstate)<0].T[1].tolist(),'bo')\n",
    "\n",
    "plt.gca().set_aspect('equal')\n",
    "\n",
    "plt.grid(alpha=.1)\n",
    "\n",
    "x = np.linspace(-2,5)\n",
    "\n",
    "plt.plot(x, x+1)\n",
    "plt.plot(x, x-1);"
   ]
  },
  {
   "cell_type": "code",
   "execution_count": null,
   "id": "fc049690-d4eb-4042-ad5c-6a83830ed6b7",
   "metadata": {},
   "outputs": [],
   "source": []
  },
  {
   "cell_type": "markdown",
   "id": "8a1a3396-83a0-4c95-95df-f777259b2aa0",
   "metadata": {},
   "source": [
    "# TESTS"
   ]
  },
  {
   "cell_type": "code",
   "execution_count": 35,
   "id": "c3ce1369-dd42-4e36-aacd-0621ce4612e9",
   "metadata": {},
   "outputs": [],
   "source": [
    "# mask only cells that exist\n",
    "c_alive = fstate.celltype>0.\n",
    "\n",
    "# displacements between cell pairs (ncells x ncells x ndim_space)\n",
    "disp = vmap(vmap(fspace.displacement, in_axes=[0,None]), in_axes=[None,0])(fstate.position, fstate.position)\n",
    "\n",
    "# distances btw cell pairs\n",
    "# dist w/ non-existing cells are zeroed out\n",
    "dist = np.sqrt((disp**2).sum(2))*np.outer(c_alive, c_alive)"
   ]
  },
  {
   "cell_type": "code",
   "execution_count": null,
   "id": "81c68544-2c20-438f-b161-d62eec0ebeb1",
   "metadata": {},
   "outputs": [],
   "source": [
    "neig = np.nonzero((dist<R)*(dist>.0))"
   ]
  },
  {
   "cell_type": "code",
   "execution_count": 43,
   "id": "1ffff960-c9a3-4167-9e79-3de5999f9c78",
   "metadata": {},
   "outputs": [],
   "source": [
    "neig=np.nonzero((dist<.8)*(dist>.0), size=50)"
   ]
  },
  {
   "cell_type": "code",
   "execution_count": 44,
   "id": "94f9f2fa-4278-4c99-b132-cce8cfa8f0ba",
   "metadata": {},
   "outputs": [
    {
     "data": {
      "text/plain": [
       "1764"
      ]
     },
     "execution_count": 44,
     "metadata": {},
     "output_type": "execute_result"
    }
   ],
   "source": [
    "dist.size"
   ]
  },
  {
   "cell_type": "code",
   "execution_count": 45,
   "id": "12e3ecb9-0635-493c-92da-8bffb39b2485",
   "metadata": {},
   "outputs": [
    {
     "data": {
      "text/plain": [
       "DeviceArray([[ 0.04098618,  0.69460976],\n",
       "             [-0.59643805, -0.30027735],\n",
       "             [ 0.69336605, -0.02928007],\n",
       "             [ 0.1823461 , -0.6176825 ],\n",
       "             [ 0.30136395,  0.63379335],\n",
       "             [ 0.5610943 ,  0.5032372 ],\n",
       "             [-0.28254426, -0.7338948 ],\n",
       "             [-0.41548517, -0.55315375],\n",
       "             [-0.30446458,  0.6680331 ],\n",
       "             [ 0.02326792,  0.61648566],\n",
       "             [ 0.6532628 ,  0.29921132],\n",
       "             [-0.01255447, -0.5902987 ],\n",
       "             [-0.49721518,  0.38206345],\n",
       "             [-0.41633788, -0.66461205],\n",
       "             [-0.32598513,  0.6598591 ],\n",
       "             [ 0.41548517,  0.55315375],\n",
       "             [-0.02326792, -0.61648566],\n",
       "             [ 0.62999487, -0.31727433],\n",
       "             [-0.4706107 ,  0.48000765],\n",
       "             [-0.52048314, -0.2344222 ],\n",
       "             [ 0.62364554,  0.49370575],\n",
       "             [-0.04098618, -0.69460976],\n",
       "             [ 0.59643805,  0.30027735],\n",
       "             [-0.6532628 , -0.29921132],\n",
       "             [-0.62999487,  0.31727433],\n",
       "             [ 0.6784017 , -0.23541069],\n",
       "             [-0.69336605,  0.02928007],\n",
       "             [-0.51101995, -0.58840245],\n",
       "             [ 0.28254426,  0.7338948 ],\n",
       "             [ 0.4706107 , -0.48000765],\n",
       "             [-0.0498724 , -0.71442986],\n",
       "             [ 0.41633788,  0.66461205],\n",
       "             [-0.5610943 , -0.5032372 ],\n",
       "             [ 0.01255447,  0.5902987 ],\n",
       "             [ 0.32598513, -0.6598591 ],\n",
       "             [-0.1823461 ,  0.6176825 ],\n",
       "             [ 0.30446458, -0.6680331 ],\n",
       "             [-0.62364554, -0.49370575],\n",
       "             [ 0.51101995,  0.58840245],\n",
       "             [-0.30136395, -0.63379335],\n",
       "             [ 0.49721518, -0.38206345],\n",
       "             [ 0.52048314,  0.2344222 ],\n",
       "             [-0.6784017 ,  0.23541069],\n",
       "             [ 0.0498724 ,  0.71442986],\n",
       "             [ 0.        ,  0.        ],\n",
       "             [ 0.        ,  0.        ],\n",
       "             [ 0.        ,  0.        ],\n",
       "             [ 0.        ,  0.        ],\n",
       "             [ 0.        ,  0.        ],\n",
       "             [ 0.        ,  0.        ]], dtype=float32)"
      ]
     },
     "execution_count": 45,
     "metadata": {},
     "output_type": "execute_result"
    }
   ],
   "source": [
    "disp[neig]"
   ]
  },
  {
   "cell_type": "code",
   "execution_count": null,
   "id": "f0623cb3-ca08-4419-9041-2638e79f1c5e",
   "metadata": {},
   "outputs": [],
   "source": []
  },
  {
   "cell_type": "code",
   "execution_count": null,
   "id": "84329767-e2d5-4a81-b935-60a0e88347b9",
   "metadata": {},
   "outputs": [],
   "source": []
  },
  {
   "cell_type": "code",
   "execution_count": null,
   "id": "b207136d-0fee-4f46-af9f-4156122b25ae",
   "metadata": {},
   "outputs": [],
   "source": []
  }
 ],
 "metadata": {
  "kernelspec": {
   "display_name": "Python3 (JAX)",
   "language": "python",
   "name": "jax"
  },
  "language_info": {
   "codemirror_mode": {
    "name": "ipython",
    "version": 3
   },
   "file_extension": ".py",
   "mimetype": "text/x-python",
   "name": "python",
   "nbconvert_exporter": "python",
   "pygments_lexer": "ipython3",
   "version": "3.10.4"
  }
 },
 "nbformat": 4,
 "nbformat_minor": 5
}
