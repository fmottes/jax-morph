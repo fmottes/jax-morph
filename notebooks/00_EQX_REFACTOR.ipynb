{
 "cells": [
  {
   "cell_type": "code",
   "execution_count": 40,
   "metadata": {},
   "outputs": [],
   "source": [
    "import jax\n",
    "import jax.numpy as np\n",
    "import jax.tree_util as jtu\n",
    "\n",
    "import numpy as onp\n",
    "\n",
    "from typing import Any, Callable, Union\n",
    "\n",
    "import equinox as eqx\n",
    "\n",
    "import matplotlib.pyplot as plt"
   ]
  },
  {
   "cell_type": "code",
   "execution_count": 2,
   "metadata": {},
   "outputs": [],
   "source": [
    "key = jax.random.PRNGKey(0)"
   ]
  },
  {
   "cell_type": "markdown",
   "metadata": {},
   "source": [
    "# Cell State"
   ]
  },
  {
   "cell_type": "code",
   "execution_count": 3,
   "metadata": {},
   "outputs": [],
   "source": [
    "import jax_md"
   ]
  },
  {
   "cell_type": "code",
   "execution_count": 233,
   "metadata": {},
   "outputs": [],
   "source": [
    "class BaseCellState(eqx.Module):\n",
    "    '''\n",
    "    Module containing the basic features of a system state.\n",
    "\n",
    "    '''\n",
    "\n",
    "    # METHODS\n",
    "    displacement:   jax_md.space.DisplacementFn = eqx.field(static=True)\n",
    "    shift:          jax_md.space.ShiftFn = eqx.field(static=True)\n",
    "\n",
    "    # STATE\n",
    "    position:   jax.Array\n",
    "    celltype:   jax.Array\n",
    "    radius:     jax.Array\n",
    "    divrate:    jax.Array\n",
    "    #key:        jax.Array\n",
    "\n",
    "\n",
    "    @classmethod\n",
    "    def empty(cls, n_dim=2):\n",
    "\n",
    "        '''\n",
    "        Intializes a CellState with no cells (empty data structures, with correct shapes).\n",
    "\n",
    "        Parameters\n",
    "        ----------\n",
    "        n_dim: int\n",
    "            Number of spatial dimensions.\n",
    "\n",
    "        '''\n",
    "\n",
    "        assert n_dim == 2 or n_dim == 3, 'n_dim must be 2 or 3'\n",
    "\n",
    "        disp, shift = jax_md.space.free()\n",
    "        \n",
    "\n",
    "        args = {\n",
    "            'displacement'  :   disp,\n",
    "            'shift'         :   shift,\n",
    "            'position'  :   np.empty(shape=(0, n_dim), dtype=np.float32),\n",
    "            'celltype'  :   np.empty(shape=(0,), dtype=np.float32),\n",
    "            'radius'    :   np.empty(shape=(0,), dtype=np.float32),\n",
    "            'divrate'   :   np.empty(shape=(0,), dtype=np.float32),\n",
    "            #'key'       :   None,\n",
    "            }\n",
    "        \n",
    "        return cls(**args)\n"
   ]
  },
  {
   "cell_type": "code",
   "execution_count": 234,
   "metadata": {},
   "outputs": [],
   "source": [
    "class CellState(BaseCellState):\n",
    "    chemical:       jax.Array\n",
    "    chemgrad:       jax.Array\n",
    "    hidden_state:   jax.Array\n",
    "\n",
    "\n",
    "    @classmethod\n",
    "    def empty(cls, n_dim=2, n_chem=1, hidden_size=10):\n",
    "\n",
    "        a = BaseCellState.empty(n_dim).__dict__\n",
    "\n",
    "        new_args = {\n",
    "            'chemical' :   np.empty(shape=(0, n_chem), dtype=np.float32),\n",
    "            'chemgrad' :   np.empty(shape=(0, int(n_dim*n_chem)), dtype=np.float32),\n",
    "            'hidden_state' :   np.empty(shape=(0, hidden_size), dtype=np.float32),\n",
    "            }\n",
    "        \n",
    "        a.update(new_args)\n",
    "\n",
    "        return cls(**a)"
   ]
  },
  {
   "cell_type": "code",
   "execution_count": 235,
   "metadata": {},
   "outputs": [],
   "source": [
    "disp, shift = jax_md.space.free()\n",
    "\n",
    "N = 5\n",
    "\n",
    "test_state = BaseCellState(\n",
    "    displacement=disp,\n",
    "    shift=shift,\n",
    "    position=np.zeros(shape=(N,2)),\n",
    "    celltype=np.zeros(shape=(N,)).at[0].set(1),\n",
    "    radius=np.zeros(shape=(N,)).at[0].set(1.),\n",
    "    divrate=np.zeros(shape=(N,)).at[0].set(1.),\n",
    ")    "
   ]
  },
  {
   "cell_type": "markdown",
   "metadata": {},
   "source": [
    "# Cell division\n",
    "\n",
    "**NOTE**: The whole Gumbel-Softmax is useless in this context. By formulating copy operations as multiplications autodiff is already able to deal with this situation. The gradient of the operation is just the copy matrix!"
   ]
  },
  {
   "cell_type": "code",
   "execution_count": 258,
   "metadata": {},
   "outputs": [],
   "source": [
    "class CellDivisionReparam(eqx.Module):\n",
    "    birth_radius_multiplier:    float\n",
    "    #inference:                  bool = eqx.field(static=True)\n",
    "\n",
    "    def __init__(self, #state,\n",
    "                 *,\n",
    "                 birth_radius_multiplier=float(1/np.sqrt(2)),\n",
    "                 #inference=True,\n",
    "                 **kwargs\n",
    "                 ):\n",
    "\n",
    "        # if not hasattr(state, 'divrate'):\n",
    "        #     raise AttributeError('CellState must have \"divrate\" attribute')\n",
    "        # if not hasattr(state, 'radius'):\n",
    "        #     raise AttributeError('CellState must have \"radius\" attribute')\n",
    "        # if not hasattr(state, 'celltype'):\n",
    "        #     raise AttributeError('CellState must have \"celltype\" attribute')\n",
    "        # if not hasattr(state, 'position'):\n",
    "        #     raise AttributeError('CellState must have \"position\" attribute')\n",
    "        # if not hasattr(state, 'key'):\n",
    "        #     raise AttributeError('CellState must have valid \"key\" attribute')\n",
    "        \n",
    "        self.birth_radius_multiplier = birth_radius_multiplier\n",
    "        #self.inference = inference\n",
    "        \n",
    "\n",
    "    def __call__(self, state, *, key=None):#, inference=None, softmax_T=1.):\n",
    "\n",
    "        # if inference is None:\n",
    "        #     inference = self.inference\n",
    "\n",
    "\n",
    "        #split key\n",
    "        subkey_div, subkey_place = jax.random.split(key,2)\n",
    "        \n",
    "        p = state.divrate/state.divrate.sum()\n",
    "\n",
    "        # safe_p = np.where(p > 0, p, 1)\n",
    "        # logp = np.where(p > 0, np.log(safe_p), -np.inf)\n",
    "\n",
    "        # logit = (logp + jax.random.gumbel(subkey_div, shape=logp.shape))/softmax_T\n",
    "        # idx_dividing_cell = np.argmax(logit)\n",
    "\n",
    "        idx_dividing_cell = jax.random.choice(subkey_div, a=len(p), p=p)\n",
    "        new_cell_contribs = np.zeros_like(state.celltype).at[idx_dividing_cell].set(1.)\n",
    "\n",
    "        # if inference:\n",
    "        #     new_cell_contribs = np.zeros_like(state.celltype).at[idx_dividing_cell].set(1.)\n",
    "        #     print(new_cell_contribs)\n",
    "        # else:\n",
    "        #     new_cell_contribs = jax.nn.softmax(logit)\n",
    "        #     print(new_cell_contribs)\n",
    "\n",
    "        \n",
    "        idx_new_cell = np.count_nonzero(state.celltype)\n",
    "\n",
    "        division_matrix = np.eye(state.celltype.shape[0]).at[idx_new_cell].set(new_cell_contribs)\n",
    "\n",
    "        new_state = jax.tree_map(lambda x: np.dot(division_matrix, x), state)\n",
    "\n",
    "\n",
    "        #resize cell radii\n",
    "        get_radius = lambda s: s.radius\n",
    "        resize_rad = lambda r: r.at[idx_new_cell].set(r[idx_dividing_cell]*self.birth_radius_multiplier).at[idx_dividing_cell].set(r[idx_dividing_cell]*self.birth_radius_multiplier)\n",
    "        new_state = eqx.tree_at(get_radius, new_state, replace_fn=resize_rad)\n",
    "        \n",
    "        ### POSITION OF NEW CELLS\n",
    "        angle = jax.random.uniform(subkey_place, minval=0., maxval=2*np.pi)\n",
    "        cell_displacement = self.birth_radius_multiplier*np.array([np.cos(angle),np.sin(angle)])\n",
    "\n",
    "        get_position = lambda s: s.position\n",
    "        new_position = lambda p: p.at[idx_new_cell].set(p[idx_dividing_cell]-cell_displacement).at[idx_dividing_cell].set(p[idx_dividing_cell]+cell_displacement)\n",
    "        new_state = eqx.tree_at(get_position, new_state, replace_fn=new_position)\n",
    "        \n",
    "\n",
    "        return new_state"
   ]
  },
  {
   "cell_type": "code",
   "execution_count": 106,
   "metadata": {},
   "outputs": [],
   "source": [
    "def loss(a, state, key):\n",
    "    div = CellDivisionReparam(inference=False, birth_radius_multiplier=a)\n",
    "\n",
    "    for i in range(1):\n",
    "        key, subkey = jax.random.split(key)\n",
    "        state = div(state, key=subkey, softmax_T=1.)\n",
    "\n",
    "    return state.radius.sum(), state"
   ]
  },
  {
   "cell_type": "code",
   "execution_count": 107,
   "metadata": {},
   "outputs": [],
   "source": [
    "key, subkey = jax.random.split(key)\n",
    "\n",
    "g, s = jax.grad(loss, has_aux=True)(1., test_state, subkey)\n"
   ]
  },
  {
   "cell_type": "code",
   "execution_count": 108,
   "metadata": {},
   "outputs": [
    {
     "data": {
      "text/plain": [
       "Array(2., dtype=float32, weak_type=True)"
      ]
     },
     "execution_count": 108,
     "metadata": {},
     "output_type": "execute_result"
    }
   ],
   "source": [
    "g"
   ]
  },
  {
   "cell_type": "markdown",
   "metadata": {},
   "source": [
    "# Cell growth"
   ]
  },
  {
   "cell_type": "code",
   "execution_count": 64,
   "metadata": {},
   "outputs": [],
   "source": [
    "class CellGrowth(eqx.Module):\n",
    "    max_radius:     float\n",
    "    growth_rate:    float\n",
    "    growth_type:    str = eqx.field(static=True)\n",
    "    \n",
    "    def __init__(self, #state, \n",
    "                 *, \n",
    "                 growth_rate=1., \n",
    "                 max_radius=.5, \n",
    "                 growth_type='linear',\n",
    "                 **kwargs\n",
    "                 ):\n",
    "\n",
    "        # if not hasattr(state, 'radius'):\n",
    "        #     raise AttributeError('CellState must have \"radius\" attribute')\n",
    "        \n",
    "        if growth_type not in ['linear', 'exponential']:\n",
    "            raise ValueError('growth_type must be either \"linear\" or \"exponential\"')\n",
    "        \n",
    "        self.growth_rate = growth_rate\n",
    "        self.max_radius = max_radius\n",
    "        self.growth_type = growth_type\n",
    "\n",
    "\n",
    "    def __call__(self, state, *, key=None):\n",
    "\n",
    "        if self.growth_type == 'linear':\n",
    "            new_radius = state.radius + self.growth_rate\n",
    "        elif self.growth_type == 'exponential':\n",
    "            new_radius = state.radius*np.exp(self.growth_rate)\n",
    "\n",
    "        new_radius = np.where(new_radius > self.max_radius, self.max_radius, new_radius)*np.where(state.celltype>0, 1, 0)\n",
    "\n",
    "        get_radius = lambda s: s.radius\n",
    "        state = eqx.tree_at(get_radius, state, new_radius)\n",
    "\n",
    "        return state"
   ]
  },
  {
   "cell_type": "code",
   "execution_count": 65,
   "metadata": {},
   "outputs": [],
   "source": [
    "cg = CellGrowth(growth_rate=.01, max_radius=1.1, growth_type='linear')"
   ]
  },
  {
   "cell_type": "code",
   "execution_count": 66,
   "metadata": {},
   "outputs": [],
   "source": [
    "def loss(a, state, key):\n",
    "    div = CellDivisionReparam(inference=False, birth_radius_multiplier=a)\n",
    "    cg = CellGrowth(growth_rate=.01, max_radius=1.1, growth_type='linear')\n",
    "\n",
    "    for i in range(1):\n",
    "        key, subkey = jax.random.split(key)\n",
    "        state = div(state, key=subkey, softmax_T=1.)\n",
    "        state = cg(state)\n",
    "\n",
    "    return state.radius.sum(), state"
   ]
  },
  {
   "cell_type": "code",
   "execution_count": 67,
   "metadata": {},
   "outputs": [],
   "source": [
    "g, s = jax.grad(loss, has_aux=True)(1., test_state, subkey)"
   ]
  },
  {
   "cell_type": "code",
   "execution_count": 68,
   "metadata": {},
   "outputs": [
    {
     "data": {
      "text/plain": [
       "Array([1.01, 1.01, 0.  , 0.  , 0.  ], dtype=float32)"
      ]
     },
     "execution_count": 68,
     "metadata": {},
     "output_type": "execute_result"
    }
   ],
   "source": [
    "s.radius"
   ]
  },
  {
   "cell_type": "code",
   "execution_count": 74,
   "metadata": {},
   "outputs": [],
   "source": [
    "boh = eqx.nn.Sequential(layers=[\n",
    "    CellDivisionReparam(inference=False, birth_radius_multiplier=.5), \n",
    "    CellGrowth(growth_rate=.01, max_radius=1.1, growth_type='linear')\n",
    "    ])"
   ]
  },
  {
   "cell_type": "code",
   "execution_count": 75,
   "metadata": {},
   "outputs": [
    {
     "data": {
      "text/plain": [
       "Array([0.51, 0.51, 0.  , 0.  , 0.  ], dtype=float32)"
      ]
     },
     "execution_count": 75,
     "metadata": {},
     "output_type": "execute_result"
    }
   ],
   "source": [
    "boh(test_state, key=subkey).radius"
   ]
  },
  {
   "cell_type": "markdown",
   "metadata": {},
   "source": [
    "# Mechanical"
   ]
  },
  {
   "cell_type": "code",
   "execution_count": 58,
   "metadata": {},
   "outputs": [],
   "source": [
    "class MinimizePotential(eqx.Module):\n",
    "    relaxation_steps:   int = eqx.field(default=15, static=True)\n",
    "    dt:                 float = eqx.field(default=1e-3, static=True)\n",
    "\n",
    "\n",
    "    def _sgd(self, state, pair_potential):\n",
    "\n",
    "        init, apply = jax_md.minimize.gradient_descent(pair_potential, state.shift, self.dt) \n",
    " \n",
    "        def scan_fn(opt_state, i):\n",
    "            return apply(opt_state), 0.\n",
    "\n",
    "        #relax system\n",
    "        opt_state = init(state.position)\n",
    "        opt_state, _ = jax.lax.scan(scan_fn, opt_state, np.arange(self.relaxation_steps))\n",
    "\n",
    "        return opt_state"
   ]
  },
  {
   "cell_type": "code",
   "execution_count": null,
   "metadata": {},
   "outputs": [],
   "source": [
    "class MinimizeMorse(MinimizePotential):\n",
    "    epsilon:   Union[float, jax.Array] = 3.\n",
    "    alpha:     float = 2.8\n",
    "    r_cutoff:  float = eqx.field(default=2., static=True)\n",
    "    r_onset:   float = eqx.field(default=1.7, static=True)\n",
    "    \n",
    "\n",
    "\n",
    "    def _calculate_epsilon(self, state):\n",
    "\n",
    "        if isinstance(self.epsilon, float):\n",
    "            alive = np.where(state.celltype > 0, 1, 0)\n",
    "            epsilon_matrix = (np.outer(alive, alive)-np.eye(alive.shape[0]))*self.epsilon\n",
    "\n",
    "\n",
    "        elif isinstance(self.epsilon, jax.interpreters.xla.DeviceArray):\n",
    "            \n",
    "            ### implement general logic for multiple cell types\n",
    "            pass\n",
    "\n",
    "\n",
    "        return epsilon_matrix\n",
    "\n",
    "\n",
    "\n",
    "    def __call__(self, state, *, key=None):\n",
    "\n",
    "        #calculate sigma matrix\n",
    "        sigma_matrix = state.radius[:,None] + state.radius[None,:]\n",
    "\n",
    "        #calculate epsilon matrix\n",
    "        epsilon_matrix = self._calculate_epsilon(state)\n",
    "\n",
    "        #generate morse pair potential\n",
    "        morse_energy = jax_md.energy.morse_pair(state.displacement,\n",
    "                                                alpha=self.alpha,\n",
    "                                                epsilon=epsilon_matrix,\n",
    "                                                sigma=sigma_matrix, \n",
    "                                                r_onset=self.r_onset, \n",
    "                                                r_cutoff=self.r_cutoff\n",
    "                                                )\n",
    "        \n",
    "        #minimize\n",
    "        new_positions = self._sgd(state, morse_energy)\n",
    "\n",
    "        state = eqx.tree_at(lambda s: s.position, state, new_positions)\n",
    "\n",
    "        return state"
   ]
  },
  {
   "cell_type": "code",
   "execution_count": 59,
   "metadata": {},
   "outputs": [
    {
     "data": {
      "text/plain": [
       "MinimizeMorse(\n",
       "  relaxation_steps=15,\n",
       "  dt=0.001,\n",
       "  epsilon=3.0,\n",
       "  alpha=2.8,\n",
       "  r_cutoff=2.0,\n",
       "  r_onset=1.7\n",
       ")"
      ]
     },
     "execution_count": 59,
     "metadata": {},
     "output_type": "execute_result"
    }
   ],
   "source": [
    "MinimizeMorse()"
   ]
  },
  {
   "cell_type": "code",
   "execution_count": 80,
   "metadata": {},
   "outputs": [],
   "source": [
    "boh1 = eqx.nn.Sequential(layers=[\n",
    "    CellDivisionReparam(inference=False, birth_radius_multiplier=.5), \n",
    "    CellGrowth(growth_rate=.01, max_radius=1.1, growth_type='linear'),\n",
    "    MinimizeMorse(epsilon=.5)\n",
    "    ])"
   ]
  },
  {
   "cell_type": "code",
   "execution_count": 78,
   "metadata": {},
   "outputs": [],
   "source": [
    "ns = boh(boh(test_state, key=subkey), key=subkey)"
   ]
  },
  {
   "cell_type": "code",
   "execution_count": 84,
   "metadata": {},
   "outputs": [
    {
     "data": {
      "text/plain": [
       "Array([[-0.46525076,  0.3462038 ],\n",
       "       [ 0.08624908, -0.06417993],\n",
       "       [ 0.78013045, -0.580513  ],\n",
       "       [ 0.        ,  0.        ],\n",
       "       [ 0.        ,  0.        ]], dtype=float32)"
      ]
     },
     "execution_count": 84,
     "metadata": {},
     "output_type": "execute_result"
    }
   ],
   "source": [
    "MinimizeMorse(epsilon=.5)(ns, key=subkey).position"
   ]
  },
  {
   "cell_type": "code",
   "execution_count": 270,
   "metadata": {},
   "outputs": [],
   "source": [
    "def loss(a, state, key):\n",
    "    boh1 = eqx.nn.Sequential(layers=[\n",
    "        CellDivisionReparam(inference=True, birth_radius_multiplier=a, softmax_T=10.), \n",
    "        CellGrowth(growth_rate=.03, max_radius=1.1, growth_type='linear'),\n",
    "        MinimizeMorse(epsilon=3.)\n",
    "        ])\n",
    "    \n",
    "    for i in range(4):\n",
    "        key, subkey = jax.random.split(key)\n",
    "        state = boh1(state, key=subkey)\n",
    "\n",
    "    return (state.position[1]**2).sum(), state"
   ]
  },
  {
   "cell_type": "code",
   "execution_count": 271,
   "metadata": {},
   "outputs": [],
   "source": [
    "g, s = jax.grad(loss, has_aux=True)(.8, test_state, subkey)"
   ]
  },
  {
   "cell_type": "code",
   "execution_count": 272,
   "metadata": {},
   "outputs": [],
   "source": [
    "ss = loss(.8, ns, subkey)"
   ]
  },
  {
   "cell_type": "code",
   "execution_count": 273,
   "metadata": {},
   "outputs": [
    {
     "data": {
      "text/plain": [
       "Array(8.629837, dtype=float32, weak_type=True)"
      ]
     },
     "execution_count": 273,
     "metadata": {},
     "output_type": "execute_result"
    }
   ],
   "source": [
    "g"
   ]
  },
  {
   "cell_type": "code",
   "execution_count": 232,
   "metadata": {},
   "outputs": [
    {
     "data": {
      "text/plain": [
       "Array(1.2136753, dtype=float32)"
      ]
     },
     "execution_count": 232,
     "metadata": {},
     "output_type": "execute_result"
    }
   ],
   "source": [
    "s.position.sum()"
   ]
  },
  {
   "cell_type": "code",
   "execution_count": 207,
   "metadata": {},
   "outputs": [
    {
     "data": {
      "text/plain": [
       "Array([0.52 , 0.265, 0.265, 0.   , 0.   ], dtype=float32)"
      ]
     },
     "execution_count": 207,
     "metadata": {},
     "output_type": "execute_result"
    }
   ],
   "source": [
    "ns.radius"
   ]
  },
  {
   "cell_type": "code",
   "execution_count": 206,
   "metadata": {},
   "outputs": [
    {
     "data": {
      "text/plain": [
       "Array([0.41599998, 0.265     , 0.265     , 0.41599998, 0.        ],      dtype=float32)"
      ]
     },
     "execution_count": 206,
     "metadata": {},
     "output_type": "execute_result"
    }
   ],
   "source": [
    "ss[1].radius"
   ]
  },
  {
   "cell_type": "code",
   "execution_count": null,
   "metadata": {},
   "outputs": [],
   "source": []
  }
 ],
 "metadata": {
  "kernelspec": {
   "display_name": "JAX (Python 3.10)",
   "language": "python",
   "name": "jax_py310"
  },
  "language_info": {
   "codemirror_mode": {
    "name": "ipython",
    "version": 3
   },
   "file_extension": ".py",
   "mimetype": "text/x-python",
   "name": "python",
   "nbconvert_exporter": "python",
   "pygments_lexer": "ipython3",
   "version": "3.10.9"
  }
 },
 "nbformat": 4,
 "nbformat_minor": 2
}
