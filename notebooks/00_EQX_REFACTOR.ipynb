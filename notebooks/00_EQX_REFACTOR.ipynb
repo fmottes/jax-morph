{
 "cells": [
  {
   "cell_type": "code",
   "execution_count": 1,
   "metadata": {},
   "outputs": [],
   "source": [
    "import jax\n",
    "import jax.numpy as np\n",
    "\n",
    "from typing import Any, Callable\n",
    "from jaxtyping import Array\n",
    "\n",
    "import equinox as eqx"
   ]
  },
  {
   "cell_type": "code",
   "execution_count": 3,
   "metadata": {},
   "outputs": [],
   "source": [
    "key = jax.random.PRNGKey(0)"
   ]
  },
  {
   "cell_type": "code",
   "execution_count": 87,
   "metadata": {},
   "outputs": [],
   "source": [
    "class Substates(eqx.Module):\n",
    "    s : eqx.nn.StateIndex\n",
    "    a : float\n",
    "    f : Callable\n",
    "\n",
    "    def __init__(self):\n",
    "        state_init = dict([(1,np.zeros((1, 1))), (2,np.ones((1, 1)))])\n",
    "        self.s = eqx.nn.StateIndex(state_init)\n",
    "        self.a = 2.0\n",
    "        self.f = lambda x: x + 1.0\n",
    "\n",
    "    def __call__(self, x: Array) -> Array:\n",
    "        return self.a * self.s(x)"
   ]
  },
  {
   "cell_type": "code",
   "execution_count": 88,
   "metadata": {},
   "outputs": [],
   "source": [
    "ss, state = eqx.nn.make_with_state(Substates)()\n",
    "\n",
    "\n",
    "#eqx.nn.State(ss).substate({1: 0})"
   ]
  },
  {
   "cell_type": "code",
   "execution_count": 4,
   "metadata": {},
   "outputs": [],
   "source": [
    "N = 100\n",
    "\n",
    "#define set of random positions in 2d\n",
    "pos = 10*jax.random.uniform(key, (N, 2))"
   ]
  },
  {
   "cell_type": "code",
   "execution_count": 30,
   "metadata": {},
   "outputs": [],
   "source": [
    "#define chemical degradations and update laplacian\n",
    "K = .1*np.eye(N)\n",
    "\n",
    "#diffusion coefficient\n",
    "D = 2e-2\n",
    "\n",
    "#define random production rates from exponential distribution\n",
    "P = jax.random.uniform(key, (N,))"
   ]
  },
  {
   "cell_type": "code",
   "execution_count": 31,
   "metadata": {},
   "outputs": [],
   "source": [
    "def ss_chemfield(pos, D, K, P):\n",
    "    \"\"\"\n",
    "    Calculate the steady state chemical field for a given set of positions and parameters\n",
    "\n",
    "    Parameters\n",
    "    ----------\n",
    "    pos : array\n",
    "        Nx2 array of positions\n",
    "    D : float\n",
    "        Diffusion coefficient\n",
    "    K : float\n",
    "        Decay rate\n",
    "    P : array\n",
    "        Nx1 array of production rates\n",
    "\n",
    "    Returns\n",
    "    -------\n",
    "    x : array\n",
    "        Nx1 array of steady state concentrations\n",
    "    \"\"\"\n",
    "\n",
    "    #calculate all pairwise distances using pure jax\n",
    "    dists = np.sqrt(np.sum((pos[:, None, :] - pos[None, :, :])**2, axis=-1)) + np.diag(np.ones(N))\n",
    "\n",
    "    #adjacency matrix\n",
    "    diag_mask = np.ones((N, N)) - np.eye(N)\n",
    "    A = (diag_mask)*(1/dists)**2\n",
    "\n",
    "    #graph laplacian\n",
    "    L = np.diag(np.sum(A, axis=0)) - A\n",
    "\n",
    "    #update laplacian\n",
    "    L = D*L + K\n",
    "\n",
    "    #solve for steady state\n",
    "    x = np.linalg.solve(L, P)\n",
    "\n",
    "    return x"
   ]
  },
  {
   "cell_type": "code",
   "execution_count": 32,
   "metadata": {},
   "outputs": [],
   "source": [
    "x = ss_chemfield(pos, D, K, P)"
   ]
  },
  {
   "cell_type": "code",
   "execution_count": 33,
   "metadata": {},
   "outputs": [
    {
     "data": {
      "text/plain": [
       "Array([3.9190333, 5.5560317, 4.945663 , 5.737023 , 3.8454523, 5.4835463,\n",
       "       5.0753565, 4.443593 , 5.3435354, 4.5845647, 4.697924 , 4.529473 ,\n",
       "       6.949196 , 6.030072 , 4.461426 , 6.1976566, 4.865279 , 3.7751825,\n",
       "       5.070111 , 5.4399376, 3.816938 , 6.1518393, 5.331742 , 5.580075 ,\n",
       "       4.9043703, 5.4377904, 5.190167 , 4.3016667, 6.622356 , 3.779549 ,\n",
       "       5.817896 , 3.7215676, 5.0629745, 5.5592227, 4.958537 , 6.0261908,\n",
       "       5.56019  , 4.257744 , 5.3171906, 5.061906 , 5.7816963, 4.9973135,\n",
       "       5.989546 , 6.1399097, 6.73348  , 6.0398927, 5.138991 , 3.9823284,\n",
       "       4.315284 , 5.9256234, 5.3551397, 6.018447 , 6.023216 , 5.254752 ,\n",
       "       5.1014843, 4.7470174, 5.334473 , 5.46376  , 5.368791 , 4.7257895,\n",
       "       5.5886235, 6.0267735, 5.493993 , 6.0267115, 5.5161595, 6.7781253,\n",
       "       5.525284 , 5.1957827, 4.16076  , 6.42015  , 4.8727584, 5.68922  ,\n",
       "       6.910315 , 5.4699125, 5.232961 , 4.2446747, 5.4115   , 6.52598  ,\n",
       "       4.392853 , 4.932646 , 6.0187516, 5.217474 , 4.636458 , 4.6769347,\n",
       "       5.2011447, 5.161575 , 5.2424746, 5.675063 , 3.7171538, 5.8345313,\n",
       "       3.8759005, 4.9381447, 4.636837 , 4.826639 , 5.451674 , 4.245728 ,\n",
       "       4.87015  , 6.950533 , 6.3374286, 4.824602 ], dtype=float32)"
      ]
     },
     "execution_count": 33,
     "metadata": {},
     "output_type": "execute_result"
    }
   ],
   "source": [
    "x"
   ]
  },
  {
   "cell_type": "code",
   "execution_count": null,
   "metadata": {},
   "outputs": [],
   "source": []
  }
 ],
 "metadata": {
  "kernelspec": {
   "display_name": "JAX (Python 3.10)",
   "language": "python",
   "name": "jax_py310"
  },
  "language_info": {
   "codemirror_mode": {
    "name": "ipython",
    "version": 3
   },
   "file_extension": ".py",
   "mimetype": "text/x-python",
   "name": "python",
   "nbconvert_exporter": "python",
   "pygments_lexer": "ipython3",
   "version": "3.10.9"
  }
 },
 "nbformat": 4,
 "nbformat_minor": 2
}
