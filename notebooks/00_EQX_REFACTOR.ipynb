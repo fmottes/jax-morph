{
 "cells": [
  {
   "cell_type": "code",
   "execution_count": 90,
   "metadata": {},
   "outputs": [],
   "source": [
    "import jax\n",
    "import jax.numpy as np\n",
    "\n",
    "import numpy as onp\n",
    "\n",
    "from typing import Any, Callable\n",
    "from jaxtyping import Array\n",
    "\n",
    "import equinox as eqx\n",
    "\n",
    "import matplotlib.pyplot as plt"
   ]
  },
  {
   "cell_type": "code",
   "execution_count": 45,
   "metadata": {},
   "outputs": [],
   "source": [
    "key = jax.random.PRNGKey(0)"
   ]
  },
  {
   "cell_type": "markdown",
   "metadata": {},
   "source": [
    "# Cell State"
   ]
  },
  {
   "cell_type": "code",
   "execution_count": 149,
   "metadata": {},
   "outputs": [],
   "source": [
    "import jax_md\n",
    "#import abc\n",
    "\n",
    "class BaseCellState(eqx.Module):\n",
    "    '''\n",
    "    Module containing the basic features of a system state.\n",
    "\n",
    "    '''\n",
    "\n",
    "    # METHODS\n",
    "    displacement:   jax_md.space.DisplacementFn\n",
    "    shift:          jax_md.space.ShiftFn\n",
    "\n",
    "    # STATE\n",
    "    position:   Array\n",
    "    celltype:   Array\n",
    "    radius:     Array\n",
    "    divrate:    Array\n",
    "    key:        Array\n",
    "\n",
    "\n",
    "    def __init__(self, n_dim=2):\n",
    "        '''\n",
    "        Intializes a CellState with no cells (empty data structures, with correct shapes).\n",
    "\n",
    "        Parameters\n",
    "        ----------\n",
    "        n_dim: int\n",
    "            Number of spatial dimensions.\n",
    "\n",
    "        '''\n",
    "\n",
    "        assert n_dim == 2 or n_dim == 3, 'n_dim must be 2 or 3'\n",
    "\n",
    "        disp, shift = jax_md.space.free()\n",
    "        \n",
    "\n",
    "        self.position  =   np.empty(shape=(0, n_dim),              dtype=np.float32)\n",
    "        self.celltype  =   np.empty(shape=(0,),                    dtype=np.int8)\n",
    "        self.radius    =   np.empty(shape=(0,),                    dtype=np.float32)\n",
    "        self.divrate   =   np.empty(shape=(0,),                    dtype=np.float32)\n",
    "        self.key       =   None\n",
    "\n",
    "        self.displacement  =   disp\n",
    "        self.shift         =   shift\n"
   ]
  },
  {
   "cell_type": "code",
   "execution_count": 150,
   "metadata": {},
   "outputs": [],
   "source": [
    "class CellState(BaseCellState):\n",
    "    chemical:   Array\n",
    "    chemgrad:   Array\n",
    "    hidden_state: Array\n",
    "\n",
    "    def __init__(self, n_dim=2, n_chem=1, hidden_size=10):\n",
    "\n",
    "        super().__init__(n_dim)\n",
    "        \n",
    "        self.chemical = np.empty(shape=(0, n_chem),             dtype=np.float32)\n",
    "        self.chemgrad = np.empty(shape=(0, int(n_dim*n_chem)),  dtype=np.float32)\n",
    "        self.hidden_state = np.empty(shape=(0, hidden_size),       dtype=np.float32)"
   ]
  },
  {
   "cell_type": "code",
   "execution_count": null,
   "metadata": {},
   "outputs": [],
   "source": []
  },
  {
   "cell_type": "code",
   "execution_count": null,
   "metadata": {},
   "outputs": [],
   "source": []
  },
  {
   "cell_type": "code",
   "execution_count": null,
   "metadata": {},
   "outputs": [],
   "source": []
  },
  {
   "cell_type": "code",
   "execution_count": null,
   "metadata": {},
   "outputs": [],
   "source": []
  }
 ],
 "metadata": {
  "kernelspec": {
   "display_name": "JAX (Python 3.10)",
   "language": "python",
   "name": "jax_py310"
  },
  "language_info": {
   "codemirror_mode": {
    "name": "ipython",
    "version": 3
   },
   "file_extension": ".py",
   "mimetype": "text/x-python",
   "name": "python",
   "nbconvert_exporter": "python",
   "pygments_lexer": "ipython3",
   "version": "3.10.9"
  }
 },
 "nbformat": 4,
 "nbformat_minor": 2
}
