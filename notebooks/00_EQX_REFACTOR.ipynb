{
 "cells": [
  {
   "cell_type": "code",
   "execution_count": 1,
   "metadata": {},
   "outputs": [],
   "source": [
    "import jax\n",
    "import jax.numpy as np\n",
    "import jax.tree_util as jtu\n",
    "\n",
    "import numpy as onp\n",
    "\n",
    "from typing import Any, Callable, Union\n",
    "\n",
    "import equinox as eqx\n",
    "\n",
    "import matplotlib.pyplot as plt"
   ]
  },
  {
   "cell_type": "code",
   "execution_count": 2,
   "metadata": {},
   "outputs": [],
   "source": [
    "key = jax.random.PRNGKey(0)"
   ]
  },
  {
   "cell_type": "markdown",
   "metadata": {},
   "source": [
    "# Cell State"
   ]
  },
  {
   "cell_type": "code",
   "execution_count": 3,
   "metadata": {},
   "outputs": [],
   "source": [
    "import jax_md"
   ]
  },
  {
   "cell_type": "code",
   "execution_count": 23,
   "metadata": {},
   "outputs": [],
   "source": [
    "class BaseCellState(eqx.Module):\n",
    "    '''\n",
    "    Module containing the basic features of a system state.\n",
    "\n",
    "    '''\n",
    "\n",
    "    # METHODS\n",
    "    displacement:   jax_md.space.DisplacementFn = eqx.field(static=True)\n",
    "    shift:          jax_md.space.ShiftFn = eqx.field(static=True)\n",
    "\n",
    "    # STATE\n",
    "    position:   jax.Array\n",
    "    celltype:   jax.Array\n",
    "    radius:     jax.Array\n",
    "    division:   jax.Array\n",
    "    #key:       jax.Array\n",
    "\n",
    "\n",
    "    @classmethod\n",
    "    def empty(cls, n_dim=2):\n",
    "\n",
    "        '''\n",
    "        Intializes a CellState with no cells (empty data structures, with correct shapes).\n",
    "\n",
    "        Parameters\n",
    "        ----------\n",
    "        n_dim: int\n",
    "            Number of spatial dimensions.\n",
    "\n",
    "        '''\n",
    "\n",
    "        assert n_dim == 2 or n_dim == 3, 'n_dim must be 2 or 3'\n",
    "\n",
    "        disp, shift = jax_md.space.free()\n",
    "        \n",
    "\n",
    "        args = {\n",
    "            'displacement'  :   disp,\n",
    "            'shift'         :   shift,\n",
    "            'position'  :   np.empty(shape=(0, n_dim), dtype=np.float32),\n",
    "            'celltype'  :   np.empty(shape=(0,), dtype=np.float32),\n",
    "            'radius'    :   np.empty(shape=(0,), dtype=np.float32),\n",
    "            'division'   :   np.empty(shape=(0,), dtype=np.float32),\n",
    "            #'key'       :   None,\n",
    "            }\n",
    "        \n",
    "        return cls(**args)\n"
   ]
  },
  {
   "cell_type": "code",
   "execution_count": 24,
   "metadata": {},
   "outputs": [],
   "source": [
    "class CellState(BaseCellState):\n",
    "    chemical:           jax.Array\n",
    "    secretion_rate:     jax.Array\n",
    "    chemical_grad:      jax.Array\n",
    "    hidden_state:       jax.Array\n",
    "    mechanical_stress:  jax.Array\n",
    "\n",
    "\n",
    "\n",
    "    @classmethod\n",
    "    def empty(cls, n_dim=2, n_chem=1, hidden_size=10):\n",
    "\n",
    "        a = BaseCellState.empty(n_dim).__dict__\n",
    "\n",
    "        new_args = {\n",
    "            'chemical' :   np.empty(shape=(0, n_chem), dtype=np.float32),\n",
    "            'secretion_rate' :   np.empty(shape=(0, n_chem), dtype=np.float32),\n",
    "            'chemical_grad' :   np.empty(shape=(0, int(n_dim*n_chem)), dtype=np.float32),\n",
    "            'hidden_state' :   np.empty(shape=(0, hidden_size), dtype=np.float32),\n",
    "            'mechanical_stress' :  np.empty(shape=(0,), dtype=np.float32),\n",
    "            }\n",
    "        \n",
    "        a.update(new_args)\n",
    "\n",
    "        return cls(**a)"
   ]
  },
  {
   "cell_type": "code",
   "execution_count": 25,
   "metadata": {},
   "outputs": [],
   "source": [
    "disp, shift = jax_md.space.free()\n",
    "\n",
    "N_DIM = 2\n",
    "N = 5\n",
    "\n",
    "N_CHEM = 3\n",
    "N_HIDDEN = 5\n",
    "\n",
    "test_state = BaseCellState(\n",
    "    displacement=disp,\n",
    "    shift=shift,\n",
    "    position=np.zeros(shape=(N,N_DIM)),\n",
    "    celltype=np.zeros(shape=(N,)).at[0].set(1),\n",
    "    radius=np.zeros(shape=(N,)).at[0].set(1.),\n",
    "    division=np.zeros(shape=(N,)).at[0].set(1.),\n",
    ")    \n",
    "\n",
    "\n",
    "test_state2 = CellState(\n",
    "    displacement=disp,\n",
    "    shift=shift,\n",
    "    position=np.zeros(shape=(N,N_DIM)),\n",
    "    celltype=np.zeros(shape=(N,)).at[0].set(1),\n",
    "    radius=np.zeros(shape=(N,)).at[0].set(1.),\n",
    "    division=np.zeros(shape=(N,)).at[0].set(1.),\n",
    "    chemical=np.zeros(shape=(N,N_CHEM)),\n",
    "    secretion_rate=np.zeros(shape=(N,N_CHEM)).at[0].set(1.),\n",
    "    chemical_grad=np.zeros(shape=(N,int(N_DIM*N_CHEM))),\n",
    "    hidden_state=np.zeros(shape=(N,N_HIDDEN)),\n",
    "    mechanical_stress=np.zeros(shape=(N,)),\n",
    ")"
   ]
  },
  {
   "cell_type": "markdown",
   "metadata": {},
   "source": [
    "# Environment"
   ]
  },
  {
   "cell_type": "code",
   "execution_count": 38,
   "metadata": {},
   "outputs": [],
   "source": [
    "import abc\n",
    "\n",
    "class SimulationStep(eqx.Module):\n",
    "\n",
    "    @abc.abstractmethod\n",
    "    def __call__(self, state, *, key=None):\n",
    "        pass"
   ]
  },
  {
   "cell_type": "markdown",
   "metadata": {},
   "source": [
    "## Cell division\n",
    "\n",
    "**NOTE**: The whole Gumbel-Softmax is useless in this context. By formulating copy operations as multiplications autodiff is already able to deal with this situation. The gradient of the operation is just the copy matrix!"
   ]
  },
  {
   "cell_type": "code",
   "execution_count": 39,
   "metadata": {},
   "outputs": [],
   "source": [
    "class CellDivisionReparam(SimulationStep):\n",
    "    birth_radius_multiplier:    float\n",
    "    #inference:                  bool = eqx.field(static=True)\n",
    "\n",
    "    def __init__(self, #state,\n",
    "                 *,\n",
    "                 birth_radius_multiplier=float(1/np.sqrt(2)),\n",
    "                 #inference=True,\n",
    "                 **kwargs\n",
    "                 ):\n",
    "\n",
    "        # if not hasattr(state, 'divrate'):\n",
    "        #     raise AttributeError('CellState must have \"divrate\" attribute')\n",
    "        # if not hasattr(state, 'radius'):\n",
    "        #     raise AttributeError('CellState must have \"radius\" attribute')\n",
    "        # if not hasattr(state, 'celltype'):\n",
    "        #     raise AttributeError('CellState must have \"celltype\" attribute')\n",
    "        # if not hasattr(state, 'position'):\n",
    "        #     raise AttributeError('CellState must have \"position\" attribute')\n",
    "        # if not hasattr(state, 'key'):\n",
    "        #     raise AttributeError('CellState must have valid \"key\" attribute')\n",
    "        \n",
    "        self.birth_radius_multiplier = birth_radius_multiplier\n",
    "        #self.inference = inference\n",
    "        \n",
    "\n",
    "    def __call__(self, state, *, key=None):#, inference=None, softmax_T=1.):\n",
    "\n",
    "        # if inference is None:\n",
    "        #     inference = self.inference\n",
    "\n",
    "\n",
    "        #split key\n",
    "        subkey_div, subkey_place = jax.random.split(key,2)\n",
    "        \n",
    "        p = state.division/state.division.sum()\n",
    "\n",
    "        # safe_p = np.where(p > 0, p, 1)\n",
    "        # logp = np.where(p > 0, np.log(safe_p), -np.inf)\n",
    "\n",
    "        # logit = (logp + jax.random.gumbel(subkey_div, shape=logp.shape))/softmax_T\n",
    "        # idx_dividing_cell = np.argmax(logit)\n",
    "\n",
    "        idx_dividing_cell = jax.random.choice(subkey_div, a=len(p), p=p)\n",
    "        new_cell_contribs = np.zeros_like(state.celltype).at[idx_dividing_cell].set(1.)\n",
    "\n",
    "        # if inference:\n",
    "        #     new_cell_contribs = np.zeros_like(state.celltype).at[idx_dividing_cell].set(1.)\n",
    "        #     print(new_cell_contribs)\n",
    "        # else:\n",
    "        #     new_cell_contribs = jax.nn.softmax(logit)\n",
    "        #     print(new_cell_contribs)\n",
    "\n",
    "        \n",
    "        idx_new_cell = np.count_nonzero(state.celltype)\n",
    "\n",
    "        division_matrix = np.eye(state.celltype.shape[0]).at[idx_new_cell].set(new_cell_contribs)\n",
    "\n",
    "        new_state = jax.tree_map(lambda x: np.dot(division_matrix, x), state)\n",
    "\n",
    "\n",
    "        #resize cell radii\n",
    "        get_radius = lambda s: s.radius\n",
    "        resize_rad = lambda r: r.at[idx_new_cell].set(r[idx_dividing_cell]*self.birth_radius_multiplier).at[idx_dividing_cell].set(r[idx_dividing_cell]*self.birth_radius_multiplier)\n",
    "        new_state = eqx.tree_at(get_radius, new_state, replace_fn=resize_rad)\n",
    "        \n",
    "        ### POSITION OF NEW CELLS\n",
    "        angle = jax.random.uniform(subkey_place, minval=0., maxval=2*np.pi)\n",
    "        cell_displacement = self.birth_radius_multiplier*np.array([np.cos(angle),np.sin(angle)])\n",
    "\n",
    "        get_position = lambda s: s.position\n",
    "        new_position = lambda p: p.at[idx_new_cell].set(p[idx_dividing_cell]-cell_displacement).at[idx_dividing_cell].set(p[idx_dividing_cell]+cell_displacement)\n",
    "        new_state = eqx.tree_at(get_position, new_state, replace_fn=new_position)\n",
    "        \n",
    "\n",
    "        return new_state"
   ]
  },
  {
   "cell_type": "markdown",
   "metadata": {},
   "source": [
    "## Cell growth"
   ]
  },
  {
   "cell_type": "code",
   "execution_count": 40,
   "metadata": {},
   "outputs": [],
   "source": [
    "class CellGrowth(SimulationStep):\n",
    "    max_radius:     float\n",
    "    growth_rate:    float\n",
    "    growth_type:    str = eqx.field(static=True)\n",
    "    \n",
    "    def __init__(self, #state, \n",
    "                 *, \n",
    "                 growth_rate=1., \n",
    "                 max_radius=.5, \n",
    "                 growth_type='linear',\n",
    "                 **kwargs\n",
    "                 ):\n",
    "\n",
    "        # if not hasattr(state, 'radius'):\n",
    "        #     raise AttributeError('CellState must have \"radius\" attribute')\n",
    "        \n",
    "        if growth_type not in ['linear', 'exponential']:\n",
    "            raise ValueError('growth_type must be either \"linear\" or \"exponential\"')\n",
    "        \n",
    "        self.growth_rate = growth_rate\n",
    "        self.max_radius = max_radius\n",
    "        self.growth_type = growth_type\n",
    "\n",
    "\n",
    "    def __call__(self, state, *, key=None):\n",
    "\n",
    "        if self.growth_type == 'linear':\n",
    "            new_radius = state.radius + self.growth_rate\n",
    "        elif self.growth_type == 'exponential':\n",
    "            new_radius = state.radius*np.exp(self.growth_rate)\n",
    "\n",
    "        new_radius = np.where(new_radius > self.max_radius, self.max_radius, new_radius)*np.where(state.celltype>0, 1, 0)\n",
    "\n",
    "        get_radius = lambda s: s.radius\n",
    "        state = eqx.tree_at(get_radius, state, new_radius)\n",
    "\n",
    "        return state"
   ]
  },
  {
   "cell_type": "markdown",
   "metadata": {},
   "source": [
    "## Mechanical"
   ]
  },
  {
   "cell_type": "code",
   "execution_count": 41,
   "metadata": {},
   "outputs": [],
   "source": [
    "class SGDMechanicalRelaxation(SimulationStep):\n",
    "    mechanical_potential:   eqx.Module\n",
    "    relaxation_steps:       int = eqx.field(default=15, static=True)\n",
    "    dt:                     float = eqx.field(default=1e-3, static=True)\n",
    "\n",
    "\n",
    "    def _sgd(self, state, pair_potential):\n",
    "\n",
    "        init, apply = jax_md.minimize.gradient_descent(pair_potential, state.shift, self.dt) \n",
    " \n",
    "        def scan_fn(opt_state, i):\n",
    "            return apply(opt_state), 0.\n",
    "\n",
    "        #relax system\n",
    "        opt_state = init(state.position)\n",
    "        opt_state, _ = jax.lax.scan(scan_fn, opt_state, np.arange(self.relaxation_steps))\n",
    "\n",
    "        return opt_state\n",
    "    \n",
    "\n",
    "    def __call__(self, state, *, key=None):\n",
    "\n",
    "        #generate morse pair potential\n",
    "        energy_fn = self.mechanical_potential.energy_fn(state)\n",
    "        \n",
    "        #minimize\n",
    "        new_positions = self._sgd(state, energy_fn)\n",
    "\n",
    "        state = eqx.tree_at(lambda s: s.position, state, new_positions)\n",
    "\n",
    "        return state"
   ]
  },
  {
   "cell_type": "code",
   "execution_count": 45,
   "metadata": {},
   "outputs": [],
   "source": [
    "#Define Potential ABC\n",
    "class MechanicalInteractionPotential(eqx.Module):\n",
    "\n",
    "    @abc.abstractmethod\n",
    "    def energy_fn(self, state, *, per_particle):\n",
    "        pass\n",
    "\n",
    "\n",
    "class MorsePotential(MechanicalInteractionPotential):\n",
    "    epsilon:   Union[float, jax.Array] = 3.\n",
    "    alpha:     float = 2.8\n",
    "    r_cutoff:  float = eqx.field(default=2., static=True)\n",
    "    r_onset:   float = eqx.field(default=1.7, static=True)\n",
    "\n",
    "\n",
    "    def _calculate_epsilon_matrix(self, state):\n",
    "\n",
    "        if np.atleast_1d(self.epsilon).size == 1:\n",
    "            alive = np.where(state.celltype > 0, 1, 0)\n",
    "            epsilon_matrix = (np.outer(alive, alive)-np.eye(alive.shape[0]))*self.epsilon\n",
    "\n",
    "\n",
    "        elif isinstance(self.epsilon, jax.interpreters.xla.DeviceArray):\n",
    "            \n",
    "            ### implement general logic for multiple cell types\n",
    "            raise NotImplementedError('Multiple cell types not implemented yet')\n",
    "\n",
    "\n",
    "        return epsilon_matrix\n",
    "    \n",
    "\n",
    "    def _calculate_sigma_matrix(self, state):\n",
    "\n",
    "        sigma_matrix = state.radius[:,None] + state.radius[None,:]\n",
    "\n",
    "        return sigma_matrix\n",
    "    \n",
    "\n",
    "    def energy_fn(self, state, *, per_particle=False):\n",
    "\n",
    "        epsilon_matrix = self._calculate_epsilon_matrix(state)\n",
    "        sigma_matrix = self._calculate_sigma_matrix(state)\n",
    "\n",
    "        #generate morse pair potential\n",
    "        morse_energy = jax_md.energy.morse_pair(state.displacement,\n",
    "                                                alpha=self.alpha,\n",
    "                                                epsilon=epsilon_matrix,\n",
    "                                                sigma=sigma_matrix, \n",
    "                                                r_onset=self.r_onset, \n",
    "                                                r_cutoff=self.r_cutoff,\n",
    "                                                per_particle=per_particle\n",
    "                                                )\n",
    "        \n",
    "        return morse_energy\n"
   ]
  },
  {
   "cell_type": "markdown",
   "metadata": {},
   "source": [
    "## Diffusion"
   ]
  },
  {
   "cell_type": "code",
   "execution_count": 13,
   "metadata": {},
   "outputs": [],
   "source": [
    "class SteadyStateDiffusion(SimulationStep):\n",
    "    diffusion_coeff:    Union[float, jax.Array]\n",
    "    degradation_rate:   Union[float, jax.Array]\n",
    "    _vmap_diff_inaxes:  tuple = eqx.field(static=True)\n",
    "\n",
    "    def __init__(self, diffusion_coeff=2., degradation_rate=1., **kwargs):\n",
    "\n",
    "        self.diffusion_coeff = diffusion_coeff\n",
    "        self.degradation_rate = degradation_rate\n",
    "\n",
    "        _inaxes_diffcoef = 0 if np.atleast_1d(self.diffusion_coeff).size > 1 else None\n",
    "        _inaxes_degrate = 0 if np.atleast_1d(self.degradation_rate).size > 1 else None\n",
    "        self._vmap_diff_inaxes = (1, _inaxes_diffcoef, _inaxes_degrate, None)\n",
    "\n",
    "\n",
    "    def __call__(self, state, *, key=None):\n",
    "\n",
    "        #calculate all pairwise distances\n",
    "        dist = jax_md.space.map_product(jax_md.space.metric(state.displacement))(state.position, state.position)\n",
    "\n",
    "        #prevent division by zero\n",
    "        dist *= np.where(np.outer(state.celltype, state.celltype)>0, 1, -1)\n",
    "        dist -= np.eye(dist.shape[0])\n",
    "\n",
    "        #adjacency matrix\n",
    "        # zero out connections to inexistent cells\n",
    "        A = 1/dist\n",
    "        A = (np.where(A>0, A, 0))**2\n",
    "\n",
    "\n",
    "        #calculate graph laplacian\n",
    "        L = np.diag(np.sum(A, axis=0)) - A\n",
    "    \n",
    "\n",
    "        def _ss_chemfield(P, D, K, L):\n",
    "\n",
    "            #update laplacian with degradation\n",
    "            L = D*L + K*np.eye(L.shape[0])\n",
    "\n",
    "            #solve for steady state\n",
    "            c = np.linalg.solve(L, P)\n",
    "\n",
    "            return c\n",
    "        \n",
    "        #calculate steady state chemical field\n",
    "        _ss_chemfield = jax.vmap(_ss_chemfield, in_axes=self._vmap_diff_inaxes, out_axes=1)\n",
    "\n",
    "        new_chem = _ss_chemfield(state.secretion_rate, self.diffusion_coeff, self.degradation_rate, L)\n",
    "\n",
    "        #update chemical field\n",
    "        state = eqx.tree_at(lambda s: s.chemical, state, new_chem)\n",
    "\n",
    "        return state"
   ]
  },
  {
   "cell_type": "markdown",
   "metadata": {},
   "source": [
    "# Cell internals"
   ]
  },
  {
   "cell_type": "markdown",
   "metadata": {},
   "source": [
    "## Chemical gradients"
   ]
  },
  {
   "cell_type": "code",
   "execution_count": 14,
   "metadata": {},
   "outputs": [],
   "source": [
    "class LocalChemicalGradients(SimulationStep):\n",
    "    neighbor_radius:    Union[float,None] = eqx.field(default=None, static=True)\n",
    "\n",
    "    def __call__(self, state, *, key=None):\n",
    "\n",
    "        # mask only cells that exist\n",
    "        c_alive = state.celltype>0.\n",
    "\n",
    "        # displacements between cell pairs (ncells x ncells x ndim_space)\n",
    "        disp = jax.vmap(jax.vmap(state.displacement, in_axes=[0,None]), in_axes=[None,0])(state.position, state.position)\n",
    "\n",
    "        # distances btw cell pairs\n",
    "        # dist w/ non-existing cells are zeroed out\n",
    "        dist = np.sqrt((disp**2).sum(2))*np.outer(c_alive, c_alive)\n",
    "\n",
    "        # consider as neigbors:\n",
    "        # - cells less than one radius away (+ small tolerance)\n",
    "        # - cells differents from themselves\n",
    "        # - cells that exist\n",
    "        if None == self.neighbor_radius:\n",
    "            # \"touching\" distance betw. cells\n",
    "            R = (state.radius+state.radius[:,None])*np.outer(c_alive, c_alive)\n",
    "        else:\n",
    "            R = (self.neighbor_radius)*np.outer(c_alive, c_alive)\n",
    "        \n",
    "        neig = (dist<R)*(dist>0.)\n",
    "\n",
    "        # normalize all displacements\n",
    "        norm_disp = (disp*neig[:,:,None])/(dist[:,:,None]+1e-8)\n",
    "\n",
    "        # calculates x and y components of grad for single chemical\n",
    "        def _grad_chem(chem):\n",
    "            return (norm_disp*chem.ravel()[:,None]).sum(1)\n",
    "            \n",
    "\n",
    "        #vectorize over chemicals\n",
    "        #OUTPUT SHAPE: ncells x ndim x nchem\n",
    "        _grad_chem = jax.vmap(_grad_chem, in_axes=1, out_axes=2)\n",
    "\n",
    "        #calc grads (no non-existing cells or lone cells w/ no neighbors)\n",
    "        chemgrads = _grad_chem(state.chemical)\n",
    "            \n",
    "        # transform into ncells x (grad_x + grad_y)\n",
    "        #reshape like ncells x ndim x nchem to revert\n",
    "        chemgrads = chemgrads.reshape(len(state.celltype), -1)\n",
    "\n",
    "        #update state\n",
    "        state = eqx.tree_at(lambda s: s.chemical_grad, state, chemgrads)\n",
    "\n",
    "        return state"
   ]
  },
  {
   "cell_type": "markdown",
   "metadata": {},
   "source": [
    "## Mechanical stress"
   ]
  },
  {
   "cell_type": "code",
   "execution_count": 15,
   "metadata": {},
   "outputs": [],
   "source": [
    "class LocalMechanicalStress(SimulationStep):\n",
    "    mechanical_potential:       eqx.Module\n",
    "    \n",
    "    def __call__(self, state, *, key=None):\n",
    "\n",
    "        #generate pair potential\n",
    "        pair_potential = self.mechanical_potential.energy_fn(state)\n",
    "        \n",
    "        forces = jax.jacrev(pair_potential)(state.position)\n",
    "        \n",
    "        # F_ij = force on i by j, r_ij = displacement from i to j\n",
    "        drs = jax_md.space.map_product(state.displacement)(state.position, state.position)\n",
    "        \n",
    "        stresses = np.sum(np.multiply(forces, np.sign(drs)), axis=(0, 2))\n",
    "        stresses = np.where(state.celltype > 0, stresses, 0.0)\n",
    "\n",
    "        state = eqx.tree_at(lambda s: s.mechanical_stress, state, stresses)\n",
    "\n",
    "        return state"
   ]
  },
  {
   "cell_type": "markdown",
   "metadata": {},
   "source": [
    "## Division Rates"
   ]
  },
  {
   "cell_type": "code",
   "execution_count": null,
   "metadata": {},
   "outputs": [],
   "source": [
    "class DivisionMLP(SimulationStep):\n",
    "    mlp:    eqx.nn.MLP\n",
    "\n",
    "\n",
    "    "
   ]
  },
  {
   "cell_type": "code",
   "execution_count": null,
   "metadata": {},
   "outputs": [],
   "source": []
  },
  {
   "cell_type": "code",
   "execution_count": null,
   "metadata": {},
   "outputs": [],
   "source": []
  },
  {
   "cell_type": "code",
   "execution_count": null,
   "metadata": {},
   "outputs": [],
   "source": []
  },
  {
   "cell_type": "code",
   "execution_count": null,
   "metadata": {},
   "outputs": [],
   "source": []
  },
  {
   "cell_type": "code",
   "execution_count": null,
   "metadata": {},
   "outputs": [],
   "source": []
  },
  {
   "cell_type": "code",
   "execution_count": null,
   "metadata": {},
   "outputs": [],
   "source": []
  },
  {
   "cell_type": "markdown",
   "metadata": {},
   "source": [
    "# Tests"
   ]
  },
  {
   "cell_type": "code",
   "execution_count": 49,
   "metadata": {},
   "outputs": [],
   "source": [
    "key, subkey = jax.random.split(key)"
   ]
  },
  {
   "cell_type": "code",
   "execution_count": 94,
   "metadata": {},
   "outputs": [],
   "source": [
    "# class RelaxAndStress(eqx.Module):\n",
    "#     shared:     eqx.Module\n",
    "\n",
    "#     def __init__(self, relax, stress, **kwargs):\n",
    "        \n",
    "#         where = lambda x: x[1].mechanical_potential\n",
    "#         get = lambda x: x[0].mechanical_potential\n",
    "\n",
    "#         self.shared = eqx.nn.Shared((relax, stress), where, get)\n",
    "\n",
    "\n",
    "#     def __call__(self, state, *, key=None):\n",
    "\n",
    "#         relax, stress = self.shared()\n",
    "\n",
    "#         state = relax(state, key=key)\n",
    "#         state = stress(state, key=key)\n",
    "\n",
    "#         return state"
   ]
  },
  {
   "cell_type": "code",
   "execution_count": 95,
   "metadata": {},
   "outputs": [],
   "source": [
    "mech_potential = MorsePotential(epsilon=np.asarray(3.), alpha=2.8)\n",
    "\n",
    "\n",
    "\n",
    "model = eqx.nn.Sequential(\n",
    "    layers=[\n",
    "        CellDivisionReparam(birth_radius_multiplier=np.asarray(.5)), \n",
    "        CellGrowth(growth_rate=np.asarray(.03), max_radius=1.1, growth_type='linear'),\n",
    "        SGDMechanicalRelaxation(mech_potential),\n",
    "        SteadyStateDiffusion(degradation_rate=np.asarray(2.), diffusion_coeff=.5),\n",
    "        LocalChemicalGradients(),\n",
    "        # RelaxAndStress(\n",
    "            relax=SGDMechanicalRelaxation(mech_potential),\n",
    "            stress=LocalMechanicalStress(mech_potential)\n",
    "        )\n",
    "        # LocalMechanicalStress(mech_potential)\n",
    "    ])\n",
    "\n",
    "def loss(model, state, key):\n",
    "    \n",
    "    for i in range(3):\n",
    "        key, subkey = jax.random.split(key)\n",
    "        state = model(state, key=subkey)\n",
    "\n",
    "    return (state.position[:,1]**2).sum(), state"
   ]
  },
  {
   "cell_type": "code",
   "execution_count": 96,
   "metadata": {},
   "outputs": [],
   "source": [
    "_, s = loss(model, test_state2, subkey)"
   ]
  },
  {
   "cell_type": "code",
   "execution_count": 52,
   "metadata": {},
   "outputs": [
    {
     "data": {
      "text/plain": [
       "Array([21.791218 , 14.1632595, 32.398632 , 14.496561 ,  0.       ],      dtype=float32)"
      ]
     },
     "execution_count": 52,
     "metadata": {},
     "output_type": "execute_result"
    }
   ],
   "source": [
    "s.mechanical_stress"
   ]
  },
  {
   "cell_type": "code",
   "execution_count": 53,
   "metadata": {},
   "outputs": [
    {
     "data": {
      "text/plain": [
       "CellState(\n",
       "  displacement=<function displacement_fn>,\n",
       "  shift=<function shift_fn>,\n",
       "  position=f32[5,2],\n",
       "  celltype=f32[5],\n",
       "  radius=f32[5],\n",
       "  division=f32[5],\n",
       "  chemical=f32[5,3],\n",
       "  secretion_rate=f32[5,3],\n",
       "  chemical_grad=f32[5,6],\n",
       "  hidden_state=f32[5,5],\n",
       "  mechanical_stress=f32[5]\n",
       ")"
      ]
     },
     "execution_count": 53,
     "metadata": {},
     "output_type": "execute_result"
    }
   ],
   "source": [
    "s"
   ]
  },
  {
   "cell_type": "code",
   "execution_count": 97,
   "metadata": {},
   "outputs": [],
   "source": [
    "g, s = eqx.filter_grad(loss, has_aux=True)(model, test_state2, subkey)"
   ]
  },
  {
   "cell_type": "code",
   "execution_count": 99,
   "metadata": {},
   "outputs": [
    {
     "data": {
      "text/plain": [
       "Sequential(\n",
       "  layers=(\n",
       "    CellDivisionReparam(birth_radius_multiplier=f32[]),\n",
       "    CellGrowth(max_radius=None, growth_rate=f32[], growth_type='linear'),\n",
       "    SteadyStateDiffusion(\n",
       "      diffusion_coeff=None,\n",
       "      degradation_rate=f32[],\n",
       "      _vmap_diff_inaxes=(1, None, None, None)\n",
       "    ),\n",
       "    LocalChemicalGradients(neighbor_radius=None),\n",
       "    RelaxAndStress(\n",
       "      shared=Shared(\n",
       "        pytree=(\n",
       "          SGDMechanicalRelaxation(\n",
       "            mechanical_potential=MorsePotential(\n",
       "              epsilon=f32[],\n",
       "              alpha=None,\n",
       "              r_cutoff=2.0,\n",
       "              r_onset=1.7\n",
       "            ),\n",
       "            relaxation_steps=15,\n",
       "            dt=0.001\n",
       "          ),\n",
       "          LocalMechanicalStress(mechanical_potential=None)\n",
       "        ),\n",
       "        where=None,\n",
       "        get=None\n",
       "      )\n",
       "    )\n",
       "  )\n",
       ")"
      ]
     },
     "execution_count": 99,
     "metadata": {},
     "output_type": "execute_result"
    }
   ],
   "source": [
    "g"
   ]
  },
  {
   "cell_type": "code",
   "execution_count": 102,
   "metadata": {},
   "outputs": [
    {
     "data": {
      "text/plain": [
       "Array(-0.1339076, dtype=float32, weak_type=True)"
      ]
     },
     "execution_count": 102,
     "metadata": {},
     "output_type": "execute_result"
    }
   ],
   "source": [
    "g.layers[-1].shared.pytree[0].mechanical_potential.epsilon"
   ]
  },
  {
   "cell_type": "code",
   "execution_count": 103,
   "metadata": {},
   "outputs": [
    {
     "ename": "AttributeError",
     "evalue": "'NoneType' object has no attribute 'epsilon'",
     "output_type": "error",
     "traceback": [
      "\u001b[0;31m---------------------------------------------------------------------------\u001b[0m",
      "\u001b[0;31mAttributeError\u001b[0m                            Traceback (most recent call last)",
      "\u001b[1;32m/n/home05/fmottes/Projects/jax-morph/notebooks/00_EQX_REFACTOR.ipynb Cell 42\u001b[0m line \u001b[0;36m1\n\u001b[0;32m----> <a href='vscode-notebook-cell://ssh-remote%2Bcannon/n/home05/fmottes/Projects/jax-morph/notebooks/00_EQX_REFACTOR.ipynb#Y132sdnNjb2RlLXJlbW90ZQ%3D%3D?line=0'>1</a>\u001b[0m g\u001b[39m.\u001b[39;49mlayers[\u001b[39m-\u001b[39;49m\u001b[39m1\u001b[39;49m]\u001b[39m.\u001b[39;49mshared\u001b[39m.\u001b[39;49mpytree[\u001b[39m1\u001b[39;49m]\u001b[39m.\u001b[39;49mmechanical_potential\u001b[39m.\u001b[39;49mepsilon\n",
      "\u001b[0;31mAttributeError\u001b[0m: 'NoneType' object has no attribute 'epsilon'"
     ]
    }
   ],
   "source": [
    "g.layers[-1].shared.pytree[1].mechanical_potential.epsilon"
   ]
  },
  {
   "cell_type": "code",
   "execution_count": null,
   "metadata": {},
   "outputs": [
    {
     "data": {
      "text/plain": [
       "Array(0., dtype=float32, weak_type=True)"
      ]
     },
     "execution_count": 68,
     "metadata": {},
     "output_type": "execute_result"
    }
   ],
   "source": [
    "g.layers[-1].mechanical_potential.epsilon"
   ]
  },
  {
   "cell_type": "code",
   "execution_count": 90,
   "metadata": {},
   "outputs": [],
   "source": [
    "model_shared = eqx.nn.Shared(model, lambda m: m.layers[-1].mechanical_potential.epsilon, lambda m: m.layers[2].mechanical_potential.epsilon)"
   ]
  },
  {
   "cell_type": "code",
   "execution_count": 104,
   "metadata": {},
   "outputs": [],
   "source": [
    "g, s = eqx.filter_grad(loss, has_aux=True)(model_shared(), test_state2, subkey)"
   ]
  },
  {
   "cell_type": "code",
   "execution_count": 106,
   "metadata": {},
   "outputs": [
    {
     "data": {
      "text/plain": [
       "Array(-0.0153906, dtype=float32, weak_type=True)"
      ]
     },
     "execution_count": 106,
     "metadata": {},
     "output_type": "execute_result"
    }
   ],
   "source": [
    "g.layers[2].mechanical_potential.epsilon"
   ]
  },
  {
   "cell_type": "code",
   "execution_count": 93,
   "metadata": {},
   "outputs": [],
   "source": [
    "assert model_shared().layers[-1].mechanical_potential.epsilon is model_shared().layers[2].mechanical_potential.epsilon"
   ]
  },
  {
   "cell_type": "code",
   "execution_count": null,
   "metadata": {},
   "outputs": [],
   "source": []
  }
 ],
 "metadata": {
  "kernelspec": {
   "display_name": "JAX (Python 3.10)",
   "language": "python",
   "name": "jax_py310"
  },
  "language_info": {
   "codemirror_mode": {
    "name": "ipython",
    "version": 3
   },
   "file_extension": ".py",
   "mimetype": "text/x-python",
   "name": "python",
   "nbconvert_exporter": "python",
   "pygments_lexer": "ipython3",
   "version": "3.10.9"
  }
 },
 "nbformat": 4,
 "nbformat_minor": 2
}
