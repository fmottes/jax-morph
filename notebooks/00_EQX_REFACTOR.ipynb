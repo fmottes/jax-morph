{
 "cells": [
  {
   "cell_type": "code",
   "execution_count": 42,
   "metadata": {},
   "outputs": [],
   "source": [
    "import jax\n",
    "import jax.numpy as np\n",
    "import jax.tree_util as jtu\n",
    "\n",
    "import numpy as onp\n",
    "\n",
    "from typing import Any, Callable\n",
    "from jaxtyping import Array\n",
    "\n",
    "import equinox as eqx\n",
    "\n",
    "import matplotlib.pyplot as plt"
   ]
  },
  {
   "cell_type": "code",
   "execution_count": 2,
   "metadata": {},
   "outputs": [],
   "source": [
    "key = jax.random.PRNGKey(0)"
   ]
  },
  {
   "cell_type": "markdown",
   "metadata": {},
   "source": [
    "# Cell State"
   ]
  },
  {
   "cell_type": "code",
   "execution_count": null,
   "metadata": {},
   "outputs": [],
   "source": [
    "import jax_md"
   ]
  },
  {
   "cell_type": "code",
   "execution_count": 89,
   "metadata": {},
   "outputs": [],
   "source": [
    "class BaseCellState(eqx.Module):\n",
    "    '''\n",
    "    Module containing the basic features of a system state.\n",
    "\n",
    "    '''\n",
    "\n",
    "    # METHODS\n",
    "    displacement:   jax_md.space.DisplacementFn = eqx.field(static=True)\n",
    "    shift:          jax_md.space.ShiftFn = eqx.field(static=True)\n",
    "\n",
    "    # STATE\n",
    "    position:   jax.Array\n",
    "    celltype:   jax.Array\n",
    "    radius:     jax.Array\n",
    "    divrate:    jax.Array\n",
    "    #key:        jax.Array\n",
    "\n",
    "\n",
    "    @classmethod\n",
    "    def empty(cls, n_dim=2):\n",
    "\n",
    "        '''\n",
    "        Intializes a CellState with no cells (empty data structures, with correct shapes).\n",
    "\n",
    "        Parameters\n",
    "        ----------\n",
    "        n_dim: int\n",
    "            Number of spatial dimensions.\n",
    "\n",
    "        '''\n",
    "\n",
    "        assert n_dim == 2 or n_dim == 3, 'n_dim must be 2 or 3'\n",
    "\n",
    "        disp, shift = jax_md.space.free()\n",
    "        \n",
    "\n",
    "        args = {\n",
    "            'displacement'  :   disp,\n",
    "            'shift'         :   shift,\n",
    "            'position'  :   np.empty(shape=(0, n_dim), dtype=np.float32),\n",
    "            'celltype'  :   np.empty(shape=(0,), dtype=np.int8),\n",
    "            'radius'    :   np.empty(shape=(0,), dtype=np.float32),\n",
    "            'divrate'   :   np.empty(shape=(0,), dtype=np.float32),\n",
    "            #'key'       :   None,\n",
    "            }\n",
    "        \n",
    "        return cls(**args)\n"
   ]
  },
  {
   "cell_type": "code",
   "execution_count": 90,
   "metadata": {},
   "outputs": [],
   "source": [
    "class CellState(BaseCellState):\n",
    "    chemical:       jax.Array\n",
    "    chemgrad:       jax.Array\n",
    "    hidden_state:   jax.Array\n",
    "\n",
    "\n",
    "    @classmethod\n",
    "    def empty(cls, n_dim=2, n_chem=1, hidden_size=10):\n",
    "\n",
    "        a = BaseCellState.empty(n_dim).__dict__\n",
    "\n",
    "        new_args = {\n",
    "            'chemical' :   np.empty(shape=(0, n_chem), dtype=np.float32),\n",
    "            'chemgrad' :   np.empty(shape=(0, int(n_dim*n_chem)), dtype=np.float32),\n",
    "            'hidden_state' :   np.empty(shape=(0, hidden_size), dtype=np.float32),\n",
    "            }\n",
    "        \n",
    "        a.update(new_args)\n",
    "\n",
    "        return cls(**a)"
   ]
  },
  {
   "cell_type": "markdown",
   "metadata": {},
   "source": [
    "# Cell division"
   ]
  },
  {
   "cell_type": "code",
   "execution_count": 86,
   "metadata": {},
   "outputs": [
    {
     "ename": "SyntaxError",
     "evalue": "invalid syntax (1556326297.py, line 79)",
     "output_type": "error",
     "traceback": [
      "\u001b[0;36m  Cell \u001b[0;32mIn[86], line 79\u001b[0;36m\u001b[0m\n\u001b[0;31m    else:\u001b[0m\n\u001b[0m    ^\u001b[0m\n\u001b[0;31mSyntaxError\u001b[0m\u001b[0;31m:\u001b[0m invalid syntax\n"
     ]
    }
   ],
   "source": [
    "class CellDivision(eqx.Module):\n",
    "    birth_radius_multiplier:   float\n",
    "    inference:                  bool = eqx.field(static=True)\n",
    "\n",
    "    def __init__(self, \n",
    "                 state, \n",
    "                 birth_radius_multiplier=None,\n",
    "                 inference=True\n",
    "                 ):\n",
    "\n",
    "        if not hasattr(state, 'divrate'):\n",
    "            raise AttributeError('CellState must have \"divrate\" attribute')\n",
    "        if not hasattr(state, 'radius'):\n",
    "            raise AttributeError('CellState must have \"radius\" attribute')\n",
    "        if not hasattr(state, 'celltype'):\n",
    "            raise AttributeError('CellState must have \"celltype\" attribute')\n",
    "        if not hasattr(state, 'position'):\n",
    "            raise AttributeError('CellState must have \"position\" attribute')\n",
    "        if not hasattr(state, 'key'):\n",
    "            raise AttributeError('CellState must have valid \"key\" attribute')\n",
    "        \n",
    "        self.birth_radius_multiplier = birth_radius_multiplier or float(np.sqrt(2))\n",
    "        self.inference = inference\n",
    "        \n",
    "\n",
    "    def __call__(self, state, *, key=None, inference=None):\n",
    "\n",
    "        if inference is None:\n",
    "            inference = self.inference\n",
    "\n",
    "\n",
    "        #split key\n",
    "        new_key, subkey_div, subkey_place = jax.random.split(state.key,3)\n",
    "        \n",
    "        p = state.divrate/state.divrate.sum()\n",
    "\n",
    "        safe_p = np.where(p > 0, p, 1)\n",
    "        logp = np.where(p > 0, np.log(safe_p), 0)\n",
    "\n",
    "        logit = logp + jax.random.gumbel(subkey_div, shape=logp.shape)\n",
    "        idx_dividing_cell = np.argmax(state.divrate)\n",
    "\n",
    "\n",
    "        if inference:\n",
    "            new_cell_contribs = np.one_hot(idx_dividing_cell, state.celltype.shape[0])\n",
    "        else:\n",
    "            new_cell_contribs = jax.nn.softmax(logit)\n",
    "\n",
    "        \n",
    "        idx_new_cell = np.count_nonzero(state.celltype)\n",
    "\n",
    "        division_matrix = np.eye(state.celltype.shape[0]).at[idx_new_cell].set(new_cell_contribs)\n",
    "\n",
    "\n",
    "        #to figure out cell radius\n",
    "        \n",
    "\n",
    "\n",
    "\n",
    "\n",
    "\n",
    "        \n",
    "        ### POSITION OF NEW CELLS\n",
    "        #note that cell positions will be symmetric so max is pi\n",
    "        angle = jax.random.uniform(subkey_place, minval=0., maxval=np.pi, dtype=np.float32)\n",
    "\n",
    "        first_cell = np.array([np.cos(angle),np.sin(angle)])\n",
    "        second_cell = np.array([-np.cos(angle),-np.sin(angle)])\n",
    "        \n",
    "        pos1 = state.position[idx_dividing_cell] + self.birth_radius_multiplier*first_cell\n",
    "        pos2 = state.position[idx_dividing_cell] + self.birth_radius_multiplier*second_cell\n",
    "        \n",
    "        \n",
    "        new_fields = {}\n",
    "        for field in jdc.fields(state):\n",
    "\n",
    "            value = getattr(state, field.name)\n",
    "\n",
    "            if 'position' == field.name:\n",
    "                new_fields[field.name] = value.at[idx_dividing_cell].set(pos1).at[idx_new_cell].set(pos2)\n",
    "            elif 'radius' == field.name:\n",
    "                new_fields[field.name] = value.at[idx_dividing_cell].set(cellRadBirth).at[idx_new_cell].set(cellRadBirth)\n",
    "            elif 'key' == field.name:\n",
    "                new_fields[field.name] = new_key\n",
    "            else:\n",
    "                new_fields[field.name] = value.at[idx_new_cell].set(value[idx_dividing_cell])\n",
    "\n",
    "        new_state = type(state)(**new_fields)\n",
    "        \n",
    "        return new_state, log_p\n",
    "    \n",
    "    \n",
    "    def _no_division():\n",
    "        return state, 0.\n",
    "    \n",
    "    return jax.lax.cond(state.divrate.sum()>0, _divide, _no_division)\n",
    "\n",
    "        \n",
    "\n",
    "\n",
    "        \n",
    "        \n"
   ]
  },
  {
   "cell_type": "code",
   "execution_count": 27,
   "metadata": {},
   "outputs": [
    {
     "data": {
      "text/plain": [
       "CellDivision(birth_radius_multiplier=1.4142135381698608)"
      ]
     },
     "execution_count": 27,
     "metadata": {},
     "output_type": "execute_result"
    }
   ],
   "source": [
    "CellDivision(CellState())"
   ]
  },
  {
   "cell_type": "code",
   "execution_count": 28,
   "metadata": {},
   "outputs": [
    {
     "data": {
      "text/plain": [
       "CellState(\n",
       "  displacement=100,\n",
       "  shift=100,\n",
       "  position=100,\n",
       "  celltype=100,\n",
       "  radius=100,\n",
       "  divrate=100,\n",
       "  key=None,\n",
       "  chemical=100,\n",
       "  chemgrad=100,\n",
       "  hidden_state=100\n",
       ")"
      ]
     },
     "execution_count": 28,
     "metadata": {},
     "output_type": "execute_result"
    }
   ],
   "source": [
    "jax.tree_util.tree_map(lambda x: 100, CellState(), is_leaf=lambda x: isinstance(x, Array))"
   ]
  },
  {
   "cell_type": "code",
   "execution_count": 61,
   "metadata": {},
   "outputs": [],
   "source": [
    "cs = CellState()"
   ]
  },
  {
   "cell_type": "code",
   "execution_count": 54,
   "metadata": {},
   "outputs": [
    {
     "data": {
      "text/plain": [
       "False"
      ]
     },
     "execution_count": 54,
     "metadata": {},
     "output_type": "execute_result"
    }
   ],
   "source": [
    "isinstance(cs.displacement, Array)"
   ]
  },
  {
   "cell_type": "code",
   "execution_count": 55,
   "metadata": {},
   "outputs": [
    {
     "data": {
      "text/plain": [
       "7"
      ]
     },
     "execution_count": 55,
     "metadata": {},
     "output_type": "execute_result"
    }
   ],
   "source": [
    "len(list(map(eqx.is_array, jtu.tree_flatten(cs)[0])))"
   ]
  },
  {
   "cell_type": "code",
   "execution_count": 56,
   "metadata": {},
   "outputs": [
    {
     "name": "stderr",
     "output_type": "stream",
     "text": [
      "/tmp/ipykernel_422897/2828071477.py:1: FutureWarning: jax.tree_flatten is deprecated, and will be removed in a future release. Use jax.tree_util.tree_flatten instead.\n",
      "  len(jax.tree_flatten(cs)[0])\n"
     ]
    },
    {
     "data": {
      "text/plain": [
       "7"
      ]
     },
     "execution_count": 56,
     "metadata": {},
     "output_type": "execute_result"
    }
   ],
   "source": [
    "len(jax.tree_flatten(cs)[0])"
   ]
  },
  {
   "cell_type": "code",
   "execution_count": 65,
   "metadata": {},
   "outputs": [
    {
     "data": {
      "text/plain": [
       "CellState(\n",
       "  displacement=<function displacement_fn>,\n",
       "  shift=<function shift_fn>,\n",
       "  position=f32[0,2],\n",
       "  celltype=i8[0],\n",
       "  radius=f32[0],\n",
       "  divrate=f32[0],\n",
       "  key=None,\n",
       "  chemical=f32[0,1],\n",
       "  chemgrad=f32[0,2],\n",
       "  hidden_state=f32[0,10]\n",
       ")"
      ]
     },
     "execution_count": 65,
     "metadata": {},
     "output_type": "execute_result"
    }
   ],
   "source": [
    "jtu.tree_map(lambda x: 2*x, cs)"
   ]
  },
  {
   "cell_type": "code",
   "execution_count": null,
   "metadata": {},
   "outputs": [],
   "source": []
  }
 ],
 "metadata": {
  "kernelspec": {
   "display_name": "JAX (Python 3.10)",
   "language": "python",
   "name": "jax_py310"
  },
  "language_info": {
   "codemirror_mode": {
    "name": "ipython",
    "version": 3
   },
   "file_extension": ".py",
   "mimetype": "text/x-python",
   "name": "python",
   "nbconvert_exporter": "python",
   "pygments_lexer": "ipython3",
   "version": "3.10.9"
  }
 },
 "nbformat": 4,
 "nbformat_minor": 2
}
