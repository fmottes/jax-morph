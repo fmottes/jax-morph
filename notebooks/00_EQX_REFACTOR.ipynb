{
 "cells": [
  {
   "cell_type": "code",
   "execution_count": 2,
   "metadata": {},
   "outputs": [],
   "source": [
    "import jax\n",
    "import jax.numpy as np\n",
    "import jax.tree_util as jtu\n",
    "\n",
    "import numpy as onp\n",
    "\n",
    "from typing import Any, Callable\n",
    "\n",
    "import equinox as eqx\n",
    "\n",
    "import matplotlib.pyplot as plt"
   ]
  },
  {
   "cell_type": "code",
   "execution_count": 3,
   "metadata": {},
   "outputs": [],
   "source": [
    "key = jax.random.PRNGKey(0)"
   ]
  },
  {
   "cell_type": "markdown",
   "metadata": {},
   "source": [
    "# Cell State"
   ]
  },
  {
   "cell_type": "code",
   "execution_count": 4,
   "metadata": {},
   "outputs": [],
   "source": [
    "import jax_md"
   ]
  },
  {
   "cell_type": "code",
   "execution_count": 79,
   "metadata": {},
   "outputs": [],
   "source": [
    "class BaseCellState(eqx.Module):\n",
    "    '''\n",
    "    Module containing the basic features of a system state.\n",
    "\n",
    "    '''\n",
    "\n",
    "    # METHODS\n",
    "    displacement:   jax_md.space.DisplacementFn = eqx.field(static=True)\n",
    "    shift:          jax_md.space.ShiftFn = eqx.field(static=True)\n",
    "\n",
    "    # STATE\n",
    "    position:   jax.Array\n",
    "    celltype:   jax.Array\n",
    "    radius:     jax.Array\n",
    "    divrate:    jax.Array\n",
    "    #key:        jax.Array\n",
    "\n",
    "\n",
    "    @classmethod\n",
    "    def empty(cls, n_dim=2):\n",
    "\n",
    "        '''\n",
    "        Intializes a CellState with no cells (empty data structures, with correct shapes).\n",
    "\n",
    "        Parameters\n",
    "        ----------\n",
    "        n_dim: int\n",
    "            Number of spatial dimensions.\n",
    "\n",
    "        '''\n",
    "\n",
    "        assert n_dim == 2 or n_dim == 3, 'n_dim must be 2 or 3'\n",
    "\n",
    "        disp, shift = jax_md.space.free()\n",
    "        \n",
    "\n",
    "        args = {\n",
    "            'displacement'  :   disp,\n",
    "            'shift'         :   shift,\n",
    "            'position'  :   np.empty(shape=(0, n_dim), dtype=np.float32),\n",
    "            'celltype'  :   np.empty(shape=(0,), dtype=np.float32),\n",
    "            'radius'    :   np.empty(shape=(0,), dtype=np.float32),\n",
    "            'divrate'   :   np.empty(shape=(0,), dtype=np.float32),\n",
    "            #'key'       :   None,\n",
    "            }\n",
    "        \n",
    "        return cls(**args)\n"
   ]
  },
  {
   "cell_type": "code",
   "execution_count": 80,
   "metadata": {},
   "outputs": [],
   "source": [
    "class CellState(BaseCellState):\n",
    "    chemical:       jax.Array\n",
    "    chemgrad:       jax.Array\n",
    "    hidden_state:   jax.Array\n",
    "\n",
    "\n",
    "    @classmethod\n",
    "    def empty(cls, n_dim=2, n_chem=1, hidden_size=10):\n",
    "\n",
    "        a = BaseCellState.empty(n_dim).__dict__\n",
    "\n",
    "        new_args = {\n",
    "            'chemical' :   np.empty(shape=(0, n_chem), dtype=np.float32),\n",
    "            'chemgrad' :   np.empty(shape=(0, int(n_dim*n_chem)), dtype=np.float32),\n",
    "            'hidden_state' :   np.empty(shape=(0, hidden_size), dtype=np.float32),\n",
    "            }\n",
    "        \n",
    "        a.update(new_args)\n",
    "\n",
    "        return cls(**a)"
   ]
  },
  {
   "cell_type": "markdown",
   "metadata": {},
   "source": [
    "# Cell division"
   ]
  },
  {
   "cell_type": "code",
   "execution_count": 233,
   "metadata": {},
   "outputs": [],
   "source": [
    "class CellDivision(eqx.Module):\n",
    "    birth_radius_multiplier:    float\n",
    "    inference:                  bool = eqx.field(static=True)\n",
    "\n",
    "    def __init__(self, \n",
    "                 state, \n",
    "                 birth_radius_multiplier=float(1/np.sqrt(2)),\n",
    "                 inference=True\n",
    "                 ):\n",
    "\n",
    "        if not hasattr(state, 'divrate'):\n",
    "            raise AttributeError('CellState must have \"divrate\" attribute')\n",
    "        if not hasattr(state, 'radius'):\n",
    "            raise AttributeError('CellState must have \"radius\" attribute')\n",
    "        if not hasattr(state, 'celltype'):\n",
    "            raise AttributeError('CellState must have \"celltype\" attribute')\n",
    "        if not hasattr(state, 'position'):\n",
    "            raise AttributeError('CellState must have \"position\" attribute')\n",
    "        # if not hasattr(state, 'key'):\n",
    "        #     raise AttributeError('CellState must have valid \"key\" attribute')\n",
    "        \n",
    "        self.birth_radius_multiplier = birth_radius_multiplier\n",
    "        self.inference = inference\n",
    "        \n",
    "\n",
    "    def __call__(self, state, *, key=None, inference=None, softmax_T=1.):\n",
    "\n",
    "        if inference is None:\n",
    "            inference = self.inference\n",
    "\n",
    "\n",
    "        #split key\n",
    "        new_key, subkey_div, subkey_place = jax.random.split(key,3)\n",
    "        \n",
    "        p = state.divrate/state.divrate.sum()\n",
    "\n",
    "        safe_p = np.where(p > 0, p, 1)\n",
    "        logp = np.where(p > 0, np.log(safe_p), -np.inf)\n",
    "\n",
    "        logit = logp + jax.random.gumbel(subkey_div, shape=logp.shape)\n",
    "        idx_dividing_cell = np.argmax(logit)\n",
    "\n",
    "        print(idx_dividing_cell)\n",
    "\n",
    "\n",
    "        if inference:\n",
    "            new_cell_contribs = np.one_hot(idx_dividing_cell, state.celltype.shape[0])\n",
    "        else:\n",
    "            new_cell_contribs = jax.nn.softmax(logit)\n",
    "\n",
    "        \n",
    "        idx_new_cell = np.count_nonzero(state.celltype)\n",
    "\n",
    "        division_matrix = np.eye(state.celltype.shape[0]).at[idx_new_cell].set(new_cell_contribs)\n",
    "\n",
    "        new_state = jax.tree_map(lambda x: np.dot(division_matrix, x), state)\n",
    "\n",
    "\n",
    "        #resize cell radii\n",
    "        get_radius = lambda s: s.radius\n",
    "        resize_rad = lambda r: r.at[idx_new_cell].set(r[idx_dividing_cell]*self.birth_radius_multiplier).at[idx_dividing_cell].set(r[idx_dividing_cell]*self.birth_radius_multiplier)\n",
    "        new_state = eqx.tree_at(get_radius, new_state, replace_fn=resize_rad)\n",
    "        \n",
    "        ### POSITION OF NEW CELLS\n",
    "        angle = jax.random.uniform(subkey_place, minval=0., maxval=2*np.pi, dtype=np.float32)\n",
    "\n",
    "        cell_displacement = self.birth_radius_multiplier*np.array([np.cos(angle),np.sin(angle)])\n",
    "        get_position = lambda s: s.position\n",
    "        new_position = lambda p: p.at[idx_new_cell].set(p[idx_dividing_cell]-cell_displacement).at[idx_dividing_cell].set(p[idx_dividing_cell]+cell_displacement)\n",
    "        new_state = eqx.tree_at(get_position, new_state, replace_fn=new_position)\n",
    "        \n",
    "        if inference:\n",
    "            return new_state, logp[idx_dividing_cell]\n",
    "        else:\n",
    "            return new_state"
   ]
  },
  {
   "cell_type": "code",
   "execution_count": 234,
   "metadata": {},
   "outputs": [],
   "source": [
    "div = CellDivision(BaseCellState.empty(), inference=False)"
   ]
  },
  {
   "cell_type": "code",
   "execution_count": 235,
   "metadata": {},
   "outputs": [],
   "source": [
    "disp, shift = jax_md.space.free()\n",
    "\n",
    "N = 5\n",
    "\n",
    "state = BaseCellState(\n",
    "    displacement=disp,\n",
    "    shift=shift,\n",
    "    position=np.zeros(shape=(N,2)),\n",
    "    celltype=np.zeros(shape=(N,), dtype=np.int8).at[0].set(1),\n",
    "    radius=np.zeros(shape=(N,), dtype=np.float32).at[0].set(1.),\n",
    "    divrate=np.zeros(shape=(N,), dtype=np.float32).at[0].set(1.),\n",
    ")\n",
    "    \n",
    "\n",
    "    "
   ]
  },
  {
   "cell_type": "code",
   "execution_count": 261,
   "metadata": {},
   "outputs": [
    {
     "name": "stdout",
     "output_type": "stream",
     "text": [
      "0\n"
     ]
    }
   ],
   "source": [
    "key, subkey = jax.random.split(key)\n",
    "ns = div(state, key=subkey)"
   ]
  },
  {
   "cell_type": "code",
   "execution_count": 262,
   "metadata": {},
   "outputs": [
    {
     "name": "stdout",
     "output_type": "stream",
     "text": [
      "1\n"
     ]
    }
   ],
   "source": [
    "nns = div(ns, key=subkey)"
   ]
  },
  {
   "cell_type": "code",
   "execution_count": 263,
   "metadata": {},
   "outputs": [
    {
     "data": {
      "text/plain": [
       "Array([1., 1., 1., 0., 0.], dtype=float32)"
      ]
     },
     "execution_count": 263,
     "metadata": {},
     "output_type": "execute_result"
    }
   ],
   "source": [
    "nns.celltype"
   ]
  },
  {
   "cell_type": "code",
   "execution_count": 281,
   "metadata": {},
   "outputs": [],
   "source": [
    "def loss(a, state, key):\n",
    "    div = CellDivision(BaseCellState.empty(), inference=False, birth_radius_multiplier=a)\n",
    "\n",
    "    for i in range(1):\n",
    "        key, subkey = jax.random.split(key)\n",
    "        state = div(state, key=subkey)\n",
    "\n",
    "    return state.radius[1], state"
   ]
  },
  {
   "cell_type": "code",
   "execution_count": 282,
   "metadata": {},
   "outputs": [
    {
     "name": "stdout",
     "output_type": "stream",
     "text": [
      "0\n"
     ]
    }
   ],
   "source": [
    "g, s = jax.grad(loss, has_aux=True)(1., state, key)"
   ]
  },
  {
   "cell_type": "code",
   "execution_count": 283,
   "metadata": {},
   "outputs": [
    {
     "data": {
      "text/plain": [
       "Array(1., dtype=float32, weak_type=True)"
      ]
     },
     "execution_count": 283,
     "metadata": {},
     "output_type": "execute_result"
    }
   ],
   "source": [
    "g"
   ]
  },
  {
   "cell_type": "code",
   "execution_count": 277,
   "metadata": {},
   "outputs": [
    {
     "data": {
      "text/plain": [
       "Array([1., 1., 0., 0., 0.], dtype=float32)"
      ]
     },
     "execution_count": 277,
     "metadata": {},
     "output_type": "execute_result"
    }
   ],
   "source": [
    "s.radius"
   ]
  },
  {
   "cell_type": "code",
   "execution_count": null,
   "metadata": {},
   "outputs": [],
   "source": []
  }
 ],
 "metadata": {
  "kernelspec": {
   "display_name": "JAX (Python 3.10)",
   "language": "python",
   "name": "jax_py310"
  },
  "language_info": {
   "codemirror_mode": {
    "name": "ipython",
    "version": 3
   },
   "file_extension": ".py",
   "mimetype": "text/x-python",
   "name": "python",
   "nbconvert_exporter": "python",
   "pygments_lexer": "ipython3",
   "version": "3.10.9"
  }
 },
 "nbformat": 4,
 "nbformat_minor": 2
}
