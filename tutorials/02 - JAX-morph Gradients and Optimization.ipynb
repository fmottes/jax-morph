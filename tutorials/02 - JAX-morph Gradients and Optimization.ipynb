{
 "cells": [
  {
   "cell_type": "markdown",
   "metadata": {},
   "source": [
    "# JAX-MORPH: Gradients and Optimization\n",
    "\n",
    "The advantage of writing simulation in JAX is that we can easily compute gradients of the simulation with respect to the parameters. This can be used both to carry out sensitivity analysis and to optimize the parameters of the simulation with respect to some objective function.\n",
    "\n",
    "In this notebook we will show how to use JAX-MORPH to compute gradients of simulations and carry out gradient-based optimization in this setting."
   ]
  },
  {
   "cell_type": "markdown",
   "metadata": {},
   "source": [
    "# Imports & Utils"
   ]
  },
  {
   "cell_type": "code",
   "execution_count": 1,
   "metadata": {},
   "outputs": [],
   "source": [
    "%load_ext autoreload\n",
    "%autoreload 2"
   ]
  },
  {
   "cell_type": "code",
   "execution_count": 2,
   "metadata": {},
   "outputs": [],
   "source": [
    "import jax\n",
    "import jax.numpy as np\n",
    "jax.config.update(\"jax_enable_x64\", True)\n",
    "\n",
    "key = jax.random.PRNGKey(0)\n",
    "\n",
    "import jax_morph as jxm\n",
    "import equinox as eqx\n",
    "import jax_md\n",
    "\n",
    "\n",
    "import matplotlib.pyplot as plt"
   ]
  },
  {
   "cell_type": "markdown",
   "metadata": {},
   "source": [
    "## Animation functions"
   ]
  },
  {
   "cell_type": "code",
   "execution_count": 3,
   "metadata": {},
   "outputs": [],
   "source": [
    "from matplotlib.animation import FuncAnimation\n",
    "from IPython.display import HTML\n",
    "\n",
    "\n",
    "def animate_traj_ctype(trajectory, xlim=(-25, 25), ylim=(-25, 25)):\n",
    "\n",
    "    sim_steps = trajectory.position.shape[0]\n",
    "\n",
    "    def animate(i):\n",
    "\n",
    "        ax.clear()  # Clear the axis to remove the previous frame\n",
    "        ax.set_aspect('equal', 'box')\n",
    "        ax.set_xlim(xlim)\n",
    "        ax.set_ylim(ylim)\n",
    "        ax.set_xticks([])\n",
    "        ax.set_yticks([])\n",
    "\n",
    "        \n",
    "        state = jxm.BaseCellState(None,\n",
    "                                  None,\n",
    "                                  trajectory.position[i],\n",
    "                                  trajectory.celltype[i],\n",
    "                                  trajectory.radius[i],\n",
    "                                  )\n",
    "\n",
    "        jxm.visualization.draw_circles_ctype(state, ax=ax)\n",
    "\n",
    "    fig, ax = plt.subplots()\n",
    "    ax.set_aspect('equal', 'box')\n",
    "    ax.set_xlim(xlim)\n",
    "    ax.set_ylim(ylim)\n",
    "    ax.set_xticks([])\n",
    "    ax.set_yticks([])\n",
    "\n",
    "    anim = FuncAnimation(fig, animate, frames=sim_steps, interval=100)\n",
    "\n",
    "    html_anim = HTML(anim.to_jshtml())\n",
    "\n",
    "    plt.close()\n",
    "\n",
    "    return html_anim\n",
    "\n",
    "\n",
    "\n",
    "\n",
    "def animate_traj_chem(trajectory, chem=0, xlim=(-25, 25), ylim=(-25, 25), colorbar=False):\n",
    "\n",
    "    sim_steps = trajectory.position.shape[0]\n",
    "\n",
    "    cm = plt.cm.YlGn\n",
    "\n",
    "\n",
    "    #we only need the chemical field for the plot\n",
    "    class PlottingCellState(jxm.BaseCellState):\n",
    "        chemical: np.ndarray\n",
    "\n",
    "    def animate(i):\n",
    "\n",
    "        ax.clear()  # Clear the axis to remove the previous frame\n",
    "        ax.set_aspect('equal', 'box')\n",
    "        ax.set_xlim(xlim)\n",
    "        ax.set_ylim(ylim)\n",
    "        ax.set_xticks([])\n",
    "        ax.set_yticks([])\n",
    "\n",
    "        state = PlottingCellState(None,\n",
    "                            None,\n",
    "                            trajectory.position[i],\n",
    "                            trajectory.celltype[i],\n",
    "                            trajectory.radius[i],\n",
    "                            trajectory.chemical[i]\n",
    "                            )\n",
    "        \n",
    "\n",
    "        jxm.visualization.draw_circles_chem(state, chem, colorbar=False, cm=cm, ax=ax)\n",
    "\n",
    "    fig, ax = plt.subplots()\n",
    "    ax.set_aspect('equal', 'box')\n",
    "    ax.set_xlim(xlim)\n",
    "    ax.set_ylim(ylim)\n",
    "    ax.set_xticks([])\n",
    "    ax.set_yticks([])\n",
    "\n",
    "    if colorbar:\n",
    "        vmax = np.max(trajectory.chemical)\n",
    "\n",
    "        sm = plt.cm.ScalarMappable(cmap=cm, norm=plt.Normalize(vmin=0, vmax=vmax))\n",
    "        sm._A = []\n",
    "\n",
    "        cbar = fig.colorbar(sm, ax=ax, fraction=.05, alpha=.5) # rule of thumb\n",
    "        cbar.set_label('Conc. Chem. '+str(chem), labelpad=20)\n",
    "\n",
    "\n",
    "    anim = FuncAnimation(fig, animate, frames=sim_steps, interval=100)\n",
    "\n",
    "    html_anim = HTML(anim.to_jshtml())\n",
    "\n",
    "    plt.close()\n",
    "\n",
    "    return html_anim"
   ]
  },
  {
   "cell_type": "markdown",
   "metadata": {},
   "source": [
    "# Gradients"
   ]
  },
  {
   "cell_type": "markdown",
   "metadata": {},
   "source": [
    "## Deterministic Simulation Paths\n",
    "\n",
    "JAX-MORPH is thought to take advantage of the features of the `Equinox` library for easy computation of gradients.\n",
    "\n",
    "We define a simple simulation, following the same structure as in notebook 1. Cells move with brownian motion while growing and interacting mechanically via a Morse potential.\n",
    "\n",
    "Suppose we want to calculate the gradient of a function of the final output of a simulation (e.g. the average cell distance to the center of mass of the whole cluster) with respect to the parameters of the simulation (e.g. the cell-cell adhesion strength).\n",
    "\n",
    "Consider the Brownian update:\n",
    "\n",
    "$$\n",
    "d \\mathbf{r}_i = - \\frac{1}{\\gamma\\ m} \\nabla_{\\mathbf{r}_i} U(\\mathbf{r}_1, \\ldots, \\mathbf{r}_N) \\cdot dt + \\frac{\\sqrt{2\\ k_B\\ T}}{\\gamma\\ m}\\ \\sqrt{dt}\\ \\mathbf{\\xi}_i \n",
    "$$\n",
    "\n",
    "Where $U$ is the interaction potential and $\\gamma$ is the (viscous) friction coefficient.\n",
    "\n",
    "Even if the update rule itself **is** stochastic, if we want to differentaite with respect to the Morse parameter $\\epsilon$ we only need to differentiate the first term of the update rule, which is deterministic."
   ]
  },
  {
   "cell_type": "code",
   "execution_count": 4,
   "metadata": {},
   "outputs": [
    {
     "name": "stdout",
     "output_type": "stream",
     "text": [
      "BaseCellState(\n",
      "  displacement=<function displacement_fn>,\n",
      "  shift=<function shift_fn>,\n",
      "  position=f64[10,2],\n",
      "  celltype=f64[10,1],\n",
      "  radius=f64[10,1]\n",
      ")\n"
     ]
    }
   ],
   "source": [
    "### CREATE INITIAL STATE\n",
    "\n",
    "\n",
    "N_CELLS = 10\n",
    "\n",
    "\n",
    "### INITIALIZE FIELD VALUES\n",
    "\n",
    "displacement_fn, shift_fn = jax_md.space.free()\n",
    "\n",
    "key, pos_subkey, rad_subkey = jax.random.split(key, 3)\n",
    "pos = jax.random.uniform(pos_subkey, (N_CELLS, 2), minval=-5.0, maxval=5.0)\n",
    "ctype = np.ones((N_CELLS,1))\n",
    "rad = jax.nn.relu(jax.random.normal(shape=(N_CELLS, 1), key=rad_subkey)*.1 + .3)\n",
    "\n",
    "\n",
    "istate = jxm.BaseCellState(displacement=displacement_fn, shift=shift_fn, position=pos, celltype=ctype, radius=rad)\n",
    "\n",
    "print(istate)"
   ]
  },
  {
   "cell_type": "markdown",
   "metadata": {},
   "source": [
    "Custom Loss function definition:"
   ]
  },
  {
   "cell_type": "code",
   "execution_count": 5,
   "metadata": {},
   "outputs": [],
   "source": [
    "def avg_dist_loss(model, istate, run_key, n_steps):\n",
    "\n",
    "    fstate = jxm.simulate(model, istate, key=run_key, n_steps=n_steps)\n",
    "\n",
    "    #avg cell distance from center of cluster\n",
    "    center = np.mean(fstate.position, axis=0)\n",
    "    avg_dist = np.linalg.norm(fstate.position - center, axis=1).mean()\n",
    "\n",
    "    return avg_dist"
   ]
  },
  {
   "cell_type": "markdown",
   "metadata": {},
   "source": [
    "### Defining differentiable parameters\n",
    "\n",
    "The default setting is that all of the parameters declared as `jax.numpy` arrays are considered as trainable parameters and their gradients are computed. All other parameters are considered as fixed and their gradients are not computed.\n",
    "\n",
    "By changing the data type of the parameters, we can control which parameters are considered as trainable and which are not. This behavior is guaranteed to work as long as we use Equinox's filtered transformations to compute the gradients (e.g. `eqx.filter_grad`)."
   ]
  },
  {
   "cell_type": "code",
   "execution_count": 6,
   "metadata": {},
   "outputs": [],
   "source": [
    "### DEFINE SIMULATION STEP\n",
    "\n",
    "\n",
    "mech_potential = jxm.env.mechanics.MorsePotential(epsilon=np.asarray(3.), alpha=np.asarray(3.), r_cutoff=20., r_onset=15.)\n",
    "\n",
    "\n",
    "model = jxm.Sequential([\n",
    "\n",
    "    #cell radius grows linearly in time\n",
    "    jxm.env.CellGrowth(growth_rate=.005, max_radius=2., growth_type='linear'),\n",
    "\n",
    "    #cells move with brownian dynamics for 100 steps after each growth step\n",
    "    jxm.env.mechanics.BrownianMechanicalRelaxation(mech_potential, relaxation_steps=10, kT=1., dt=1e-4)\n",
    "])"
   ]
  },
  {
   "cell_type": "code",
   "execution_count": 7,
   "metadata": {},
   "outputs": [
    {
     "name": "stdout",
     "output_type": "stream",
     "text": [
      "Sequential(\n",
      "  substeps=(\n",
      "    CellGrowth(\n",
      "      max_radius=None,\n",
      "      growth_rate=None,\n",
      "      growth_type='linear',\n",
      "      _smoothing_exp=10.0\n",
      "    ),\n",
      "    BrownianMechanicalRelaxation(\n",
      "      mechanical_potential=MorsePotential(\n",
      "        epsilon=f64[],\n",
      "        alpha=f64[],\n",
      "        r_cutoff=20.0,\n",
      "        r_onset=15.0\n",
      "      ),\n",
      "      relaxation_steps=10,\n",
      "      dt=0.0001,\n",
      "      kT=1.0,\n",
      "      gamma=0.8,\n",
      "      discount=1.0\n",
      "    )\n",
      "  ),\n",
      "  _return_logp=False\n",
      ")\n"
     ]
    }
   ],
   "source": [
    "key, subkey = jax.random.split(key)\n",
    "\n",
    "g = eqx.filter_grad(avg_dist_loss)(model, istate, subkey, 100)\n",
    "\n",
    "print(g)"
   ]
  },
  {
   "cell_type": "code",
   "execution_count": 8,
   "metadata": {},
   "outputs": [
    {
     "name": "stdout",
     "output_type": "stream",
     "text": [
      "Gradient for epsilon:\t-0.013515793926884779\n",
      "Gradient for aplha:\t0.02199258814469696\n"
     ]
    }
   ],
   "source": [
    "print(f'Gradient for epsilon:\\t{g.substeps[1].mechanical_potential.epsilon}')\n",
    "print(f'Gradient for aplha:\\t{g.substeps[1].mechanical_potential.alpha}')"
   ]
  },
  {
   "cell_type": "markdown",
   "metadata": {},
   "source": [
    "If we want instead to calculate gradients with respect to the cell max radius while keeping the cell-cell adhesion strength fixed we just need to change the data type of the appropriate parameters:"
   ]
  },
  {
   "cell_type": "code",
   "execution_count": 9,
   "metadata": {},
   "outputs": [],
   "source": [
    "### DEFINE SIMULATION STEP\n",
    "\n",
    "\n",
    "mech_potential = jxm.env.mechanics.MorsePotential(epsilon=3., alpha=3., r_cutoff=20., r_onset=15.)\n",
    "\n",
    "\n",
    "model = jxm.Sequential([\n",
    "\n",
    "    #cell radius grows linearly in time\n",
    "    jxm.env.CellGrowth(growth_rate=.005, max_radius=np.asarray(2.), growth_type='linear'),\n",
    "\n",
    "    #cells move with brownian dynamics for 100 steps after each growth step\n",
    "    jxm.env.mechanics.BrownianMechanicalRelaxation(mech_potential, relaxation_steps=10, kT=1., dt=1e-4)\n",
    "])"
   ]
  },
  {
   "cell_type": "code",
   "execution_count": 10,
   "metadata": {},
   "outputs": [
    {
     "name": "stdout",
     "output_type": "stream",
     "text": [
      "Sequential(\n",
      "  substeps=(\n",
      "    CellGrowth(\n",
      "      max_radius=f64[],\n",
      "      growth_rate=None,\n",
      "      growth_type='linear',\n",
      "      _smoothing_exp=10.0\n",
      "    ),\n",
      "    BrownianMechanicalRelaxation(\n",
      "      mechanical_potential=MorsePotential(\n",
      "        epsilon=None,\n",
      "        alpha=None,\n",
      "        r_cutoff=20.0,\n",
      "        r_onset=15.0\n",
      "      ),\n",
      "      relaxation_steps=10,\n",
      "      dt=0.0001,\n",
      "      kT=1.0,\n",
      "      gamma=0.8,\n",
      "      discount=1.0\n",
      "    )\n",
      "  ),\n",
      "  _return_logp=False\n",
      ")\n"
     ]
    }
   ],
   "source": [
    "key, subkey = jax.random.split(key)\n",
    "\n",
    "g = eqx.filter_grad(avg_dist_loss)(model, istate, subkey, 100)\n",
    "\n",
    "print(g)"
   ]
  },
  {
   "cell_type": "code",
   "execution_count": 11,
   "metadata": {},
   "outputs": [
    {
     "name": "stdout",
     "output_type": "stream",
     "text": [
      "Gradient for max_radius:\t-0.0005279311107829494\n"
     ]
    }
   ],
   "source": [
    "print(f'Gradient for max_radius:\\t{g.substeps[0].max_radius}')"
   ]
  },
  {
   "cell_type": "markdown",
   "metadata": {},
   "source": [
    "## Stochastic Simulation Paths\n",
    "\n",
    "In this case the simulation contains at least one stochastic (non-differentiable) step, e.g. cell division."
   ]
  },
  {
   "cell_type": "code",
   "execution_count": 12,
   "metadata": {},
   "outputs": [
    {
     "name": "stdout",
     "output_type": "stream",
     "text": [
      "CellStateDivision(\n",
      "  displacement=<function displacement_fn>,\n",
      "  shift=<function shift_fn>,\n",
      "  position=f64[20,2],\n",
      "  celltype=f64[20,1],\n",
      "  radius=f64[20,1],\n",
      "  division=f64[20,1]\n",
      ")\n"
     ]
    }
   ],
   "source": [
    "### CREATE INITIAL STATE\n",
    "\n",
    "class CellStateDivision(jxm.BaseCellState):\n",
    "    division: np.ndarray\n",
    "\n",
    "\n",
    "N_CELLS_INIT = 3\n",
    "N_CELLS_ADD = 17\n",
    "\n",
    "\n",
    "### INITIALIZE FIELD VALUES\n",
    "\n",
    "displacement_fn, shift_fn = jax_md.space.free()\n",
    "\n",
    "key, pos_subkey, rad_subkey = jax.random.split(key, 3)\n",
    "pos = jax.random.uniform(pos_subkey, (N_CELLS_INIT, 2), minval=-5.0, maxval=5.0)\n",
    "ctype = np.ones((N_CELLS_INIT,1))\n",
    "rad = jax.nn.relu(jax.random.normal(shape=(N_CELLS_INIT, 1), key=rad_subkey)*.1 + .3)\n",
    "div = np.ones((N_CELLS_INIT,1))\n",
    "\n",
    "\n",
    "istate = CellStateDivision(displacement=displacement_fn, shift=shift_fn, position=pos, celltype=ctype, radius=rad, division=div)\n",
    "\n",
    "istate = istate.elongate(N_CELLS_ADD)\n",
    "\n",
    "print(istate)"
   ]
  },
  {
   "cell_type": "markdown",
   "metadata": {},
   "source": [
    "### Straight-Through Gradient Estimator\n",
    "\n",
    "One way to deal with non-differentiable operations is to just ignore them and set their derivative to an arbitrary number (usually 1). This is called the Straight-Through Gradient Estimator.\n",
    "\n",
    "See notebook `Tutorial 01` for more detail."
   ]
  },
  {
   "cell_type": "code",
   "execution_count": 13,
   "metadata": {},
   "outputs": [],
   "source": [
    "### DEFINE SIMULATION STEP\n",
    "\n",
    "mech_potential = jxm.env.mechanics.MorsePotential(epsilon=np.array(3.), alpha=np.array(3.), r_cutoff=20., r_onset=15.)\n",
    "\n",
    "model = jxm.Sequential([\n",
    "\n",
    "    ### STRAIGHT THROUGH ALREDY IMPLEMENTED AS OPTION IN CELL DIVISION STEP\n",
    "    jxm.env.CellDivision(straight_through=True),\n",
    "\n",
    "    #cell radius grows linearly in time\n",
    "    jxm.env.CellGrowth(growth_rate=.05, max_radius=2., growth_type='linear'),\n",
    "\n",
    "    #cells move with brownian dynamics for 100 steps after each growth step\n",
    "    jxm.env.mechanics.BrownianMechanicalRelaxation(mech_potential, relaxation_steps=10, kT=1., dt=1e-4)\n",
    "])"
   ]
  },
  {
   "cell_type": "markdown",
   "metadata": {},
   "source": [
    "In this case we can still use the deterministic loss function defined in the previous section, the stochastic steps will be skipped and their derivative set to 1. The gradient will be computed as if the simulation was deterministic (which is not to say that the numbers will be the same!!)."
   ]
  },
  {
   "cell_type": "code",
   "execution_count": 14,
   "metadata": {},
   "outputs": [
    {
     "name": "stdout",
     "output_type": "stream",
     "text": [
      "Sequential(\n",
      "  substeps=(\n",
      "    CellDivision(birth_radius_multiplier=None, straight_through=None),\n",
      "    CellGrowth(\n",
      "      max_radius=None,\n",
      "      growth_rate=None,\n",
      "      growth_type='linear',\n",
      "      _smoothing_exp=10.0\n",
      "    ),\n",
      "    BrownianMechanicalRelaxation(\n",
      "      mechanical_potential=MorsePotential(\n",
      "        epsilon=f64[],\n",
      "        alpha=f64[],\n",
      "        r_cutoff=20.0,\n",
      "        r_onset=15.0\n",
      "      ),\n",
      "      relaxation_steps=10,\n",
      "      dt=0.0001,\n",
      "      kT=1.0,\n",
      "      gamma=0.8,\n",
      "      discount=1.0\n",
      "    )\n",
      "  ),\n",
      "  _return_logp=False\n",
      ")\n"
     ]
    }
   ],
   "source": [
    "key, subkey = jax.random.split(key)\n",
    "\n",
    "g = eqx.filter_grad(avg_dist_loss)(model, istate, subkey, N_CELLS_ADD)\n",
    "\n",
    "print(g)"
   ]
  },
  {
   "cell_type": "code",
   "execution_count": 15,
   "metadata": {},
   "outputs": [
    {
     "name": "stdout",
     "output_type": "stream",
     "text": [
      "Gradient for epsilon:\t0.021811989948283095\n",
      "Gradient for aplha:\t0.08566264107572719\n"
     ]
    }
   ],
   "source": [
    "print(f'Gradient for epsilon:\\t{g.substeps[-1].mechanical_potential.epsilon}')\n",
    "print(f'Gradient for aplha:\\t{g.substeps[-1].mechanical_potential.alpha}')"
   ]
  },
  {
   "cell_type": "markdown",
   "metadata": {},
   "source": [
    "### REINFORCE Approach\n",
    "\n",
    "Instead of computing the gradient of the loss function with respect to the parameters, we can compute the gradient of the expected loss function with respect to the parameters. The REINFORCE algorithm is the simplest way to do this.\n",
    "\n",
    "$$\n",
    "\\nabla_{\\theta} L(\\theta) = \\mathbb{E}_{\\tau \\sim p_{\\theta}(\\tau)} \\left[ \\nabla_{\\theta} \\log p_{\\theta}(\\tau) R(\\tau) \\right]\n",
    "$$\n",
    "\n",
    "Where $\\tau$ is a trajectory of the simulation, $p_{\\theta}(\\tau)$ is the probability of the trajectory under the policy $\\theta$, and $R(\\tau)$ is the reward of the trajectory.\n",
    "\n",
    "In practice, this means that we can relax the differentiability requirements of the simulation (we only need the gradient of the log-probabilities with respect to the parameters) and still be able to get something meaningful. This  comes at the cost of optimizing for average behaviors and, usually, higher variance in the gradients."
   ]
  },
  {
   "cell_type": "markdown",
   "metadata": {},
   "source": [
    "# Optimization\n",
    "\n",
    "Once we have the gradients of the simulation with respect to the chosen parameters, we can use them to optimize the parameters with respect to our objective function using a gradient-based optimization algorithm.\n",
    "\n",
    "Gradients calculated with respect to JAX-morph operations are compatible for use with any standard gradient-based optimizer in JAX or `optax`."
   ]
  },
  {
   "cell_type": "code",
   "execution_count": 16,
   "metadata": {},
   "outputs": [],
   "source": [
    "import optax\n",
    "from tqdm import trange"
   ]
  },
  {
   "cell_type": "markdown",
   "metadata": {},
   "source": [
    "## Deterministic Simulation Paths"
   ]
  },
  {
   "cell_type": "markdown",
   "metadata": {},
   "source": [
    "Suppose we only want to optimize the $\\epsilon$ parameter of the Morse potential to minimize the average distance of the cells to the center of mass of the cluster.\n"
   ]
  },
  {
   "cell_type": "code",
   "execution_count": 17,
   "metadata": {},
   "outputs": [
    {
     "name": "stdout",
     "output_type": "stream",
     "text": [
      "BaseCellState(\n",
      "  displacement=<function displacement_fn>,\n",
      "  shift=<function shift_fn>,\n",
      "  position=f64[10,2],\n",
      "  celltype=f64[10,1],\n",
      "  radius=f64[10,1]\n",
      ")\n"
     ]
    }
   ],
   "source": [
    "### CREATE INITIAL STATE\n",
    "\n",
    "\n",
    "N_CELLS = 10\n",
    "\n",
    "\n",
    "### INITIALIZE FIELD VALUES\n",
    "\n",
    "displacement_fn, shift_fn = jax_md.space.free()\n",
    "\n",
    "key, pos_subkey, rad_subkey = jax.random.split(key, 3)\n",
    "pos = jax.random.uniform(pos_subkey, (N_CELLS, 2), minval=-5.0, maxval=5.0)\n",
    "ctype = np.ones((N_CELLS,1))\n",
    "rad = jax.nn.relu(jax.random.normal(shape=(N_CELLS, 1), key=rad_subkey)*.1 + .3)\n",
    "\n",
    "\n",
    "istate = jxm.BaseCellState(displacement=displacement_fn, shift=shift_fn, position=pos, celltype=ctype, radius=rad)\n",
    "\n",
    "print(istate)"
   ]
  },
  {
   "cell_type": "code",
   "execution_count": 18,
   "metadata": {},
   "outputs": [],
   "source": [
    "### DEFINE SIMULATION STEP\n",
    "\n",
    "\n",
    "mech_potential = jxm.env.mechanics.MorsePotential(epsilon=np.asarray(3.), alpha=np.asarray(3.), r_cutoff=50., r_onset=25.)\n",
    "\n",
    "\n",
    "model = jxm.Sequential([\n",
    "\n",
    "    #cell radius grows linearly in time\n",
    "    jxm.env.CellGrowth(growth_rate=.005, max_radius=2., growth_type='linear'),\n",
    "\n",
    "    #cells move with brownian dynamics for 100 steps after each growth step\n",
    "    jxm.env.mechanics.BrownianMechanicalRelaxation(mech_potential, relaxation_steps=10, kT=1., dt=1e-4)\n",
    "])"
   ]
  },
  {
   "cell_type": "markdown",
   "metadata": {},
   "source": [
    "### Training loop (SGD)\n",
    "\n",
    "In order to take full advantage of `Equinox`'s capabilities, we need to split the model into the static and the differentiable parts before feeding the differentiable part to the optimizer. We do this by using `eqx.filter` to separate the jax.array parameters from the rest of the model.\n",
    "\n",
    "We also need to use `eqx.apply_updates` to apply the updates to the model instead of `optax.apply_updates` to ensure that the updates are only applied to the differentiable part of the model.\n",
    "\n",
    "Apart from these two small changes, everything runs pretty much as usual.\n",
    "\n",
    "**NOTE:** In this simple implementation we are only running one single simulation per optimization step. We show below how to batch gradients calculations to reduce noise in the gradients."
   ]
  },
  {
   "cell_type": "code",
   "execution_count": 19,
   "metadata": {},
   "outputs": [
    {
     "name": "stderr",
     "output_type": "stream",
     "text": [
      "100%|██████████| 1500/1500 [00:33<00:00, 44.26it/s]\n"
     ]
    }
   ],
   "source": [
    "N_SIM_STEPS = 100 #length of each forward simulation\n",
    "EPOCHS = 1500\n",
    "\n",
    "\n",
    "#function that computes the loss and gradient\n",
    "loss_and_grad = eqx.filter_jit(eqx.filter_value_and_grad(avg_dist_loss))\n",
    "\n",
    "#create copy of the model to be modified during traning\n",
    "opt_model = model.copy()\n",
    "\n",
    "\n",
    "#initialize optimizer\n",
    "optimizer = optax.adam(1e-2)\n",
    "opt_state = optimizer.init(eqx.filter(opt_model, eqx.is_array)) #initialize state\n",
    "\n",
    "\n",
    "losses = []\n",
    "\n",
    "for epoch in trange(EPOCHS):\n",
    "\n",
    "    key, subkey = jax.random.split(key)\n",
    "\n",
    "    #compute gradient and loss\n",
    "    loss, grad = loss_and_grad(opt_model, istate, subkey, N_SIM_STEPS)\n",
    "\n",
    "    #update parameters\n",
    "    updates, opt_state = optimizer.update(grad, opt_state)\n",
    "\n",
    "    opt_model = eqx.apply_updates(opt_model, updates)\n",
    "\n",
    "    losses += [loss]\n",
    "        "
   ]
  },
  {
   "cell_type": "code",
   "execution_count": 20,
   "metadata": {},
   "outputs": [
    {
     "data": {
      "image/png": "[encoded data removed]",
      "text/plain": [
       "<Figure size 640x480 with 1 Axes>"
      ]
     },
     "metadata": {},
     "output_type": "display_data"
    }
   ],
   "source": [
    "plt.plot(losses, 'r', alpha=.7)\n",
    "plt.xlabel('Epoch')\n",
    "plt.ylabel('Loss')\n",
    "\n",
    "plt.grid(alpha=.2)\n",
    "\n",
    "plt.show()\n"
   ]
  },
  {
   "cell_type": "code",
   "execution_count": 21,
   "metadata": {},
   "outputs": [
    {
     "name": "stdout",
     "output_type": "stream",
     "text": [
      "INITIAL PARAMETERS\n",
      "--------------------\n",
      "Initial epsilon:\t3.0\n",
      "Initial alpha:\t\t3.0\n",
      "\n",
      "\n",
      "OPTIMIZED PARAMETERS\n",
      "-------------------\n",
      "Optimized epsilon:\t20.70221600716584\n",
      "Optimized alpha:\t0.2899939449648634\n"
     ]
    }
   ],
   "source": [
    "print('INITIAL PARAMETERS\\n--------------------')\n",
    "print(f'Initial epsilon:\\t{model.substeps[1].mechanical_potential.epsilon}')\n",
    "print(f'Initial alpha:\\t\\t{model.substeps[1].mechanical_potential.alpha}')\n",
    "\n",
    "print('\\n')\n",
    "\n",
    "print('OPTIMIZED PARAMETERS\\n-------------------')\n",
    "print(f'Optimized epsilon:\\t{opt_model.substeps[1].mechanical_potential.epsilon}')\n",
    "print(f'Optimized alpha:\\t{opt_model.substeps[1].mechanical_potential.alpha}')"
   ]
  },
  {
   "cell_type": "code",
   "execution_count": 22,
   "metadata": {},
   "outputs": [
    {
     "data": {
      "image/png": "[encoded data removed]",
      "text/plain": [
       "<Figure size 800x800 with 2 Axes>"
      ]
     },
     "metadata": {},
     "output_type": "display_data"
    }
   ],
   "source": [
    "#figure with two subplots\n",
    "fig, axs = plt.subplots(1, 2, figsize=(12, 6))\n",
    "\n",
    "fig.suptitle('Final simulation state', y=.77)\n",
    "\n",
    "\n",
    "fstate = jxm.simulate(model, istate, key=key, n_steps=N_SIM_STEPS)\n",
    "jxm.visualization.draw_circles_ctype(fstate, ax=axs[0])\n",
    "axs[0].set_title('Before training')\n",
    "axs[0].set_aspect('equal', 'box')\n",
    "axs[0].set_xlim(-10, 10)\n",
    "axs[0].set_ylim(-10, 10)\n",
    "\n",
    "\n",
    "fstate = jxm.simulate(opt_model, istate, key=key, n_steps=N_SIM_STEPS)\n",
    "jxm.visualization.draw_circles_ctype(fstate, ax=axs[1])\n",
    "axs[1].set_title('After training')\n",
    "axs[1].set_aspect('equal', 'box')\n",
    "axs[1].set_xlim(-10, 10)\n",
    "axs[1].set_ylim(-10, 10)\n",
    "\n",
    "\n",
    "plt.show()\n"
   ]
  },
  {
   "cell_type": "markdown",
   "metadata": {},
   "source": [
    "### Training loop (mini-batch SGD)\n",
    "\n",
    "We now average multiple gradient evaluations per step, reducing the noise in the gradients."
   ]
  },
  {
   "cell_type": "code",
   "execution_count": 23,
   "metadata": {},
   "outputs": [
    {
     "name": "stderr",
     "output_type": "stream",
     "text": [
      "100%|██████████| 1500/1500 [06:58<00:00,  3.59it/s]  \n"
     ]
    }
   ],
   "source": [
    "N_SIM_STEPS = 100 #length of each forward simulation\n",
    "EPOCHS = 1500\n",
    "BATCH_SIZE = 8\n",
    "\n",
    "#calculate average loss over a batch of simulations\n",
    "v_loss = lambda m, s, skeys, steps: jax.vmap(avg_dist_loss, in_axes=(None, None, 0, None))(m, s, skeys, steps).mean()\n",
    "\n",
    "#function that computes the loss and gradient\n",
    "loss_and_grad = eqx.filter_jit(eqx.filter_value_and_grad(v_loss))\n",
    "\n",
    "\n",
    "#create copy of the model to be modified during traning\n",
    "opt_model = model.copy()\n",
    "\n",
    "#initialize optimizer\n",
    "optimizer = optax.adam(1e-2)\n",
    "opt_state = optimizer.init(eqx.filter(opt_model, eqx.is_array)) #initialize state\n",
    "\n",
    "\n",
    "losses = []\n",
    "\n",
    "for epoch in trange(EPOCHS):\n",
    "\n",
    "    key, *subkeys = jax.random.split(key, BATCH_SIZE+1)\n",
    "    subkeys = np.asarray(subkeys)\n",
    "\n",
    "    #compute gradient and loss\n",
    "    loss, grad = loss_and_grad(opt_model, istate, subkeys, N_SIM_STEPS)\n",
    "\n",
    "    #update parameters\n",
    "    updates, opt_state = optimizer.update(grad, opt_state)\n",
    "\n",
    "    opt_model = eqx.apply_updates(opt_model, updates)\n",
    "\n",
    "    losses += [loss]\n",
    "        "
   ]
  },
  {
   "cell_type": "code",
   "execution_count": 24,
   "metadata": {},
   "outputs": [
    {
     "data": {
      "image/png": "[encoded data removed]",
      "text/plain": [
       "<Figure size 640x480 with 1 Axes>"
      ]
     },
     "metadata": {},
     "output_type": "display_data"
    }
   ],
   "source": [
    "plt.plot(losses, 'r', alpha=.7)\n",
    "plt.xlabel('Epoch')\n",
    "plt.ylabel('Loss')\n",
    "\n",
    "plt.grid(alpha=.2)\n",
    "\n",
    "plt.show()\n"
   ]
  },
  {
   "cell_type": "code",
   "execution_count": 25,
   "metadata": {},
   "outputs": [
    {
     "name": "stdout",
     "output_type": "stream",
     "text": [
      "INITIAL PARAMETERS\n",
      "--------------------\n",
      "Initial epsilon:\t3.0\n",
      "Initial alpha:\t\t3.0\n",
      "\n",
      "\n",
      "OPTIMIZED PARAMETERS\n",
      "-------------------\n",
      "Optimized epsilon:\t21.11992060693838\n",
      "Optimized alpha:\t0.29393645768197496\n"
     ]
    }
   ],
   "source": [
    "print('INITIAL PARAMETERS\\n--------------------')\n",
    "print(f'Initial epsilon:\\t{model.substeps[1].mechanical_potential.epsilon}')\n",
    "print(f'Initial alpha:\\t\\t{model.substeps[1].mechanical_potential.alpha}')\n",
    "\n",
    "print('\\n')\n",
    "\n",
    "print('OPTIMIZED PARAMETERS\\n-------------------')\n",
    "print(f'Optimized epsilon:\\t{opt_model.substeps[1].mechanical_potential.epsilon}')\n",
    "print(f'Optimized alpha:\\t{opt_model.substeps[1].mechanical_potential.alpha}')"
   ]
  },
  {
   "cell_type": "code",
   "execution_count": 26,
   "metadata": {},
   "outputs": [
    {
     "data": {
      "image/png": "[encoded data removed]",
      "text/plain": [
       "<Figure size 800x800 with 2 Axes>"
      ]
     },
     "metadata": {},
     "output_type": "display_data"
    }
   ],
   "source": [
    "#figure with two subplots\n",
    "fig, axs = plt.subplots(1, 2, figsize=(12, 6))\n",
    "\n",
    "#title closer to plots\n",
    "fig.suptitle('Final simulation state', y=.77)\n",
    "\n",
    "\n",
    "fstate = jxm.simulate(model, istate, key=key, n_steps=N_SIM_STEPS)\n",
    "jxm.visualization.draw_circles_ctype(fstate, ax=axs[0])\n",
    "axs[0].set_title('Before training')\n",
    "axs[0].set_aspect('equal', 'box')\n",
    "axs[0].set_xlim(-10, 10)\n",
    "axs[0].set_ylim(-10, 10)\n",
    "\n",
    "\n",
    "fstate = jxm.simulate(opt_model, istate, key=key, n_steps=N_SIM_STEPS)\n",
    "jxm.visualization.draw_circles_ctype(fstate, ax=axs[1])\n",
    "axs[1].set_title('After training')\n",
    "axs[1].set_aspect('equal', 'box')\n",
    "axs[1].set_xlim(-10, 10)\n",
    "axs[1].set_ylim(-10, 10)\n",
    "\n",
    "plt.show()\n"
   ]
  },
  {
   "cell_type": "code",
   "execution_count": null,
   "metadata": {},
   "outputs": [],
   "source": []
  },
  {
   "cell_type": "code",
   "execution_count": null,
   "metadata": {},
   "outputs": [],
   "source": []
  }
 ],
 "metadata": {
  "kernelspec": {
   "display_name": "jax-cpu",
   "language": "python",
   "name": "python3"
  },
  "language_info": {
   "codemirror_mode": {
    "name": "ipython",
    "version": 3
   },
   "file_extension": ".py",
   "mimetype": "text/x-python",
   "name": "python",
   "nbconvert_exporter": "python",
   "pygments_lexer": "ipython3",
   "version": "3.12.3"
  }
 },
 "nbformat": 4,
 "nbformat_minor": 2
}
