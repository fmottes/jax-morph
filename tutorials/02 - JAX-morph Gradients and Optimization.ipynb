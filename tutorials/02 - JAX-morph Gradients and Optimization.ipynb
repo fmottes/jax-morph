{
 "cells": [
  {
   "cell_type": "markdown",
   "metadata": {},
   "source": [
    "# JAX-MORPH: Gradients and Optimization\n",
    "\n",
    "The advantage of writing simulation in JAX is that we can easily compute gradients of the simulation with respect to the parameters. This can be used both to carry out sensitivity analysis and to optimize the parameters of the simulation with respect to some objective function.\n",
    "\n",
    "In this notebook we will show how to use JAX-MORPH to compute gradients of simulations and carry out gradient-based optimization in this setting."
   ]
  },
  {
   "cell_type": "markdown",
   "metadata": {},
   "source": [
    "# Imports & Utils"
   ]
  },
  {
   "cell_type": "code",
   "execution_count": 1,
   "metadata": {},
   "outputs": [],
   "source": [
    "%load_ext autoreload\n",
    "%autoreload 2"
   ]
  },
  {
   "cell_type": "code",
   "execution_count": 2,
   "metadata": {},
   "outputs": [],
   "source": [
    "import jax\n",
    "import jax.numpy as np\n",
    "jax.config.update(\"jax_enable_x64\", True)\n",
    "\n",
    "key = jax.random.PRNGKey(0)\n",
    "\n",
    "import jax_morph as jxm\n",
    "import equinox as eqx\n",
    "import jax_md\n",
    "\n",
    "\n",
    "import matplotlib.pyplot as plt"
   ]
  },
  {
   "cell_type": "markdown",
   "metadata": {},
   "source": [
    "## Animation functions"
   ]
  },
  {
   "cell_type": "code",
   "execution_count": 3,
   "metadata": {},
   "outputs": [],
   "source": [
    "from matplotlib.animation import FuncAnimation\n",
    "from IPython.display import HTML\n",
    "\n",
    "\n",
    "def animate_traj_ctype(trajectory, xlim=(-25, 25), ylim=(-25, 25)):\n",
    "\n",
    "    sim_steps = trajectory.position.shape[0]\n",
    "\n",
    "    def animate(i):\n",
    "\n",
    "        ax.clear()  # Clear the axis to remove the previous frame\n",
    "        ax.set_aspect('equal', 'box')\n",
    "        ax.set_xlim(xlim)\n",
    "        ax.set_ylim(ylim)\n",
    "        ax.set_xticks([])\n",
    "        ax.set_yticks([])\n",
    "\n",
    "        \n",
    "        state = jxm.BaseCellState(None,\n",
    "                                  None,\n",
    "                                  trajectory.position[i],\n",
    "                                  trajectory.celltype[i],\n",
    "                                  trajectory.radius[i],\n",
    "                                  )\n",
    "\n",
    "        jxm.visualization.draw_circles_ctype(state, ax=ax)\n",
    "\n",
    "    fig, ax = plt.subplots()\n",
    "    ax.set_aspect('equal', 'box')\n",
    "    ax.set_xlim(xlim)\n",
    "    ax.set_ylim(ylim)\n",
    "    ax.set_xticks([])\n",
    "    ax.set_yticks([])\n",
    "\n",
    "    anim = FuncAnimation(fig, animate, frames=sim_steps, interval=100)\n",
    "\n",
    "    html_anim = HTML(anim.to_jshtml())\n",
    "\n",
    "    plt.close()\n",
    "\n",
    "    return html_anim\n",
    "\n",
    "\n",
    "\n",
    "\n",
    "def animate_traj_chem(trajectory, chem=0, xlim=(-25, 25), ylim=(-25, 25), colorbar=False):\n",
    "\n",
    "    sim_steps = trajectory.position.shape[0]\n",
    "\n",
    "    cm = plt.cm.YlGn\n",
    "\n",
    "\n",
    "    #we only need the chemical field for the plot\n",
    "    class PlottingCellState(jxm.BaseCellState):\n",
    "        chemical: np.ndarray\n",
    "\n",
    "    def animate(i):\n",
    "\n",
    "        ax.clear()  # Clear the axis to remove the previous frame\n",
    "        ax.set_aspect('equal', 'box')\n",
    "        ax.set_xlim(xlim)\n",
    "        ax.set_ylim(ylim)\n",
    "        ax.set_xticks([])\n",
    "        ax.set_yticks([])\n",
    "\n",
    "        state = PlottingCellState(None,\n",
    "                            None,\n",
    "                            trajectory.position[i],\n",
    "                            trajectory.celltype[i],\n",
    "                            trajectory.radius[i],\n",
    "                            trajectory.chemical[i]\n",
    "                            )\n",
    "        \n",
    "\n",
    "        jxm.visualization.draw_circles_chem(state, chem, colorbar=False, cm=cm, ax=ax)\n",
    "\n",
    "    fig, ax = plt.subplots()\n",
    "    ax.set_aspect('equal', 'box')\n",
    "    ax.set_xlim(xlim)\n",
    "    ax.set_ylim(ylim)\n",
    "    ax.set_xticks([])\n",
    "    ax.set_yticks([])\n",
    "\n",
    "    if colorbar:\n",
    "        vmax = np.max(trajectory.chemical)\n",
    "\n",
    "        sm = plt.cm.ScalarMappable(cmap=cm, norm=plt.Normalize(vmin=0, vmax=vmax))\n",
    "        sm._A = []\n",
    "\n",
    "        cbar = fig.colorbar(sm, ax=ax, fraction=.05, alpha=.5) # rule of thumb\n",
    "        cbar.set_label('Conc. Chem. '+str(chem), labelpad=20)\n",
    "\n",
    "\n",
    "    anim = FuncAnimation(fig, animate, frames=sim_steps, interval=100)\n",
    "\n",
    "    html_anim = HTML(anim.to_jshtml())\n",
    "\n",
    "    plt.close()\n",
    "\n",
    "    return html_anim"
   ]
  },
  {
   "cell_type": "markdown",
   "metadata": {},
   "source": [
    "# Define simulation\n",
    "\n",
    "We define a simple simulation, following the same structure as in notebook 1. Cells move with brownian motion while growing and interacting mechanically via a Morse potential.\n",
    "\n",
    "Suppose we want to calculate the gradient of a function of the final output of a simulation (e.g. the average cell distance to the center of mass of the whole cluster) with respect to the parameters of the simulation (e.g. the cell-cell adhesion strength).\n",
    "\n",
    "JAX-MORPH is thought to take advantage of the features of the `Equinox` library for easy computation of gradients."
   ]
  },
  {
   "cell_type": "code",
   "execution_count": 4,
   "metadata": {},
   "outputs": [
    {
     "name": "stdout",
     "output_type": "stream",
     "text": [
      "BaseCellState(\n",
      "  displacement=<function displacement_fn>,\n",
      "  shift=<function shift_fn>,\n",
      "  position=f64[10,2],\n",
      "  celltype=f64[10,1],\n",
      "  radius=f64[10,1]\n",
      ")\n"
     ]
    }
   ],
   "source": [
    "### CREATE INITIAL STATE\n",
    "\n",
    "\n",
    "N_CELLS = 10\n",
    "\n",
    "\n",
    "### INITIALIZE FIELD VALUES\n",
    "\n",
    "displacement_fn, shift_fn = jax_md.space.free()\n",
    "\n",
    "key, pos_subkey, rad_subkey = jax.random.split(key, 3)\n",
    "pos = jax.random.uniform(pos_subkey, (N_CELLS, 2), minval=-5.0, maxval=5.0)\n",
    "ctype = np.ones((N_CELLS,1))\n",
    "rad = jax.nn.relu(jax.random.normal(shape=(N_CELLS, 1), key=rad_subkey)*.1 + .3)\n",
    "\n",
    "\n",
    "istate = jxm.BaseCellState(displacement=displacement_fn, shift=shift_fn, position=pos, celltype=ctype, radius=rad)\n",
    "\n",
    "print(istate)"
   ]
  },
  {
   "cell_type": "code",
   "execution_count": 5,
   "metadata": {},
   "outputs": [],
   "source": [
    "def avg_dist_loss(model, istate, run_key, n_steps):\n",
    "\n",
    "    fstate = jxm.simulate(model, istate, key=run_key, n_steps=n_steps)\n",
    "\n",
    "    #avg cell distance from center of cluster\n",
    "    center = np.mean(fstate.position, axis=0)\n",
    "    avg_dist = np.linalg.norm(fstate.position - center, axis=1).mean()\n",
    "\n",
    "    return avg_dist"
   ]
  },
  {
   "cell_type": "markdown",
   "metadata": {},
   "source": [
    "**NOTE:** The default setting is that all of the parameters declared as `jax.numpy` arrays are considered as trainable parameters and their gradients are computed. All other parameters are considered as fixed and their gradients are not computed.\n",
    "\n",
    "By changing the data type of the parameters, we can control which parameters are considered as trainable and which are not. This behavior is guaranteed to work as long as we use Equinox's filtered transformations to compute the gradients (e.g. `eqx.filter_grad`)."
   ]
  },
  {
   "cell_type": "code",
   "execution_count": 6,
   "metadata": {},
   "outputs": [],
   "source": [
    "### DEFINE SIMULATION STEP\n",
    "\n",
    "\n",
    "mech_potential = jxm.env.mechanics.MorsePotential(epsilon=np.asarray(3.), alpha=np.asarray(3.), r_cutoff=20., r_onset=15.)\n",
    "\n",
    "\n",
    "model = jxm.Sequential([\n",
    "\n",
    "    #cell radius grows linearly in time\n",
    "    jxm.env.CellGrowth(growth_rate=.005, max_radius=2., growth_type='linear'),\n",
    "\n",
    "    #cells move with brownian dynamics for 100 steps after each growth step\n",
    "    jxm.env.mechanics.BrownianMechanicalRelaxation(mech_potential, relaxation_steps=10, kT=1., dt=1e-4)\n",
    "])"
   ]
  },
  {
   "cell_type": "code",
   "execution_count": 7,
   "metadata": {},
   "outputs": [
    {
     "name": "stdout",
     "output_type": "stream",
     "text": [
      "Sequential(\n",
      "  substeps=(\n",
      "    CellGrowth(\n",
      "      max_radius=None,\n",
      "      growth_rate=None,\n",
      "      growth_type='linear',\n",
      "      _smoothing_exp=10.0\n",
      "    ),\n",
      "    BrownianMechanicalRelaxation(\n",
      "      mechanical_potential=MorsePotential(\n",
      "        epsilon=f64[],\n",
      "        alpha=f64[],\n",
      "        r_cutoff=20.0,\n",
      "        r_onset=15.0\n",
      "      ),\n",
      "      relaxation_steps=10,\n",
      "      dt=0.0001,\n",
      "      kT=1.0,\n",
      "      gamma=0.8,\n",
      "      discount=1.0\n",
      "    )\n",
      "  ),\n",
      "  _return_logp=False\n",
      ")\n"
     ]
    }
   ],
   "source": [
    "key, subkey = jax.random.split(key)\n",
    "\n",
    "g = eqx.filter_grad(avg_dist_loss)(model, istate, subkey, 100)\n",
    "\n",
    "print(g)"
   ]
  },
  {
   "cell_type": "code",
   "execution_count": 8,
   "metadata": {},
   "outputs": [
    {
     "data": {
      "text/plain": [
       "[Array(-0.01351579, dtype=float64, weak_type=True),\n",
       " Array(0.02199259, dtype=float64, weak_type=True)]"
      ]
     },
     "execution_count": 8,
     "metadata": {},
     "output_type": "execute_result"
    }
   ],
   "source": [
    "jax.tree.leaves(g)"
   ]
  },
  {
   "cell_type": "markdown",
   "metadata": {},
   "source": [
    "If we want instead to calculate gradients with respect to the cell max radius while keeping the cell-cell adhesion strength fixed we just need to change the data type of the appropriate parameters:"
   ]
  },
  {
   "cell_type": "code",
   "execution_count": 9,
   "metadata": {},
   "outputs": [],
   "source": [
    "### DEFINE SIMULATION STEP\n",
    "\n",
    "\n",
    "mech_potential = jxm.env.mechanics.MorsePotential(epsilon=3., alpha=3., r_cutoff=20., r_onset=15.)\n",
    "\n",
    "\n",
    "model = jxm.Sequential([\n",
    "\n",
    "    #cell radius grows linearly in time\n",
    "    jxm.env.CellGrowth(growth_rate=.005, max_radius=np.asarray(2.), growth_type='linear'),\n",
    "\n",
    "    #cells move with brownian dynamics for 100 steps after each growth step\n",
    "    jxm.env.mechanics.BrownianMechanicalRelaxation(mech_potential, relaxation_steps=10, kT=1., dt=1e-4)\n",
    "])"
   ]
  },
  {
   "cell_type": "code",
   "execution_count": 10,
   "metadata": {},
   "outputs": [
    {
     "name": "stdout",
     "output_type": "stream",
     "text": [
      "Sequential(\n",
      "  substeps=(\n",
      "    CellGrowth(\n",
      "      max_radius=f64[],\n",
      "      growth_rate=None,\n",
      "      growth_type='linear',\n",
      "      _smoothing_exp=10.0\n",
      "    ),\n",
      "    BrownianMechanicalRelaxation(\n",
      "      mechanical_potential=MorsePotential(\n",
      "        epsilon=None,\n",
      "        alpha=None,\n",
      "        r_cutoff=20.0,\n",
      "        r_onset=15.0\n",
      "      ),\n",
      "      relaxation_steps=10,\n",
      "      dt=0.0001,\n",
      "      kT=1.0,\n",
      "      gamma=0.8,\n",
      "      discount=1.0\n",
      "    )\n",
      "  ),\n",
      "  _return_logp=False\n",
      ")\n"
     ]
    }
   ],
   "source": [
    "key, subkey = jax.random.split(key)\n",
    "\n",
    "g = eqx.filter_grad(avg_dist_loss)(model, istate, subkey, 100)\n",
    "\n",
    "print(g)"
   ]
  },
  {
   "cell_type": "code",
   "execution_count": 11,
   "metadata": {},
   "outputs": [
    {
     "data": {
      "text/plain": [
       "[Array(-0.00052793, dtype=float64, weak_type=True)]"
      ]
     },
     "execution_count": 11,
     "metadata": {},
     "output_type": "execute_result"
    }
   ],
   "source": [
    "jax.tree.leaves(g)"
   ]
  },
  {
   "cell_type": "code",
   "execution_count": null,
   "metadata": {},
   "outputs": [],
   "source": []
  },
  {
   "cell_type": "code",
   "execution_count": 10,
   "metadata": {},
   "outputs": [
    {
     "name": "stdout",
     "output_type": "stream",
     "text": [
      "Output: [1. 2. 3.]\n",
      "Gradient: [4. 4. 4.]\n"
     ]
    }
   ],
   "source": [
    "import jax\n",
    "import jax.numpy as jnp\n",
    "\n",
    "# Define the forward function\n",
    "def f_fwd(x):\n",
    "    return x  # Identity operation\n",
    "\n",
    "# Define the backward function\n",
    "def f_bwd(res, g):\n",
    "    return (g * constant,)  # Multiply gradient by a constant\n",
    "\n",
    "# Apply the custom_vjp decorator\n",
    "f = jax.custom_vjp(f_fwd)\n",
    "\n",
    "# Define the custom VJP rules\n",
    "f.defvjp(lambda x: (x, None),  # Forward VJP rule\n",
    "         lambda res, g: f_bwd(res, g))  # Backward VJP rule\n",
    "\n",
    "# Example usage\n",
    "x = jnp.array([1.0, 2.0, 3.0])\n",
    "constant = 4.0  # Define the constant to multiply with gradient\n",
    "\n",
    "y = f(x)\n",
    "grad = jax.grad(lambda x: jnp.sum(f(x)))(x)\n",
    "print(\"Output:\", y)\n",
    "print(\"Gradient:\", grad)\n"
   ]
  },
  {
   "cell_type": "code",
   "execution_count": 15,
   "metadata": {},
   "outputs": [
    {
     "name": "stdout",
     "output_type": "stream",
     "text": [
      "Output: [1. 2. 3.]\n",
      "Gradient w.r.t x: [5. 5. 5.]\n"
     ]
    }
   ],
   "source": [
    "import jax\n",
    "import jax.numpy as jnp\n",
    "\n",
    "def f(x, c):\n",
    "    return x\n",
    "\n",
    "# Attach custom VJP rules to the function\n",
    "f = jax.custom_vjp(f)\n",
    "\n",
    "\n",
    "# Define the forward pass\n",
    "def f_fwd(x, c):\n",
    "    # Return the output and a tuple of residuals to be used in the backward pass\n",
    "    return x, (c,)\n",
    "\n",
    "# Define the backward pass\n",
    "def f_bwd(residuals, g):\n",
    "    # Extract the constant from the residuals\n",
    "    c, = residuals\n",
    "    # Multiply the gradient g by the constant c\n",
    "    return (g * c, None)  # None for the gradient w.r.t. constant\n",
    "\n",
    "# Set the forward and backward functions\n",
    "f.defvjp(f_fwd, f_bwd)\n",
    "\n",
    "# Test the function\n",
    "x = jnp.array([1.0, 2.0, 3.0])\n",
    "c = 5.0\n",
    "y = f(x, c)\n",
    "grad = jax.grad(lambda x: jnp.sum(f(x,c)))(x)\n",
    "print(\"Output:\", y)\n",
    "print(\"Gradient w.r.t x:\", grad)\n"
   ]
  },
  {
   "cell_type": "code",
   "execution_count": null,
   "metadata": {},
   "outputs": [],
   "source": []
  }
 ],
 "metadata": {
  "kernelspec": {
   "display_name": "jax-cpu",
   "language": "python",
   "name": "python3"
  },
  "language_info": {
   "codemirror_mode": {
    "name": "ipython",
    "version": 3
   },
   "file_extension": ".py",
   "mimetype": "text/x-python",
   "name": "python",
   "nbconvert_exporter": "python",
   "pygments_lexer": "ipython3",
   "version": "3.12.3"
  }
 },
 "nbformat": 4,
 "nbformat_minor": 2
}
