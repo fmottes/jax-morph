{
 "cells": [
  {
   "cell_type": "code",
   "execution_count": 1,
   "id": "dcd24da8-f1f7-4d11-b040-2c452533079f",
   "metadata": {},
   "outputs": [],
   "source": [
    "import os\n",
    "os.environ[\"XLA_PYTHON_CLIENT_PREALLOCATE\"]=\"false\""
   ]
  },
  {
   "cell_type": "code",
   "execution_count": 2,
   "id": "dda2f33e-35cb-4d30-a16f-3782e1f778f6",
   "metadata": {},
   "outputs": [],
   "source": [
    "import matplotlib.pyplot as plt\n",
    "import jax.numpy as np\n",
    "plt.rcParams.update({'font.size': 25})"
   ]
  },
  {
   "cell_type": "code",
   "execution_count": 3,
   "id": "5101071c-87d0-4aa3-b756-b121947994da",
   "metadata": {},
   "outputs": [
    {
     "name": "stdout",
     "output_type": "stream",
     "text": [
      "/n/home10/rdeshpande/morphogenesis/jax-morph\n"
     ]
    }
   ],
   "source": [
    "%cd ../.."
   ]
  },
  {
   "cell_type": "code",
   "execution_count": 4,
   "id": "1b4693fb-c453-4533-9afe-2945063d7ac6",
   "metadata": {},
   "outputs": [],
   "source": [
    "from jax import random, vmap\n",
    "from jax_md import space, quantity, util\n",
    "import jax_md.dataclasses as jdc\n",
    "\n",
    "########## IMPORT JAX-MORPH FUNCTIONS ##########\n",
    "################################################\n",
    "\n",
    "from jax_morph.datastructures import SpaceFunc\n",
    "from jax_morph.utils import _maybe_array, logistic\n",
    "from jax_morph.simulation import simulation, sim_trajectory\n",
    "\n",
    "from jax_morph.division_and_growth.cell_division import S_cell_division, S_cell_div_indep, S_cell_div_indep_MC\n",
    "from jax_morph.division_and_growth.cell_growth import S_grow_cells\n",
    "\n",
    "from jax_morph.mechanics.morse import S_mech_morse_relax\n",
    "from jax_morph.cell_internals.stress import S_set_stress\n",
    "from jax_morph.chemicals.secdiff import S_ss_chemfield\n",
    "\n",
    "from jax_morph.cell_internals.divrates import S_set_divrate, div_nn\n",
    "from jax_morph.cell_internals.secretion import sec_nn\n",
    "from jax_morph.cell_internals.grad_estimate import S_chemical_gradients\n",
    "from jax_morph.cell_internals.hidden_state import hidden_state_nn, S_hidden_state\n",
    "\n",
    "from jax_morph.initial_states import init_state_grow\n",
    "from jax_morph.visualization import draw_circles_ctype, draw_circles_chem, draw_circles_divrate, draw_circles\n",
    "from Ramya.mech_homogeneous_growth.chemical import S_fixed_chemfield\n",
    "\n",
    "from functools import partial\n",
    "import equinox as eqx\n",
    "import haiku as hk\n",
    "\n",
    "# For saving data\n",
    "import pickle\n",
    "import os\n",
    "\n",
    "# Utils for easier organization\n",
    "from Ramya.utils.gene_utils import default_params, build_sim_from_params, run_optimization\n",
    "from Ramya.utils.gene_utils import position_sum_of_squares, v_metric"
   ]
  },
  {
   "cell_type": "code",
   "execution_count": 5,
   "id": "8e05349b-6fc5-44df-9de3-0462d955c91b",
   "metadata": {},
   "outputs": [],
   "source": [
    "import warnings\n",
    "warnings.filterwarnings('ignore')\n",
    "from Francesco.ALIFE_plots import alife_utils\n",
    "from Ramya.utils import gene_utils\n",
    "from copy import deepcopy\n",
    "import networkx as nx"
   ]
  },
  {
   "cell_type": "code",
   "execution_count": 6,
   "id": "019c6902-2acd-4ec4-b516-20dcad6fa39d",
   "metadata": {},
   "outputs": [],
   "source": [
    "%load_ext autoreload\n",
    "%autoreload 2"
   ]
  },
  {
   "cell_type": "code",
   "execution_count": 10,
   "id": "60aad98d-068d-4bee-b777-333e6e6266e1",
   "metadata": {},
   "outputs": [
    {
     "name": "stdout",
     "output_type": "stream",
     "text": [
      "analysis_francesco.ipynb\n",
      "analysis.ipynb\n",
      "elongation_100_loss.pkl\n",
      "elongation_100_params.pkl\n",
      "elongation_1.pkl\n",
      "elongation_2_loss.pkl\n",
      "elongation_2_params.pkl\n",
      "elongation_decay_0.0_2_loss.pkl\n",
      "elongation_decay_0.0_2_params.pkl\n",
      "elongation_decay_0.0_50_loss.pkl\n",
      "elongation_decay_0.0_50_params.pkl\n",
      "elongation_decay_0.8_30_loss.pkl\n",
      "elongation_decay_0.8_30_params.pkl\n",
      "\u001b[0m\u001b[01;34mfigures\u001b[0m/\n",
      "homogeneous_growth_100_hidden_8_grads\n",
      "homogeneous_growth_100_hidden_8_grads_power_law\n",
      "homogeneous_growth_100_hidden_8_loss\n",
      "homogeneous_growth_100_hidden_8_loss_power_law\n",
      "homogeneous_growth_100_hidden_8_params\n",
      "homogeneous_growth_100_hidden_8_params_power_law\n",
      "vshape_100_loss.pkl\n",
      "vshape_100_params.pkl\n",
      "vshape_2_loss.pkl\n",
      "vshape_2loss.pkl\n",
      "vshape_2_params.pkl\n",
      "vshape_2params.pkl\n",
      "vshape_2.pkl\n",
      "vshape_30_loss.pkl\n",
      "vshape_30_params.pkl\n",
      "vshape_gene_1_loss.pkl\n",
      "vshape_gene_1_params.pkl\n"
     ]
    }
   ],
   "source": [
    "%ls ../data/paper"
   ]
  },
  {
   "cell_type": "markdown",
   "id": "dea2e53c-2c25-4d22-9ebd-96ae1c22bc22",
   "metadata": {},
   "source": [
    "# V-shape"
   ]
  },
  {
   "cell_type": "code",
   "execution_count": 8,
   "id": "8297afe7-2228-4b02-8ae6-27bede91e862",
   "metadata": {},
   "outputs": [
    {
     "ename": "FileNotFoundError",
     "evalue": "[Errno 2] No such file or directory: '../data/paper/vshape_gene_loss.pkl'",
     "output_type": "error",
     "traceback": [
      "\u001b[0;31m---------------------------------------------------------------------------\u001b[0m",
      "\u001b[0;31mFileNotFoundError\u001b[0m                         Traceback (most recent call last)",
      "Cell \u001b[0;32mIn[8], line 1\u001b[0m\n\u001b[0;32m----> 1\u001b[0m \u001b[38;5;28;01mwith\u001b[39;00m \u001b[38;5;28;43mopen\u001b[39;49m\u001b[43m(\u001b[49m\u001b[38;5;124;43m'\u001b[39;49m\u001b[38;5;124;43m../data/paper/vshape_gene_loss.pkl\u001b[39;49m\u001b[38;5;124;43m'\u001b[39;49m\u001b[43m,\u001b[49m\u001b[43m \u001b[49m\u001b[38;5;124;43m'\u001b[39;49m\u001b[38;5;124;43mrb\u001b[39;49m\u001b[38;5;124;43m'\u001b[39;49m\u001b[43m)\u001b[49m \u001b[38;5;28;01mas\u001b[39;00m handle:\n\u001b[1;32m      2\u001b[0m     v_loss \u001b[38;5;241m=\u001b[39m pickle\u001b[38;5;241m.\u001b[39mload(handle)\n\u001b[1;32m      3\u001b[0m \u001b[38;5;28;01mwith\u001b[39;00m \u001b[38;5;28mopen\u001b[39m(\u001b[38;5;124m'\u001b[39m\u001b[38;5;124m../data/paper/vshape_gene_params.pkl\u001b[39m\u001b[38;5;124m'\u001b[39m, \u001b[38;5;124m'\u001b[39m\u001b[38;5;124mrb\u001b[39m\u001b[38;5;124m'\u001b[39m) \u001b[38;5;28;01mas\u001b[39;00m handle:\n",
      "File \u001b[0;32m~/.local/lib/python3.10/site-packages/IPython/core/interactiveshell.py:284\u001b[0m, in \u001b[0;36m_modified_open\u001b[0;34m(file, *args, **kwargs)\u001b[0m\n\u001b[1;32m    277\u001b[0m \u001b[38;5;28;01mif\u001b[39;00m file \u001b[38;5;129;01min\u001b[39;00m {\u001b[38;5;241m0\u001b[39m, \u001b[38;5;241m1\u001b[39m, \u001b[38;5;241m2\u001b[39m}:\n\u001b[1;32m    278\u001b[0m     \u001b[38;5;28;01mraise\u001b[39;00m \u001b[38;5;167;01mValueError\u001b[39;00m(\n\u001b[1;32m    279\u001b[0m         \u001b[38;5;124mf\u001b[39m\u001b[38;5;124m\"\u001b[39m\u001b[38;5;124mIPython won\u001b[39m\u001b[38;5;124m'\u001b[39m\u001b[38;5;124mt let you open fd=\u001b[39m\u001b[38;5;132;01m{\u001b[39;00mfile\u001b[38;5;132;01m}\u001b[39;00m\u001b[38;5;124m by default \u001b[39m\u001b[38;5;124m\"\u001b[39m\n\u001b[1;32m    280\u001b[0m         \u001b[38;5;124m\"\u001b[39m\u001b[38;5;124mas it is likely to crash IPython. If you know what you are doing, \u001b[39m\u001b[38;5;124m\"\u001b[39m\n\u001b[1;32m    281\u001b[0m         \u001b[38;5;124m\"\u001b[39m\u001b[38;5;124myou can use builtins\u001b[39m\u001b[38;5;124m'\u001b[39m\u001b[38;5;124m open.\u001b[39m\u001b[38;5;124m\"\u001b[39m\n\u001b[1;32m    282\u001b[0m     )\n\u001b[0;32m--> 284\u001b[0m \u001b[38;5;28;01mreturn\u001b[39;00m \u001b[43mio_open\u001b[49m\u001b[43m(\u001b[49m\u001b[43mfile\u001b[49m\u001b[43m,\u001b[49m\u001b[43m \u001b[49m\u001b[38;5;241;43m*\u001b[39;49m\u001b[43margs\u001b[49m\u001b[43m,\u001b[49m\u001b[43m \u001b[49m\u001b[38;5;241;43m*\u001b[39;49m\u001b[38;5;241;43m*\u001b[39;49m\u001b[43mkwargs\u001b[49m\u001b[43m)\u001b[49m\n",
      "\u001b[0;31mFileNotFoundError\u001b[0m: [Errno 2] No such file or directory: '../data/paper/vshape_gene_loss.pkl'"
     ]
    }
   ],
   "source": [
    "with open('../data/paper/vshape_gene_loss.pkl', 'rb') as handle:\n",
    "    v_loss = pickle.load(handle)\n",
    "with open('../data/paper/vshape_gene_params.pkl', 'rb') as handle:\n",
    "    v_params = pickle.load(handle)"
   ]
  },
  {
   "cell_type": "code",
   "execution_count": null,
   "id": "150aeada-1192-4e92-a374-1a3ce2385d41",
   "metadata": {},
   "outputs": [],
   "source": []
  },
  {
   "cell_type": "markdown",
   "id": "b4749cef-53e4-464a-9c66-f39dd5584680",
   "metadata": {},
   "source": [
    "# Elongation"
   ]
  },
  {
   "cell_type": "code",
   "execution_count": null,
   "id": "db9c1ac3-a52b-4d4f-ad28-610c0b0270f3",
   "metadata": {},
   "outputs": [],
   "source": []
  }
 ],
 "metadata": {
  "kernelspec": {
   "display_name": "ja_py310_new",
   "language": "python",
   "name": "ja_py310_new"
  },
  "language_info": {
   "codemirror_mode": {
    "name": "ipython",
    "version": 3
   },
   "file_extension": ".py",
   "mimetype": "text/x-python",
   "name": "python",
   "nbconvert_exporter": "python",
   "pygments_lexer": "ipython3",
   "version": "3.10.9"
  }
 },
 "nbformat": 4,
 "nbformat_minor": 5
}
