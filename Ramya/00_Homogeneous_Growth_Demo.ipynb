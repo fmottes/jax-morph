{
  "nbformat": 4,
  "nbformat_minor": 0,
  "metadata": {
    "colab": {
      "provenance": [],
      "authorship_tag": "ABX9TyPDz4gZY59F3Swc1NOUNQLZ",
      "include_colab_link": true
    },
    "kernelspec": {
      "name": "python3",
      "display_name": "Python 3"
    },
    "language_info": {
      "name": "python"
    }
  },
  "cells": [
    {
      "cell_type": "markdown",
      "metadata": {
        "id": "view-in-github",
        "colab_type": "text"
      },
      "source": [
        "<a href=\"https://colab.research.google.com/github/fmottes/jax-morph/blob/dev/Ramya/00_Homogeneous_Growth_Demo.ipynb\" target=\"_parent\"><img src=\"https://colab.research.google.com/assets/colab-badge.svg\" alt=\"Open In Colab\"/></a>"
      ]
    },
    {
      "cell_type": "markdown",
      "source": [
        "#Imports"
      ],
      "metadata": {
        "id": "jJ1feU3AaHW1"
      }
    },
    {
      "cell_type": "code",
      "execution_count": 1,
      "metadata": {
        "id": "KG5oCBMhZwIx"
      },
      "outputs": [],
      "source": [
        "import numpy as onp\n",
        "import matplotlib.pyplot as plt"
      ]
    },
    {
      "cell_type": "code",
      "source": [
        "!pip install jax-md\n",
        "import jax.numpy as np\n",
        "from jax_md.colab_tools import renderer"
      ],
      "metadata": {
        "colab": {
          "base_uri": "https://localhost:8080/",
          "height": 657
        },
        "id": "T3O7QKf2Z93T",
        "outputId": "0ff19d2e-23c9-4017-9ec9-7b34c6d864b8"
      },
      "execution_count": 3,
      "outputs": [
        {
          "output_type": "stream",
          "name": "stdout",
          "text": [
            "Looking in indexes: https://pypi.org/simple, https://us-python.pkg.dev/colab-wheels/public/simple/\n",
            "Collecting jax-md\n",
            "  Downloading jax_md-0.2.3-py2.py3-none-any.whl (124 kB)\n",
            "\u001b[K     |████████████████████████████████| 124 kB 5.2 MB/s \n",
            "\u001b[?25hCollecting jraph\n",
            "  Downloading jraph-0.0.6.dev0-py3-none-any.whl (90 kB)\n",
            "\u001b[K     |████████████████████████████████| 90 kB 7.8 MB/s \n",
            "\u001b[?25hCollecting dm-haiku>=0.0.2\n",
            "  Downloading dm_haiku-0.0.8-py3-none-any.whl (350 kB)\n",
            "\u001b[K     |████████████████████████████████| 350 kB 13.8 MB/s \n",
            "\u001b[?25hRequirement already satisfied: jaxlib>=0.1.52 in /usr/local/lib/python3.7/dist-packages (from jax-md) (0.3.22+cuda11.cudnn805)\n",
            "Collecting dataclasses\n",
            "  Downloading dataclasses-0.6-py3-none-any.whl (14 kB)\n",
            "Requirement already satisfied: absl-py in /usr/local/lib/python3.7/dist-packages (from jax-md) (1.3.0)\n",
            "Requirement already satisfied: jax>=0.1.73 in /usr/local/lib/python3.7/dist-packages (from jax-md) (0.3.23)\n",
            "Requirement already satisfied: numpy in /usr/local/lib/python3.7/dist-packages (from jax-md) (1.21.6)\n",
            "Collecting einops\n",
            "  Downloading einops-0.5.0-py3-none-any.whl (36 kB)\n",
            "Requirement already satisfied: typing-extensions in /usr/local/lib/python3.7/dist-packages (from dm-haiku>=0.0.2->jax-md) (4.1.1)\n",
            "Requirement already satisfied: tabulate>=0.8.9 in /usr/local/lib/python3.7/dist-packages (from dm-haiku>=0.0.2->jax-md) (0.8.10)\n",
            "Collecting jmp>=0.0.2\n",
            "  Downloading jmp-0.0.2-py3-none-any.whl (16 kB)\n",
            "Requirement already satisfied: etils[epath] in /usr/local/lib/python3.7/dist-packages (from jax>=0.1.73->jax-md) (0.8.0)\n",
            "Requirement already satisfied: scipy>=1.5 in /usr/local/lib/python3.7/dist-packages (from jax>=0.1.73->jax-md) (1.7.3)\n",
            "Requirement already satisfied: opt-einsum in /usr/local/lib/python3.7/dist-packages (from jax>=0.1.73->jax-md) (3.3.0)\n",
            "Requirement already satisfied: importlib_resources in /usr/local/lib/python3.7/dist-packages (from etils[epath]->jax>=0.1.73->jax-md) (5.10.0)\n",
            "Requirement already satisfied: zipp in /usr/local/lib/python3.7/dist-packages (from etils[epath]->jax>=0.1.73->jax-md) (3.10.0)\n",
            "Installing collected packages: jmp, jraph, einops, dm-haiku, dataclasses, jax-md\n",
            "Successfully installed dataclasses-0.6 dm-haiku-0.0.8 einops-0.5.0 jax-md-0.2.3 jmp-0.0.2 jraph-0.0.6.dev0\n"
          ]
        },
        {
          "output_type": "display_data",
          "data": {
            "application/vnd.colab-display-data+json": {
              "pip_warning": {
                "packages": [
                  "dataclasses"
                ]
              }
            }
          },
          "metadata": {}
        },
        {
          "output_type": "stream",
          "name": "stderr",
          "text": [
            "WARNING:absl:No GPU/TPU found, falling back to CPU. (Set TF_CPP_MIN_LOG_LEVEL=0 and rerun for more info.)\n"
          ]
        }
      ]
    },
    {
      "cell_type": "markdown",
      "source": [
        "#Helper functions"
      ],
      "metadata": {
        "id": "MXIGydMZaJuh"
      }
    },
    {
      "cell_type": "code",
      "source": [
        "def _maybe_array(name, value, train_params):\n",
        "    if train_params[name]:\n",
        "        return np.array(value)\n",
        "    else:\n",
        "        return value"
      ],
      "metadata": {
        "id": "cOgN7ddXaAer"
      },
      "execution_count": 4,
      "outputs": []
    },
    {
      "cell_type": "code",
      "source": [
        "def display_sim(traj, color_by, box_size, max=1.0, min=0.0, background_color=None):\n",
        "  # Create a color matrix of shape (time,particles,3)\n",
        "  heatmaap_colors = np.tile(np.array([1, 1, 1]),(traj.position.shape[0],traj.position.shape[1],1))\n",
        "  color_by = np.array(color_by)\n",
        "  # Normalize color by feature.\n",
        "  color_by = (color_by - min)/(max - min)\n",
        "  temp = np.stack((color_by,color_by,color_by), axis=2)\n",
        "  heatmap_colors = heatmap_colors*temp\n",
        "  renderer.render(box_size, \n",
        "                  { 'particles': renderer.Disk(traj.position, traj.radius*2.0, heatmap_colors)},\n",
        "                  buffer_size=9,  \n",
        "                  background_color=background_color)"
      ],
      "metadata": {
        "id": "rwqVLpAnaLtd"
      },
      "execution_count": 6,
      "outputs": []
    },
    {
      "cell_type": "markdown",
      "source": [
        "#Define Params"
      ],
      "metadata": {
        "id": "OhXMSf3FaXrj"
      }
    },
    {
      "cell_type": "code",
      "source": [
        "#@title Define Params\n",
        "# Define parameters --blue particles are type 1, orange are type 2\n",
        "# keep type casting to place vars in gpu memory\n",
        "\n",
        "# Number of chemical signals\n",
        "n_chem = 1\n",
        "\n",
        "\n",
        "### CELL DIMENSIONS\n",
        "cellRad = .5\n",
        "cellRadBirth = float(cellRad / np.sqrt(2))\n",
        "\n",
        "\n",
        "### DIFFUSION\n",
        "\n",
        "# No diffusion or secretion in my simulation - only external chemical field over positions\n",
        "diffCoeff = np.zeros(n_chem) \n",
        "degRate = np.zeros(n_chem) \n",
        "\n",
        "# diffusion cutoff\n",
        "r_cutoffDiff = 5.*cellRad\n",
        "r_onsetDiff = r_cutoffDiff - .5\n",
        "\n",
        "\n",
        "### SECRETION\n",
        "\n",
        "# sec rate that gives concentration 1 at source at SS\n",
        "sec_max_unitary = 2*np.sqrt(diffCoeff*degRate)\n",
        "\n",
        "sec_max = sec_max_unitary*np.ones((n_chem,), dtype=np.float32)\n",
        "#sec_max = sec_max.at[0].set(10)\n",
        "\n",
        "sec_gamma = 0.* np.ones((n_chem,n_chem), dtype=np.float32) #was 0.01\n",
        "sec_k = np.zeros((n_chem,n_chem), dtype=np.float32) \n",
        "\n",
        "\n",
        "# GROWTH\n",
        "\n",
        "div_gamma = np.array([0.001, -0.001])\n",
        "div_k = np.array([-20.0, 20.0])\n",
        "\n",
        "\n",
        "# MORSE POTENTIAL\n",
        "# always use python scalars\n",
        "alpha = 3.\n",
        "eps_TwoTwo = 2. #orange\n",
        "eps_OneOne = 2. #blue\n",
        "eps_OneTwo = 2. \n",
        "\n",
        "# morse cutoff\n",
        "r_cutoff = 4.*cellRad\n",
        "r_onset = r_cutoff - .2\n",
        "\n",
        "\n",
        "# number of gradient descent steps for Morse potential minimization\n",
        "mech_relaxation_steps = 10\n",
        "\n",
        "\n",
        "# Initialization and number of added cells. \n",
        "ncells_init = 100 #number of cells in the initial cluster\n",
        "n_ones_init = 100 #number of type-1 cell in the initail cluster\n",
        "ncells_add = 150"
      ],
      "metadata": {
        "cellView": "form",
        "id": "YlRVJ3l-aOMp"
      },
      "execution_count": 7,
      "outputs": []
    },
    {
      "cell_type": "code",
      "source": [
        "#@title Define trainable params\n",
        "train_params = {\n",
        "    'n_chem': False,\n",
        "    \n",
        "    'sec_max': False,\n",
        "    'sec_gamma': False,\n",
        "    'sec_k' : False,\n",
        "    \n",
        "    'div_gamma' : True,\n",
        "    'div_k' : True,\n",
        "    \n",
        "    'cellRad' : False,\n",
        "    'cellRadBirth' : False,\n",
        "    \n",
        "    'diffCoeff' : False,\n",
        "    'degRate' : False,\n",
        "    'r_onsetDiff' : False,\n",
        "    'r_cutoffDiff' : False,\n",
        "    \n",
        "    'alpha': False, \n",
        "    'eps_TwoTwo': False, \n",
        "    'eps_OneOne' : False,\n",
        "    'eps_OneTwo' : False,\n",
        "    'r_onset' : False,\n",
        "    'r_cutoff' : False,\n",
        "    'mech_relaxation_steps' : False,\n",
        "    \n",
        "    'ncells_init' : False,\n",
        "    'n_ones_init': False, \n",
        "    'ncells_add': False,\n",
        "    'epsilon_matrix': False\n",
        "}"
      ],
      "metadata": {
        "cellView": "form",
        "id": "o29364nkaZtU"
      },
      "execution_count": 9,
      "outputs": []
    },
    {
      "cell_type": "code",
      "source": [
        "#@title Initialize params\n",
        "params = {\n",
        "    'n_chem': n_chem,\n",
        "    \n",
        "    'sec_max': sec_max,\n",
        "    'sec_gamma': sec_gamma,\n",
        "    'sec_k' : sec_k,\n",
        "    \n",
        "    'div_gamma' : div_gamma,\n",
        "    'div_k' : div_k,\n",
        "    \n",
        "    'cellRad' : cellRad,\n",
        "    'cellRadBirth' : cellRadBirth,\n",
        "    \n",
        "    'diffCoeff' : diffCoeff,\n",
        "    'degRate' : degRate,\n",
        "    'r_onsetDiff' : r_onsetDiff,\n",
        "    'r_cutoffDiff' : r_cutoffDiff,\n",
        "    \n",
        "    'alpha': _maybe_array('alpha', alpha, train_params), \n",
        "    'eps_TwoTwo': _maybe_array('eps_TwoTwo', eps_TwoTwo, train_params), \n",
        "    'eps_OneOne' : _maybe_array('eps_OneOne', eps_OneOne, train_params),\n",
        "    'eps_OneTwo' : _maybe_array('eps_OneTwo', eps_OneTwo, train_params),\n",
        "    'r_onset' : r_onset,\n",
        "    'r_cutoff' : r_cutoff,\n",
        "    'mech_relaxation_steps' : mech_relaxation_steps,\n",
        "    \n",
        "    'ncells_init' : ncells_init,\n",
        "    'n_ones_init': n_ones_init, \n",
        "    'ncells_add': ncells_add,\n",
        "    }"
      ],
      "metadata": {
        "cellView": "form",
        "id": "xw5oxqLyafTw"
      },
      "execution_count": 11,
      "outputs": []
    },
    {
      "cell_type": "code",
      "source": [
        "import jax_morph\n",
        "from jax import random \n",
        "from jax_morph.datastructures import SpaceFunc\n",
        "from jax_md import space, quantity \n",
        "from Francesco.chem_twotypes.initial_states import init_state_grow"
      ],
      "metadata": {
        "colab": {
          "base_uri": "https://localhost:8080/",
          "height": 381
        },
        "id": "iD3aBj9EahUW",
        "outputId": "98a0b161-dc34-48d2-8f83-330473e7fc41"
      },
      "execution_count": 14,
      "outputs": [
        {
          "output_type": "error",
          "ename": "ModuleNotFoundError",
          "evalue": "ignored",
          "traceback": [
            "\u001b[0;31m---------------------------------------------------------------------------\u001b[0m",
            "\u001b[0;31mModuleNotFoundError\u001b[0m                       Traceback (most recent call last)",
            "\u001b[0;32m<ipython-input-14-76d1e3ff9a98>\u001b[0m in \u001b[0;36m<module>\u001b[0;34m\u001b[0m\n\u001b[0;32m----> 1\u001b[0;31m \u001b[0;32mimport\u001b[0m \u001b[0mjax_morph\u001b[0m\u001b[0;34m\u001b[0m\u001b[0;34m\u001b[0m\u001b[0m\n\u001b[0m\u001b[1;32m      2\u001b[0m \u001b[0;32mfrom\u001b[0m \u001b[0mjax\u001b[0m \u001b[0;32mimport\u001b[0m \u001b[0mrandom\u001b[0m\u001b[0;34m\u001b[0m\u001b[0;34m\u001b[0m\u001b[0m\n\u001b[1;32m      3\u001b[0m \u001b[0;32mfrom\u001b[0m \u001b[0mjax_morph\u001b[0m\u001b[0;34m.\u001b[0m\u001b[0mdatastructures\u001b[0m \u001b[0;32mimport\u001b[0m \u001b[0mSpaceFunc\u001b[0m\u001b[0;34m\u001b[0m\u001b[0;34m\u001b[0m\u001b[0m\n\u001b[1;32m      4\u001b[0m \u001b[0;32mfrom\u001b[0m \u001b[0mjax_md\u001b[0m \u001b[0;32mimport\u001b[0m \u001b[0mspace\u001b[0m\u001b[0;34m,\u001b[0m \u001b[0mquantity\u001b[0m\u001b[0;34m\u001b[0m\u001b[0;34m\u001b[0m\u001b[0m\n\u001b[1;32m      5\u001b[0m \u001b[0;32mfrom\u001b[0m \u001b[0mFrancesco\u001b[0m\u001b[0;34m.\u001b[0m\u001b[0mchem_twotypes\u001b[0m\u001b[0;34m.\u001b[0m\u001b[0minitial_states\u001b[0m \u001b[0;32mimport\u001b[0m \u001b[0minit_state_grow\u001b[0m\u001b[0;34m\u001b[0m\u001b[0;34m\u001b[0m\u001b[0m\n",
            "\u001b[0;31mModuleNotFoundError\u001b[0m: No module named 'jax_morph'",
            "",
            "\u001b[0;31m---------------------------------------------------------------------------\u001b[0;32m\nNOTE: If your import is failing due to a missing package, you can\nmanually install dependencies using either !pip or !apt.\n\nTo view examples of installing some common dependencies, click the\n\"Open Examples\" button below.\n\u001b[0;31m---------------------------------------------------------------------------\u001b[0m\n"
          ],
          "errorDetails": {
            "actions": [
              {
                "action": "open_url",
                "actionText": "Open Examples",
                "url": "/notebooks/snippets/importing_libraries.ipynb"
              }
            ]
          }
        }
      ]
    },
    {
      "cell_type": "code",
      "source": [],
      "metadata": {
        "id": "2KD_kSKmasAQ"
      },
      "execution_count": null,
      "outputs": []
    }
  ]
}